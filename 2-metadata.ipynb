{
 "cells": [
  {
   "cell_type": "markdown",
   "metadata": {
    "colab_type": "text",
    "id": "IZtnwJbt6oJT"
   },
   "source": [
    "## Explore metadata for a curated dataset\n",
    "\n",
    "This notebook shows how to explore the metadata of your JSTOR and/or Portico dataset using Python. The following processes are described:\n",
    "\n",
    "* Importing your dataset\n",
    "* Discovering the size and contents of your dataset\n",
    "* Turning your dataset into a pandas dataframe\n",
    "* Visualizing the contents of your dataset as a graph with pandas\n",
    "\n",
    "A familiarity with pandas is helpful but not required.\n",
    "____\n",
    "We import the [pandas](./key-terms.ipynb#pandas) module to help visualize and manipulate our data. Importing `as pd` allows us to call pandas' functions using the short phrase `pd` instead of typing out `pandas` each time. "
   ]
  },
  {
   "cell_type": "code",
   "execution_count": 96,
   "metadata": {
    "colab": {},
    "colab_type": "code",
    "collapsed": true,
    "id": "I9IRRS466oJU",
    "jupyter": {
     "outputs_hidden": true
    }
   },
   "outputs": [],
   "source": [
    "import pandas as pd"
   ]
  },
  {
   "cell_type": "markdown",
   "metadata": {},
   "source": [
    "We import the `Dataset` module from the `tdm_client` library. The tdm_client library contains functions for connecting to the JSTOR server containing our [corpus](./key-terms.ipynb#corpus) [dataset](./key-terms.ipynb#dataset). To analyze your dataset, use the [dataset ID](./key-terms.ipynb/#dataset-ID) provided when you created your [dataset](./key-terms.ipynb/#dataset). A copy of your [dataset ID](./key-terms.ipynb/#dataset-ID) was sent to your email when you created your [corpus](./key-terms.ipynb#corpus). It should look like a long series of characters surrounded by dashes. "
   ]
  },
  {
   "cell_type": "code",
   "execution_count": 97,
   "metadata": {
    "collapsed": true,
    "jupyter": {
     "outputs_hidden": true
    }
   },
   "outputs": [],
   "source": [
    "from tdm_client import Dataset"
   ]
  },
  {
   "cell_type": "markdown",
   "metadata": {
    "colab_type": "text",
    "id": "eOLLCN9o6oJW"
   },
   "source": [
    "We create a new variable **dset** and initialize its value using the **Dataset** function. A sample **dataset ID** featuring Shakespeare Quarterly (1950-2014) is provided here ('59c090b6-3851-3c65-e016-9181833b4a2c'). Pasting your unique **dataset ID** here will import your dataset from the JSTOR server.\n",
    "\n",
    "**Note**: If you are curious what is in your dataset, there is a download link in the email you received. The format and content of the files is described in the notebook [Building a Dataset](./1-building-a-dataset.ipynb). "
   ]
  },
  {
   "cell_type": "code",
   "execution_count": 98,
   "metadata": {
    "collapsed": true,
    "jupyter": {
     "outputs_hidden": true
    }
   },
   "outputs": [],
   "source": [
    "# Parameters:\n",
    "dataset_id = '59c090b6-3851-3c65-e016-9181833b4a2c'"
   ]
  },
  {
   "cell_type": "code",
   "execution_count": 99,
   "metadata": {
    "colab": {},
    "colab_type": "code",
    "collapsed": true,
    "id": "e1Bu4h0i6oJX",
    "jupyter": {
     "outputs_hidden": true
    }
   },
   "outputs": [],
   "source": [
    "dset = Dataset(dataset_id)"
   ]
  },
  {
   "cell_type": "markdown",
   "metadata": {},
   "source": [
    "Print the text of the query that built this dataset."
   ]
  },
  {
   "cell_type": "code",
   "execution_count": 100,
   "metadata": {
    "collapsed": true,
    "jupyter": {
     "outputs_hidden": true
    }
   },
   "outputs": [
    {
     "data": {
      "text/plain": [
       "'All documents from Portico published in Shakespeare Quarterly from 1700 - 2019'"
      ]
     },
     "execution_count": 100,
     "metadata": {},
     "output_type": "execute_result"
    }
   ],
   "source": [
    "dset.query_text()"
   ]
  },
  {
   "cell_type": "markdown",
   "metadata": {
    "colab_type": "text",
    "id": "bzyjBIZY6oJZ"
   },
   "source": [
    "Find total number of documents in the dataset using the `len()` function. "
   ]
  },
  {
   "cell_type": "code",
   "execution_count": 101,
   "metadata": {
    "colab": {
     "base_uri": "https://localhost:8080/",
     "height": 34
    },
    "colab_type": "code",
    "collapsed": true,
    "id": "XB-2QZjJ6oJZ",
    "jupyter": {
     "outputs_hidden": true
    },
    "outputId": "db111c1e-1cf3-4362-a335-b4412d099046"
   },
   "outputs": [
    {
     "data": {
      "text/plain": [
       "6687"
      ]
     },
     "execution_count": 101,
     "metadata": {},
     "output_type": "execute_result"
    }
   ],
   "source": [
    "len(dset)"
   ]
  },
  {
   "cell_type": "markdown",
   "metadata": {
    "colab_type": "text",
    "id": "JAVIm5UC6oJb"
   },
   "source": [
    "The dset variable now contains all the documents in our corpus. We can take a peak at our documents using in our dataset by taking a slice of the first five items."
   ]
  },
  {
   "cell_type": "code",
   "execution_count": 102,
   "metadata": {
    "colab": {
     "base_uri": "https://localhost:8080/",
     "height": 102
    },
    "colab_type": "code",
    "collapsed": true,
    "id": "viUMWDxT6oJc",
    "jupyter": {
     "outputs_hidden": true
    },
    "outputId": "a62e89ab-fe5c-4ad0-ef19-65f6172328dd"
   },
   "outputs": [
    {
     "data": {
      "text/plain": [
       "['http://www.jstor.org/stable/2869980',\n",
       " 'http://www.jstor.org/stable/2870198',\n",
       " 'http://www.jstor.org/stable/2870199',\n",
       " 'http://www.jstor.org/stable/2870209',\n",
       " 'http://www.jstor.org/stable/2870208']"
      ]
     },
     "execution_count": 102,
     "metadata": {},
     "output_type": "execute_result"
    }
   ],
   "source": [
    "dset.items[0:5]"
   ]
  },
  {
   "cell_type": "markdown",
   "metadata": {},
   "source": [
    "We can also check if a particular item is in our list if we know the stable url using the `in` or `not in` operators. Let's check to see if Shakespearean scholar Theodore B. Leinwand's article \"Shakespeare and the Middling Sort\" is in our dataset. From a JSTOR search, I know that the stable URL for the article is: https://www.jstor.org/stable/2871420 . We can put this stable URL in a string between single quotes and evaluate the phrase with `in dset.items`. If the article is in our dataset, we will receive `true`. If it is not our dataset, we will receive `false`. "
   ]
  },
  {
   "cell_type": "code",
   "execution_count": 103,
   "metadata": {
    "collapsed": true,
    "jupyter": {
     "outputs_hidden": true
    }
   },
   "outputs": [
    {
     "data": {
      "text/plain": [
       "True"
      ]
     },
     "execution_count": 103,
     "metadata": {},
     "output_type": "execute_result"
    }
   ],
   "source": [
    "'http://www.jstor.org/stable/2871420' in dset.items"
   ]
  },
  {
   "cell_type": "markdown",
   "metadata": {
    "colab_type": "text",
    "id": "toqiQRaZ6oJd"
   },
   "source": [
    "The document metadata can be retrieved by calling the `get_metadata` method. The metadata is a list of Python dictionaries containing attributes for each document. We create a new list variable `metadata` by using the `get_metadata` method on dset. "
   ]
  },
  {
   "cell_type": "code",
   "execution_count": 104,
   "metadata": {
    "colab": {},
    "colab_type": "code",
    "collapsed": true,
    "id": "L39GySgQ6oJe",
    "jupyter": {
     "outputs_hidden": true
    }
   },
   "outputs": [],
   "source": [
    "metadata = dset.get_metadata()"
   ]
  },
  {
   "cell_type": "markdown",
   "metadata": {
    "colab_type": "text",
    "id": "q67bV07z6oJf"
   },
   "source": [
    "Print the contents of **metadata** for the first document in the dataset. The data is displayed as a dictionary of key/value pairs. "
   ]
  },
  {
   "cell_type": "code",
   "execution_count": 105,
   "metadata": {
    "colab": {},
    "colab_type": "code",
    "collapsed": true,
    "id": "fUaaExvS6oJg",
    "jupyter": {
     "outputs_hidden": true
    }
   },
   "outputs": [
    {
     "name": "stdout",
     "output_type": "stream",
     "text": [
      "{'id': 'http://www.jstor.org/stable/2869980', 'docType': 'article', 'title': 'Review Article', 'creators': ['R. A. Foakes'], 'isPartOf': 'Shakespeare Quarterly', 'sourceCategory': ['Language & Literature', 'Humanities', 'Performing Arts', 'Arts'], 'pageStart': '275', 'url': 'http://www.jstor.org/stable/2869980', 'volumeNumber': '2', 'language': ['eng'], 'pageEnd': '276', 'pageCount': 2, 'pagination': 'pp. 275-276', 'datePublished': '1986-07-01T00:00:00Z', 'publicationYear': 1986, 'publisher': 'Folger Shakespeare Library', 'wordCount': 935, 'tdmCategory': ['Literature (General)', 'History General', 'English literature'], 'provider': 'jstor', 'outputFormat': ['unigram'], 'identifier': [{'name': 'issn', 'value': '00373222'}, {'name': 'oclc', 'value': '39852252'}, {'name': 'local_doi', 'value': '10.2307/2869980'}]}\n"
     ]
    }
   ],
   "source": [
    "print(metadata[0])"
   ]
  },
  {
   "cell_type": "markdown",
   "metadata": {
    "colab_type": "text",
    "id": "YHkQ1o7P6oJh"
   },
   "source": [
    "We can convert `metadata` to a Pandas dataframe to take advantage of its plotting and manipulation functions. This will help us learn more about what's in our metadata. We define this new dataframe as `df`."
   ]
  },
  {
   "cell_type": "code",
   "execution_count": 106,
   "metadata": {
    "colab": {},
    "colab_type": "code",
    "collapsed": true,
    "id": "EWaiiLtC6oJi",
    "jupyter": {
     "outputs_hidden": true
    }
   },
   "outputs": [],
   "source": [
    "df = pd.DataFrame(metadata)"
   ]
  },
  {
   "cell_type": "markdown",
   "metadata": {
    "colab_type": "text",
    "id": "rIDbi3SD6oJj"
   },
   "source": [
    "Print the first 5 rows of the dataframe `df` with the `head` attribute."
   ]
  },
  {
   "cell_type": "code",
   "execution_count": 107,
   "metadata": {
    "colab": {},
    "colab_type": "code",
    "collapsed": true,
    "id": "SIJ8H0pT6oJk",
    "jupyter": {
     "outputs_hidden": true
    }
   },
   "outputs": [
    {
     "data": {
      "text/html": [
       "<div>\n",
       "<style scoped>\n",
       "    .dataframe tbody tr th:only-of-type {\n",
       "        vertical-align: middle;\n",
       "    }\n",
       "\n",
       "    .dataframe tbody tr th {\n",
       "        vertical-align: top;\n",
       "    }\n",
       "\n",
       "    .dataframe thead th {\n",
       "        text-align: right;\n",
       "    }\n",
       "</style>\n",
       "<table border=\"1\" class=\"dataframe\">\n",
       "  <thead>\n",
       "    <tr style=\"text-align: right;\">\n",
       "      <th></th>\n",
       "      <th>id</th>\n",
       "      <th>docType</th>\n",
       "      <th>title</th>\n",
       "      <th>creators</th>\n",
       "      <th>isPartOf</th>\n",
       "      <th>sourceCategory</th>\n",
       "      <th>pageStart</th>\n",
       "      <th>url</th>\n",
       "      <th>volumeNumber</th>\n",
       "      <th>language</th>\n",
       "      <th>...</th>\n",
       "      <th>publicationYear</th>\n",
       "      <th>publisher</th>\n",
       "      <th>wordCount</th>\n",
       "      <th>tdmCategory</th>\n",
       "      <th>provider</th>\n",
       "      <th>outputFormat</th>\n",
       "      <th>identifier</th>\n",
       "      <th>abstract</th>\n",
       "      <th>bigramCount</th>\n",
       "      <th>trigramCount</th>\n",
       "    </tr>\n",
       "  </thead>\n",
       "  <tbody>\n",
       "    <tr>\n",
       "      <th>0</th>\n",
       "      <td>http://www.jstor.org/stable/2869980</td>\n",
       "      <td>article</td>\n",
       "      <td>Review Article</td>\n",
       "      <td>[R. A. Foakes]</td>\n",
       "      <td>Shakespeare Quarterly</td>\n",
       "      <td>[Language &amp; Literature, Humanities, Performing...</td>\n",
       "      <td>275</td>\n",
       "      <td>http://www.jstor.org/stable/2869980</td>\n",
       "      <td>2</td>\n",
       "      <td>[eng]</td>\n",
       "      <td>...</td>\n",
       "      <td>1986</td>\n",
       "      <td>Folger Shakespeare Library</td>\n",
       "      <td>935</td>\n",
       "      <td>[Literature (General), History General, Englis...</td>\n",
       "      <td>jstor</td>\n",
       "      <td>[unigram]</td>\n",
       "      <td>[{'name': 'issn', 'value': '00373222'}, {'name...</td>\n",
       "      <td>NaN</td>\n",
       "      <td>NaN</td>\n",
       "      <td>NaN</td>\n",
       "    </tr>\n",
       "    <tr>\n",
       "      <th>1</th>\n",
       "      <td>http://www.jstor.org/stable/2870198</td>\n",
       "      <td>article</td>\n",
       "      <td>Shakespeare in Sydney</td>\n",
       "      <td>[Robyn S. Heales]</td>\n",
       "      <td>Shakespeare Quarterly</td>\n",
       "      <td>[Language &amp; Literature, Humanities, Performing...</td>\n",
       "      <td>106</td>\n",
       "      <td>http://www.jstor.org/stable/2870198</td>\n",
       "      <td>1</td>\n",
       "      <td>[eng]</td>\n",
       "      <td>...</td>\n",
       "      <td>1986</td>\n",
       "      <td>Folger Shakespeare Library</td>\n",
       "      <td>2032</td>\n",
       "      <td>[Periodicals, Literature (General), Arts in ge...</td>\n",
       "      <td>jstor</td>\n",
       "      <td>[unigram]</td>\n",
       "      <td>[{'name': 'issn', 'value': '00373222'}, {'name...</td>\n",
       "      <td>NaN</td>\n",
       "      <td>NaN</td>\n",
       "      <td>NaN</td>\n",
       "    </tr>\n",
       "    <tr>\n",
       "      <th>2</th>\n",
       "      <td>http://www.jstor.org/stable/2870199</td>\n",
       "      <td>article</td>\n",
       "      <td>Shakespeare in the Berkshires, 1985</td>\n",
       "      <td>[Ronald R. Macdonald]</td>\n",
       "      <td>Shakespeare Quarterly</td>\n",
       "      <td>[Language &amp; Literature, Humanities, Performing...</td>\n",
       "      <td>108</td>\n",
       "      <td>http://www.jstor.org/stable/2870199</td>\n",
       "      <td>1</td>\n",
       "      <td>[eng]</td>\n",
       "      <td>...</td>\n",
       "      <td>1986</td>\n",
       "      <td>Folger Shakespeare Library</td>\n",
       "      <td>1805</td>\n",
       "      <td>[Literature (General), Periodicals, Academies ...</td>\n",
       "      <td>jstor</td>\n",
       "      <td>[unigram]</td>\n",
       "      <td>[{'name': 'issn', 'value': '00373222'}, {'name...</td>\n",
       "      <td>NaN</td>\n",
       "      <td>NaN</td>\n",
       "      <td>NaN</td>\n",
       "    </tr>\n",
       "    <tr>\n",
       "      <th>3</th>\n",
       "      <td>http://www.jstor.org/stable/2870209</td>\n",
       "      <td>article</td>\n",
       "      <td>Review Article</td>\n",
       "      <td>[Laura G. Bromley]</td>\n",
       "      <td>Shakespeare Quarterly</td>\n",
       "      <td>[Language &amp; Literature, Humanities, Performing...</td>\n",
       "      <td>136</td>\n",
       "      <td>http://www.jstor.org/stable/2870209</td>\n",
       "      <td>1</td>\n",
       "      <td>[eng]</td>\n",
       "      <td>...</td>\n",
       "      <td>1986</td>\n",
       "      <td>Folger Shakespeare Library</td>\n",
       "      <td>1023</td>\n",
       "      <td>[Socialism. Communism. Anarchism, Religions. M...</td>\n",
       "      <td>jstor</td>\n",
       "      <td>[unigram]</td>\n",
       "      <td>[{'name': 'issn', 'value': '00373222'}, {'name...</td>\n",
       "      <td>NaN</td>\n",
       "      <td>NaN</td>\n",
       "      <td>NaN</td>\n",
       "    </tr>\n",
       "    <tr>\n",
       "      <th>4</th>\n",
       "      <td>http://www.jstor.org/stable/2870208</td>\n",
       "      <td>article</td>\n",
       "      <td>Review Article</td>\n",
       "      <td>[James H. Maddox]</td>\n",
       "      <td>Shakespeare Quarterly</td>\n",
       "      <td>[Language &amp; Literature, Humanities, Performing...</td>\n",
       "      <td>135</td>\n",
       "      <td>http://www.jstor.org/stable/2870208</td>\n",
       "      <td>1</td>\n",
       "      <td>[eng]</td>\n",
       "      <td>...</td>\n",
       "      <td>1986</td>\n",
       "      <td>Folger Shakespeare Library</td>\n",
       "      <td>965</td>\n",
       "      <td>[English literature, Biography, Modern languag...</td>\n",
       "      <td>jstor</td>\n",
       "      <td>[unigram]</td>\n",
       "      <td>[{'name': 'issn', 'value': '00373222'}, {'name...</td>\n",
       "      <td>NaN</td>\n",
       "      <td>NaN</td>\n",
       "      <td>NaN</td>\n",
       "    </tr>\n",
       "  </tbody>\n",
       "</table>\n",
       "<p>5 rows × 24 columns</p>\n",
       "</div>"
      ],
      "text/plain": [
       "                                    id  docType  \\\n",
       "0  http://www.jstor.org/stable/2869980  article   \n",
       "1  http://www.jstor.org/stable/2870198  article   \n",
       "2  http://www.jstor.org/stable/2870199  article   \n",
       "3  http://www.jstor.org/stable/2870209  article   \n",
       "4  http://www.jstor.org/stable/2870208  article   \n",
       "\n",
       "                                 title               creators  \\\n",
       "0                       Review Article         [R. A. Foakes]   \n",
       "1                Shakespeare in Sydney      [Robyn S. Heales]   \n",
       "2  Shakespeare in the Berkshires, 1985  [Ronald R. Macdonald]   \n",
       "3                       Review Article     [Laura G. Bromley]   \n",
       "4                       Review Article      [James H. Maddox]   \n",
       "\n",
       "                isPartOf                                     sourceCategory  \\\n",
       "0  Shakespeare Quarterly  [Language & Literature, Humanities, Performing...   \n",
       "1  Shakespeare Quarterly  [Language & Literature, Humanities, Performing...   \n",
       "2  Shakespeare Quarterly  [Language & Literature, Humanities, Performing...   \n",
       "3  Shakespeare Quarterly  [Language & Literature, Humanities, Performing...   \n",
       "4  Shakespeare Quarterly  [Language & Literature, Humanities, Performing...   \n",
       "\n",
       "  pageStart                                  url volumeNumber language  ...  \\\n",
       "0       275  http://www.jstor.org/stable/2869980            2    [eng]  ...   \n",
       "1       106  http://www.jstor.org/stable/2870198            1    [eng]  ...   \n",
       "2       108  http://www.jstor.org/stable/2870199            1    [eng]  ...   \n",
       "3       136  http://www.jstor.org/stable/2870209            1    [eng]  ...   \n",
       "4       135  http://www.jstor.org/stable/2870208            1    [eng]  ...   \n",
       "\n",
       "  publicationYear                   publisher wordCount  \\\n",
       "0            1986  Folger Shakespeare Library       935   \n",
       "1            1986  Folger Shakespeare Library      2032   \n",
       "2            1986  Folger Shakespeare Library      1805   \n",
       "3            1986  Folger Shakespeare Library      1023   \n",
       "4            1986  Folger Shakespeare Library       965   \n",
       "\n",
       "                                         tdmCategory  provider outputFormat  \\\n",
       "0  [Literature (General), History General, Englis...     jstor    [unigram]   \n",
       "1  [Periodicals, Literature (General), Arts in ge...     jstor    [unigram]   \n",
       "2  [Literature (General), Periodicals, Academies ...     jstor    [unigram]   \n",
       "3  [Socialism. Communism. Anarchism, Religions. M...     jstor    [unigram]   \n",
       "4  [English literature, Biography, Modern languag...     jstor    [unigram]   \n",
       "\n",
       "                                          identifier abstract bigramCount  \\\n",
       "0  [{'name': 'issn', 'value': '00373222'}, {'name...      NaN         NaN   \n",
       "1  [{'name': 'issn', 'value': '00373222'}, {'name...      NaN         NaN   \n",
       "2  [{'name': 'issn', 'value': '00373222'}, {'name...      NaN         NaN   \n",
       "3  [{'name': 'issn', 'value': '00373222'}, {'name...      NaN         NaN   \n",
       "4  [{'name': 'issn', 'value': '00373222'}, {'name...      NaN         NaN   \n",
       "\n",
       "  trigramCount  \n",
       "0          NaN  \n",
       "1          NaN  \n",
       "2          NaN  \n",
       "3          NaN  \n",
       "4          NaN  \n",
       "\n",
       "[5 rows x 24 columns]"
      ]
     },
     "execution_count": 107,
     "metadata": {},
     "output_type": "execute_result"
    }
   ],
   "source": [
    "df.head()"
   ]
  },
  {
   "cell_type": "markdown",
   "metadata": {
    "colab_type": "text",
    "id": "MOkMFJ246oJl"
   },
   "source": [
    "We can find the year range in our pandas dataframe by finding the minimum and maximum of `datePublished`."
   ]
  },
  {
   "cell_type": "code",
   "execution_count": 108,
   "metadata": {
    "colab": {},
    "colab_type": "code",
    "collapsed": true,
    "id": "HkhgmqPo6oJm",
    "jupyter": {
     "outputs_hidden": true
    }
   },
   "outputs": [
    {
     "name": "stdout",
     "output_type": "stream",
     "text": [
      "1950 to 2013\n"
     ]
    }
   ],
   "source": [
    "minYear = df['publicationYear'].min()\n",
    "maxYear = df['publicationYear'].max()\n",
    "\n",
    "print(str(minYear) + ' to ' + str(maxYear))"
   ]
  },
  {
   "cell_type": "markdown",
   "metadata": {
    "colab_type": "text",
    "id": "rtjvEi9n6oJn"
   },
   "source": [
    "Now let's do some preliminary analysis. Let's say we want to plot the number of documents by decade in the sample set. \n",
    "\n",
    "Since `decade` isn't a value in our dataset, we need to add it to the dataframe. We can do this by defining a new dataframe column `decade`. To translate a year (1925) to a decade (1920), we need to subtract the final digit so it becomes a zero. We can find the value for the final digit in any particular case by using modulo (which provides the remainder of a division). Here's an example using the date 1925."
   ]
  },
  {
   "cell_type": "code",
   "execution_count": 109,
   "metadata": {
    "collapsed": true,
    "jupyter": {
     "outputs_hidden": true
    }
   },
   "outputs": [
    {
     "data": {
      "text/plain": [
       "1920"
      ]
     },
     "execution_count": 109,
     "metadata": {},
     "output_type": "execute_result"
    }
   ],
   "source": [
    "1925 - (1925 % 10)"
   ]
  },
  {
   "cell_type": "markdown",
   "metadata": {},
   "source": [
    "We can translate this example to the whole dataframe using the following code."
   ]
  },
  {
   "cell_type": "code",
   "execution_count": 110,
   "metadata": {
    "colab": {},
    "colab_type": "code",
    "collapsed": true,
    "id": "SWoq2gMt6oJn",
    "jupyter": {
     "outputs_hidden": true
    }
   },
   "outputs": [],
   "source": [
    "def add_decade(value): \n",
    "    yr = int(value) \n",
    "    decade = yr - ( yr % 10 )\n",
    "    return decade\n",
    "\n",
    "df['decade'] = df['publicationYear'].apply(add_decade)"
   ]
  },
  {
   "cell_type": "markdown",
   "metadata": {
    "colab_type": "text",
    "id": "H79W5vIw6oJp"
   },
   "source": [
    "To see the new decade column in our data, let's print the first 5 rows of the dataframe again."
   ]
  },
  {
   "cell_type": "code",
   "execution_count": 111,
   "metadata": {
    "colab": {},
    "colab_type": "code",
    "collapsed": true,
    "id": "cKCjvDna6oJq",
    "jupyter": {
     "outputs_hidden": true
    }
   },
   "outputs": [
    {
     "data": {
      "text/html": [
       "<div>\n",
       "<style scoped>\n",
       "    .dataframe tbody tr th:only-of-type {\n",
       "        vertical-align: middle;\n",
       "    }\n",
       "\n",
       "    .dataframe tbody tr th {\n",
       "        vertical-align: top;\n",
       "    }\n",
       "\n",
       "    .dataframe thead th {\n",
       "        text-align: right;\n",
       "    }\n",
       "</style>\n",
       "<table border=\"1\" class=\"dataframe\">\n",
       "  <thead>\n",
       "    <tr style=\"text-align: right;\">\n",
       "      <th></th>\n",
       "      <th>id</th>\n",
       "      <th>docType</th>\n",
       "      <th>title</th>\n",
       "      <th>creators</th>\n",
       "      <th>isPartOf</th>\n",
       "      <th>sourceCategory</th>\n",
       "      <th>pageStart</th>\n",
       "      <th>url</th>\n",
       "      <th>volumeNumber</th>\n",
       "      <th>language</th>\n",
       "      <th>...</th>\n",
       "      <th>publisher</th>\n",
       "      <th>wordCount</th>\n",
       "      <th>tdmCategory</th>\n",
       "      <th>provider</th>\n",
       "      <th>outputFormat</th>\n",
       "      <th>identifier</th>\n",
       "      <th>abstract</th>\n",
       "      <th>bigramCount</th>\n",
       "      <th>trigramCount</th>\n",
       "      <th>decade</th>\n",
       "    </tr>\n",
       "  </thead>\n",
       "  <tbody>\n",
       "    <tr>\n",
       "      <th>0</th>\n",
       "      <td>http://www.jstor.org/stable/2869980</td>\n",
       "      <td>article</td>\n",
       "      <td>Review Article</td>\n",
       "      <td>[R. A. Foakes]</td>\n",
       "      <td>Shakespeare Quarterly</td>\n",
       "      <td>[Language &amp; Literature, Humanities, Performing...</td>\n",
       "      <td>275</td>\n",
       "      <td>http://www.jstor.org/stable/2869980</td>\n",
       "      <td>2</td>\n",
       "      <td>[eng]</td>\n",
       "      <td>...</td>\n",
       "      <td>Folger Shakespeare Library</td>\n",
       "      <td>935</td>\n",
       "      <td>[Literature (General), History General, Englis...</td>\n",
       "      <td>jstor</td>\n",
       "      <td>[unigram]</td>\n",
       "      <td>[{'name': 'issn', 'value': '00373222'}, {'name...</td>\n",
       "      <td>NaN</td>\n",
       "      <td>NaN</td>\n",
       "      <td>NaN</td>\n",
       "      <td>1980</td>\n",
       "    </tr>\n",
       "    <tr>\n",
       "      <th>1</th>\n",
       "      <td>http://www.jstor.org/stable/2870198</td>\n",
       "      <td>article</td>\n",
       "      <td>Shakespeare in Sydney</td>\n",
       "      <td>[Robyn S. Heales]</td>\n",
       "      <td>Shakespeare Quarterly</td>\n",
       "      <td>[Language &amp; Literature, Humanities, Performing...</td>\n",
       "      <td>106</td>\n",
       "      <td>http://www.jstor.org/stable/2870198</td>\n",
       "      <td>1</td>\n",
       "      <td>[eng]</td>\n",
       "      <td>...</td>\n",
       "      <td>Folger Shakespeare Library</td>\n",
       "      <td>2032</td>\n",
       "      <td>[Periodicals, Literature (General), Arts in ge...</td>\n",
       "      <td>jstor</td>\n",
       "      <td>[unigram]</td>\n",
       "      <td>[{'name': 'issn', 'value': '00373222'}, {'name...</td>\n",
       "      <td>NaN</td>\n",
       "      <td>NaN</td>\n",
       "      <td>NaN</td>\n",
       "      <td>1980</td>\n",
       "    </tr>\n",
       "    <tr>\n",
       "      <th>2</th>\n",
       "      <td>http://www.jstor.org/stable/2870199</td>\n",
       "      <td>article</td>\n",
       "      <td>Shakespeare in the Berkshires, 1985</td>\n",
       "      <td>[Ronald R. Macdonald]</td>\n",
       "      <td>Shakespeare Quarterly</td>\n",
       "      <td>[Language &amp; Literature, Humanities, Performing...</td>\n",
       "      <td>108</td>\n",
       "      <td>http://www.jstor.org/stable/2870199</td>\n",
       "      <td>1</td>\n",
       "      <td>[eng]</td>\n",
       "      <td>...</td>\n",
       "      <td>Folger Shakespeare Library</td>\n",
       "      <td>1805</td>\n",
       "      <td>[Literature (General), Periodicals, Academies ...</td>\n",
       "      <td>jstor</td>\n",
       "      <td>[unigram]</td>\n",
       "      <td>[{'name': 'issn', 'value': '00373222'}, {'name...</td>\n",
       "      <td>NaN</td>\n",
       "      <td>NaN</td>\n",
       "      <td>NaN</td>\n",
       "      <td>1980</td>\n",
       "    </tr>\n",
       "    <tr>\n",
       "      <th>3</th>\n",
       "      <td>http://www.jstor.org/stable/2870209</td>\n",
       "      <td>article</td>\n",
       "      <td>Review Article</td>\n",
       "      <td>[Laura G. Bromley]</td>\n",
       "      <td>Shakespeare Quarterly</td>\n",
       "      <td>[Language &amp; Literature, Humanities, Performing...</td>\n",
       "      <td>136</td>\n",
       "      <td>http://www.jstor.org/stable/2870209</td>\n",
       "      <td>1</td>\n",
       "      <td>[eng]</td>\n",
       "      <td>...</td>\n",
       "      <td>Folger Shakespeare Library</td>\n",
       "      <td>1023</td>\n",
       "      <td>[Socialism. Communism. Anarchism, Religions. M...</td>\n",
       "      <td>jstor</td>\n",
       "      <td>[unigram]</td>\n",
       "      <td>[{'name': 'issn', 'value': '00373222'}, {'name...</td>\n",
       "      <td>NaN</td>\n",
       "      <td>NaN</td>\n",
       "      <td>NaN</td>\n",
       "      <td>1980</td>\n",
       "    </tr>\n",
       "    <tr>\n",
       "      <th>4</th>\n",
       "      <td>http://www.jstor.org/stable/2870208</td>\n",
       "      <td>article</td>\n",
       "      <td>Review Article</td>\n",
       "      <td>[James H. Maddox]</td>\n",
       "      <td>Shakespeare Quarterly</td>\n",
       "      <td>[Language &amp; Literature, Humanities, Performing...</td>\n",
       "      <td>135</td>\n",
       "      <td>http://www.jstor.org/stable/2870208</td>\n",
       "      <td>1</td>\n",
       "      <td>[eng]</td>\n",
       "      <td>...</td>\n",
       "      <td>Folger Shakespeare Library</td>\n",
       "      <td>965</td>\n",
       "      <td>[English literature, Biography, Modern languag...</td>\n",
       "      <td>jstor</td>\n",
       "      <td>[unigram]</td>\n",
       "      <td>[{'name': 'issn', 'value': '00373222'}, {'name...</td>\n",
       "      <td>NaN</td>\n",
       "      <td>NaN</td>\n",
       "      <td>NaN</td>\n",
       "      <td>1980</td>\n",
       "    </tr>\n",
       "  </tbody>\n",
       "</table>\n",
       "<p>5 rows × 25 columns</p>\n",
       "</div>"
      ],
      "text/plain": [
       "                                    id  docType  \\\n",
       "0  http://www.jstor.org/stable/2869980  article   \n",
       "1  http://www.jstor.org/stable/2870198  article   \n",
       "2  http://www.jstor.org/stable/2870199  article   \n",
       "3  http://www.jstor.org/stable/2870209  article   \n",
       "4  http://www.jstor.org/stable/2870208  article   \n",
       "\n",
       "                                 title               creators  \\\n",
       "0                       Review Article         [R. A. Foakes]   \n",
       "1                Shakespeare in Sydney      [Robyn S. Heales]   \n",
       "2  Shakespeare in the Berkshires, 1985  [Ronald R. Macdonald]   \n",
       "3                       Review Article     [Laura G. Bromley]   \n",
       "4                       Review Article      [James H. Maddox]   \n",
       "\n",
       "                isPartOf                                     sourceCategory  \\\n",
       "0  Shakespeare Quarterly  [Language & Literature, Humanities, Performing...   \n",
       "1  Shakespeare Quarterly  [Language & Literature, Humanities, Performing...   \n",
       "2  Shakespeare Quarterly  [Language & Literature, Humanities, Performing...   \n",
       "3  Shakespeare Quarterly  [Language & Literature, Humanities, Performing...   \n",
       "4  Shakespeare Quarterly  [Language & Literature, Humanities, Performing...   \n",
       "\n",
       "  pageStart                                  url volumeNumber language  ...  \\\n",
       "0       275  http://www.jstor.org/stable/2869980            2    [eng]  ...   \n",
       "1       106  http://www.jstor.org/stable/2870198            1    [eng]  ...   \n",
       "2       108  http://www.jstor.org/stable/2870199            1    [eng]  ...   \n",
       "3       136  http://www.jstor.org/stable/2870209            1    [eng]  ...   \n",
       "4       135  http://www.jstor.org/stable/2870208            1    [eng]  ...   \n",
       "\n",
       "                    publisher  wordCount  \\\n",
       "0  Folger Shakespeare Library        935   \n",
       "1  Folger Shakespeare Library       2032   \n",
       "2  Folger Shakespeare Library       1805   \n",
       "3  Folger Shakespeare Library       1023   \n",
       "4  Folger Shakespeare Library        965   \n",
       "\n",
       "                                         tdmCategory provider  outputFormat  \\\n",
       "0  [Literature (General), History General, Englis...    jstor     [unigram]   \n",
       "1  [Periodicals, Literature (General), Arts in ge...    jstor     [unigram]   \n",
       "2  [Literature (General), Periodicals, Academies ...    jstor     [unigram]   \n",
       "3  [Socialism. Communism. Anarchism, Religions. M...    jstor     [unigram]   \n",
       "4  [English literature, Biography, Modern languag...    jstor     [unigram]   \n",
       "\n",
       "                                          identifier  abstract bigramCount  \\\n",
       "0  [{'name': 'issn', 'value': '00373222'}, {'name...       NaN         NaN   \n",
       "1  [{'name': 'issn', 'value': '00373222'}, {'name...       NaN         NaN   \n",
       "2  [{'name': 'issn', 'value': '00373222'}, {'name...       NaN         NaN   \n",
       "3  [{'name': 'issn', 'value': '00373222'}, {'name...       NaN         NaN   \n",
       "4  [{'name': 'issn', 'value': '00373222'}, {'name...       NaN         NaN   \n",
       "\n",
       "  trigramCount decade  \n",
       "0          NaN   1980  \n",
       "1          NaN   1980  \n",
       "2          NaN   1980  \n",
       "3          NaN   1980  \n",
       "4          NaN   1980  \n",
       "\n",
       "[5 rows x 25 columns]"
      ]
     },
     "execution_count": 111,
     "metadata": {},
     "output_type": "execute_result"
    }
   ],
   "source": [
    "df.head()"
   ]
  },
  {
   "cell_type": "markdown",
   "metadata": {
    "colab_type": "text",
    "id": "4lwdgRAf6oJr"
   },
   "source": [
    "Now we can use the built in plotting tools of Pandas to plot the number of documents from each provider by decade."
   ]
  },
  {
   "cell_type": "code",
   "execution_count": 112,
   "metadata": {
    "colab": {},
    "colab_type": "code",
    "collapsed": true,
    "id": "upxLwnZr6oJs",
    "jupyter": {
     "outputs_hidden": true
    }
   },
   "outputs": [
    {
     "data": {
      "image/png": "[encoded data removed]",
      "text/plain": [
       "<Figure size 1440x360 with 1 Axes>"
      ]
     },
     "metadata": {
      "needs_background": "light"
     },
     "output_type": "display_data"
    }
   ],
   "source": [
    "df.groupby(['decade', 'provider'])['id'].agg('count').unstack()\\\n",
    "    .plot.bar(title='Documents by decade', figsize=(20, 5), fontsize=12, stacked=True); ##There is a weird bug where this cell needs to be run twice."
   ]
  },
  {
   "cell_type": "markdown",
   "metadata": {
    "colab_type": "text",
    "id": "fNp2wN8I6oJt"
   },
   "source": [
    "And do the same for the total number of pages."
   ]
  },
  {
   "cell_type": "code",
   "execution_count": 113,
   "metadata": {
    "colab": {},
    "colab_type": "code",
    "collapsed": true,
    "id": "uifT8Ocy6oJu",
    "jupyter": {
     "outputs_hidden": true
    }
   },
   "outputs": [
    {
     "data": {
      "image/png": "[encoded data removed]",
      "text/plain": [
       "<Figure size 1440x360 with 1 Axes>"
      ]
     },
     "metadata": {
      "needs_background": "light"
     },
     "output_type": "display_data"
    }
   ],
   "source": [
    "df.groupby(['decade', 'provider'])['pageCount'].agg('sum').unstack()\\\n",
    "    .plot.bar(title='Pages by decade', figsize=(20, 5), fontsize=12, stacked=True);"
   ]
  },
  {
   "cell_type": "code",
   "execution_count": null,
   "metadata": {
    "collapsed": true,
    "jupyter": {
     "outputs_hidden": true
    }
   },
   "outputs": [],
   "source": []
  }
 ],
 "metadata": {
  "colab": {
   "name": "2-metadata.ipynb",
   "provenance": [],
   "toc_visible": true
  },
  "kernelspec": {
   "display_name": "Python 3",
   "language": "python",
   "name": "python3"
  },
  "language_info": {
   "codemirror_mode": {
    "name": "ipython",
    "version": 3
   },
   "file_extension": ".py",
   "mimetype": "text/x-python",
   "name": "python",
   "nbconvert_exporter": "python",
   "pygments_lexer": "ipython3",
   "version": "3.7.3"
  }
 },
 "nbformat": 4,
 "nbformat_minor": 4
}
