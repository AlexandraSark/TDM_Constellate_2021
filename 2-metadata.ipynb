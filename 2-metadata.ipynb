{
 "cells": [
  {
   "cell_type": "markdown",
   "metadata": {
    "colab_type": "text",
    "id": "IZtnwJbt6oJT"
   },
   "source": [
    "## Explore metadata for a curated dataset\n",
    "\n",
    "This notebook shows how to explore the metadata of your JSTOR and/or Portico dataset using Python. The following processes are described:\n",
    "\n",
    "* Importing your dataset\n",
    "* Discovering the size and contents of your dataset\n",
    "* Turning your dataset into a pandas dataframe\n",
    "* Visualizing the contents of your dataset as a graph with pandas\n",
    "\n",
    "A familiarity with pandas is helpful but not required.\n",
    "____\n",
    "We import the [pandas](./key-terms.ipynb#pandas) module to help visualize and manipulate our data. Importing `as pd` allows us to call pandas' functions using the short phrase `pd` instead of typing out `pandas` each time. "
   ]
  },
  {
   "cell_type": "code",
   "execution_count": 3,
   "metadata": {
    "colab": {},
    "colab_type": "code",
    "id": "I9IRRS466oJU"
   },
   "outputs": [],
   "source": [
    "import pandas as pd"
   ]
  },
  {
   "cell_type": "markdown",
   "metadata": {},
   "source": [
    "We import the `Dataset` module from the `tdm_client` library. The tdm_client library contains functions for connecting to the JSTOR server containing our [corpus](./key-terms.ipynb#corpus) [dataset](./key-terms.ipynb#dataset). To analyze your dataset, use the [dataset ID](./key-terms.ipynb/#dataset-ID) provided when you created your [dataset](./key-terms.ipynb/#dataset). A copy of your [dataset ID](./key-terms.ipynb/#dataset-ID) was sent to your email when you created your [corpus](./key-terms.ipynb#corpus). It should look like a long series of characters surrounded by dashes. "
   ]
  },
  {
   "cell_type": "code",
   "execution_count": null,
   "metadata": {},
   "outputs": [],
   "source": [
    "from tdm_client import Dataset"
   ]
  },
  {
   "cell_type": "markdown",
   "metadata": {
    "colab_type": "text",
    "id": "eOLLCN9o6oJW"
   },
   "source": [
    "We create a new variable **dset** and initialize its value using the **Dataset** function. A sample **dataset ID** of journals focused on Shakespeare is provided here ('a517ef1f-0794-48e4-bea1-ac4fb8b312b4'). Pasting your unique **dataset ID** here will import your dataset from the JSTOR server.\n",
    "\n",
    "**Note**: If you are curious what is in your dataset, there is a download link in the email you received. The format and content of the files is described in the notebook [Building a Dataset](./1-building-a-dataset.ipynb). "
   ]
  },
  {
   "cell_type": "code",
   "execution_count": null,
   "metadata": {
    "colab": {},
    "colab_type": "code",
    "id": "e1Bu4h0i6oJX"
   },
   "outputs": [],
   "source": [
    "dset = Dataset('a517ef1f-0794-48e4-bea1-ac4fb8b312b4')"
   ]
  },
  {
   "cell_type": "markdown",
   "metadata": {
    "colab_type": "text",
    "id": "bzyjBIZY6oJZ"
   },
   "source": [
    "Find total number of documents in the dataset. "
   ]
  },
  {
   "cell_type": "code",
   "execution_count": null,
   "metadata": {
    "colab": {
     "base_uri": "https://localhost:8080/",
     "height": 34
    },
    "colab_type": "code",
    "id": "XB-2QZjJ6oJZ",
    "outputId": "db111c1e-1cf3-4362-a335-b4412d099046"
   },
   "outputs": [
    {
     "data": {
      "text/plain": [
       "1000"
      ]
     },
     "execution_count": 5,
     "metadata": {
      "tags": []
     },
     "output_type": "execute_result"
    }
   ],
   "source": [
    "len(dset)"
   ]
  },
  {
   "cell_type": "markdown",
   "metadata": {
    "colab_type": "text",
    "id": "JAVIm5UC6oJb"
   },
   "source": [
    "After initializing the `Dataset`, the documents in the dataset are downloaded in the background.\n",
    "\n",
    "A list of all of the items in the Dataset is available. "
   ]
  },
  {
   "cell_type": "code",
   "execution_count": null,
   "metadata": {
    "colab": {
     "base_uri": "https://localhost:8080/",
     "height": 102
    },
    "colab_type": "code",
    "id": "viUMWDxT6oJc",
    "outputId": "a62e89ab-fe5c-4ad0-ef19-65f6172328dd",
    "scrolled": true
   },
   "outputs": [
    {
     "data": {
      "text/plain": [
       "['http://www.jstor.org/stable/i40075057',\n",
       " 'http://www.jstor.org/stable/i40103856',\n",
       " 'http://www.jstor.org/stable/i40075051',\n",
       " 'http://www.jstor.org/stable/i40075048',\n",
       " 'http://www.jstor.org/stable/i40075029']"
      ]
     },
     "execution_count": 6,
     "metadata": {
      "tags": []
     },
     "output_type": "execute_result"
    }
   ],
   "source": [
    "dset.items[:5]"
   ]
  },
  {
   "cell_type": "markdown",
   "metadata": {
    "colab_type": "text",
    "id": "toqiQRaZ6oJd"
   },
   "source": [
    "The document metadata can be retrieved by calling the `get_metadata` method. The metadata is a list of Python dictionaries containing attributes for each document."
   ]
  },
  {
   "cell_type": "code",
   "execution_count": null,
   "metadata": {
    "colab": {},
    "colab_type": "code",
    "id": "L39GySgQ6oJe"
   },
   "outputs": [],
   "source": [
    "metadata = dset.get_metadata()"
   ]
  },
  {
   "cell_type": "markdown",
   "metadata": {
    "colab_type": "text",
    "id": "q67bV07z6oJf"
   },
   "source": [
    "Print the metadata for the first document in the dataset."
   ]
  },
  {
   "cell_type": "code",
   "execution_count": null,
   "metadata": {
    "colab": {},
    "colab_type": "code",
    "id": "fUaaExvS6oJg",
    "scrolled": true
   },
   "outputs": [],
   "source": [
    "print(metadata[0])"
   ]
  },
  {
   "cell_type": "markdown",
   "metadata": {
    "colab_type": "text",
    "id": "YHkQ1o7P6oJh"
   },
   "source": [
    "Convert the metadata to a Pandas dataframe to take advantage of its plotting and manipulation functions."
   ]
  },
  {
   "cell_type": "code",
   "execution_count": null,
   "metadata": {
    "colab": {},
    "colab_type": "code",
    "id": "EWaiiLtC6oJi"
   },
   "outputs": [],
   "source": [
    "df = pd.DataFrame(metadata)"
   ]
  },
  {
   "cell_type": "markdown",
   "metadata": {
    "colab_type": "text",
    "id": "rIDbi3SD6oJj"
   },
   "source": [
    "Print the first 10 rows of the dataframe"
   ]
  },
  {
   "cell_type": "code",
   "execution_count": null,
   "metadata": {
    "colab": {},
    "colab_type": "code",
    "id": "SIJ8H0pT6oJk",
    "scrolled": true
   },
   "outputs": [],
   "source": [
    "df.head()"
   ]
  },
  {
   "cell_type": "markdown",
   "metadata": {
    "colab_type": "text",
    "id": "MOkMFJ246oJl"
   },
   "source": [
    "Find the year range of documents in this dataset"
   ]
  },
  {
   "cell_type": "code",
   "execution_count": null,
   "metadata": {
    "colab": {},
    "colab_type": "code",
    "id": "HkhgmqPo6oJm"
   },
   "outputs": [],
   "source": [
    "print('{} to {}'.format(df['yearPublished'].min(), df['yearPublished'].max()))"
   ]
  },
  {
   "cell_type": "markdown",
   "metadata": {
    "colab_type": "text",
    "id": "rtjvEi9n6oJn"
   },
   "source": [
    "Now do some preliminary analysis. Let's say you want to plot the number of volumes by decade in the sample set. \n",
    "\n",
    "Since `decade` isn't a value in our dataset, we need to add it to the dataframe. This can be done with the following step."
   ]
  },
  {
   "cell_type": "code",
   "execution_count": null,
   "metadata": {
    "colab": {},
    "colab_type": "code",
    "id": "SWoq2gMt6oJn"
   },
   "outputs": [],
   "source": [
    "df['decade'] = df['yearPublished'] - ( df['yearPublished'] % 10)"
   ]
  },
  {
   "cell_type": "markdown",
   "metadata": {
    "colab_type": "text",
    "id": "H79W5vIw6oJp"
   },
   "source": [
    "Print the first 10 rows of the dataframe again to see how the column was applied."
   ]
  },
  {
   "cell_type": "code",
   "execution_count": null,
   "metadata": {
    "colab": {},
    "colab_type": "code",
    "id": "cKCjvDna6oJq",
    "scrolled": true
   },
   "outputs": [],
   "source": [
    "df.head()"
   ]
  },
  {
   "cell_type": "markdown",
   "metadata": {
    "colab_type": "text",
    "id": "4lwdgRAf6oJr"
   },
   "source": [
    "Now use the built in plotting tools of Pandas to plot the number of issues from each provider by decade."
   ]
  },
  {
   "cell_type": "code",
   "execution_count": null,
   "metadata": {
    "colab": {},
    "colab_type": "code",
    "id": "upxLwnZr6oJs"
   },
   "outputs": [],
   "source": [
    "df.groupby(['decade', 'provider'])['id'].agg('count').unstack()\\\n",
    "    .plot.bar(title='Issues by decade', figsize=(20, 5), fontsize=12, stacked=True);"
   ]
  },
  {
   "cell_type": "markdown",
   "metadata": {
    "colab_type": "text",
    "id": "fNp2wN8I6oJt"
   },
   "source": [
    "And do the same for the total number of pages."
   ]
  },
  {
   "cell_type": "code",
   "execution_count": null,
   "metadata": {
    "colab": {},
    "colab_type": "code",
    "id": "uifT8Ocy6oJu"
   },
   "outputs": [],
   "source": [
    "df.groupby(['decade', 'provider'])['pageCount'].agg('sum').unstack()\\\n",
    "    .plot.bar(title='Pages by decade', figsize=(20, 5), fontsize=12, stacked=True);"
   ]
  }
 ],
 "metadata": {
  "colab": {
   "name": "2-metadata.ipynb",
   "provenance": [],
   "toc_visible": true
  },
  "kernelspec": {
   "display_name": "Python 3",
   "language": "python",
   "name": "python3"
  },
  "language_info": {
   "codemirror_mode": {
    "name": "ipython",
    "version": 3
   },
   "file_extension": ".py",
   "mimetype": "text/x-python",
   "name": "python",
   "nbconvert_exporter": "python",
   "pygments_lexer": "ipython3",
   "version": "3.7.3"
  }
 },
 "nbformat": 4,
 "nbformat_minor": 4
}
