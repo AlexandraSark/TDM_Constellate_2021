{
 "cells": [
  {
   "cell_type": "markdown",
   "metadata": {
    "colab_type": "text",
    "id": "IZtnwJbt6oJT"
   },
   "source": [
    "## Explore metadata for a curated dataset\n",
    "\n",
    "This notebook shows how to explore the metadata of your JSTOR and/or Portico dataset using Python. The following processes are described:\n",
    "\n",
    "* Importing your dataset\n",
    "* Discovering the size and contents of your dataset\n",
    "* Turning your dataset into a pandas dataframe\n",
    "* Visualizing the contents of your dataset as a graph with pandas\n",
    "\n",
    "A familiarity with pandas is helpful but not required.\n",
    "____\n",
    "We import the [pandas](./key-terms.ipynb#pandas) module to help visualize and manipulate our data. Importing `as pd` allows us to call pandas' functions using the short phrase `pd` instead of typing out `pandas` each time. "
   ]
  },
  {
   "cell_type": "code",
   "execution_count": 11,
   "metadata": {
    "colab": {},
    "colab_type": "code",
    "id": "I9IRRS466oJU"
   },
   "outputs": [],
   "source": [
    "import pandas as pd"
   ]
  },
  {
   "cell_type": "markdown",
   "metadata": {},
   "source": [
    "We import the `Dataset` module from the `tdm_client` library. The tdm_client library contains functions for connecting to the JSTOR server containing our [corpus](./key-terms.ipynb#corpus) [dataset](./key-terms.ipynb#dataset). To analyze your dataset, use the [dataset ID](./key-terms.ipynb/#dataset-ID) provided when you created your [dataset](./key-terms.ipynb/#dataset). A copy of your [dataset ID](./key-terms.ipynb/#dataset-ID) was sent to your email when you created your [corpus](./key-terms.ipynb#corpus). It should look like a long series of characters surrounded by dashes. "
   ]
  },
  {
   "cell_type": "code",
   "execution_count": 12,
   "metadata": {},
   "outputs": [],
   "source": [
    "from tdm_client import Dataset"
   ]
  },
  {
   "cell_type": "markdown",
   "metadata": {
    "colab_type": "text",
    "id": "eOLLCN9o6oJW"
   },
   "source": [
    "We create a new variable **dset** and initialize its value using the **Dataset** function. A sample **dataset ID** featuring Shakespeare Quarterly (1950-2014) is provided here ('59c090b6-3851-3c65-e016-9181833b4a2c'). Pasting your unique **dataset ID** here will import your dataset from the JSTOR server.\n",
    "\n",
    "**Note**: If you are curious what is in your dataset, there is a download link in the email you received. The format and content of the files is described in the notebook [Building a Dataset](./1-building-a-dataset.ipynb). "
   ]
  },
  {
   "cell_type": "code",
   "execution_count": 13,
   "metadata": {
    "colab": {},
    "colab_type": "code",
    "id": "e1Bu4h0i6oJX"
   },
   "outputs": [],
   "source": [
    "dset = Dataset('59c090b6-3851-3c65-e016-9181833b4a2c')"
   ]
  },
  {
   "cell_type": "markdown",
   "metadata": {
    "colab_type": "text",
    "id": "bzyjBIZY6oJZ"
   },
   "source": [
    "Find total number of documents in the dataset using the `len()` function. "
   ]
  },
  {
   "cell_type": "code",
   "execution_count": 14,
   "metadata": {
    "colab": {
     "base_uri": "https://localhost:8080/",
     "height": 34
    },
    "colab_type": "code",
    "id": "XB-2QZjJ6oJZ",
    "outputId": "db111c1e-1cf3-4362-a335-b4412d099046"
   },
   "outputs": [
    {
     "data": {
      "text/plain": [
       "1000"
      ]
     },
     "execution_count": 14,
     "metadata": {},
     "output_type": "execute_result"
    }
   ],
   "source": [
    "len(dset)"
   ]
  },
  {
   "cell_type": "markdown",
   "metadata": {
    "colab_type": "text",
    "id": "JAVIm5UC6oJb"
   },
   "source": [
    "The dset variable now contains all the documents in our corpus. We can take a peak at our documents using in our dataset by taking a slice of the first five items."
   ]
  },
  {
   "cell_type": "code",
   "execution_count": 32,
   "metadata": {
    "colab": {
     "base_uri": "https://localhost:8080/",
     "height": 102
    },
    "colab_type": "code",
    "id": "viUMWDxT6oJc",
    "outputId": "a62e89ab-fe5c-4ad0-ef19-65f6172328dd",
    "scrolled": true
   },
   "outputs": [
    {
     "data": {
      "text/plain": [
       "['http://www.jstor.org/stable/i40075057',\n",
       " 'http://www.jstor.org/stable/i40103856',\n",
       " 'http://www.jstor.org/stable/i40075051',\n",
       " 'http://www.jstor.org/stable/i40075048',\n",
       " 'http://www.jstor.org/stable/i40075029']"
      ]
     },
     "execution_count": 32,
     "metadata": {},
     "output_type": "execute_result"
    }
   ],
   "source": [
    "dset.items[0:5]"
   ]
  },
  {
   "cell_type": "markdown",
   "metadata": {},
   "source": [
    "We can also check if a particular item is in our list if we know the stable url using the `in` or `not in` operators. Let's check to see if volume 5.1 of the journal *Mosaic* is `in` the dataset by using its stable URL (https://www.jstor.org/stable/i24775424)."
   ]
  },
  {
   "cell_type": "markdown",
   "metadata": {},
   "source": [
    "# 'http://www.jstor.org/stable/i40075051' in dset.items"
   ]
  },
  {
   "cell_type": "markdown",
   "metadata": {
    "colab_type": "text",
    "id": "toqiQRaZ6oJd"
   },
   "source": [
    "The document metadata can be retrieved by calling the `get_metadata` method. The metadata is a list of Python dictionaries containing attributes for each document. We create a new list variable `metadata` by using the `get_metadata` method on dset. "
   ]
  },
  {
   "cell_type": "code",
   "execution_count": 16,
   "metadata": {
    "colab": {},
    "colab_type": "code",
    "id": "L39GySgQ6oJe"
   },
   "outputs": [],
   "source": [
    "metadata = dset.get_metadata()"
   ]
  },
  {
   "cell_type": "markdown",
   "metadata": {
    "colab_type": "text",
    "id": "q67bV07z6oJf"
   },
   "source": [
    "Print the contents of **metadata** for the first document in the dataset. The data is displayed as a dictionary of key/value pairs. "
   ]
  },
  {
   "cell_type": "code",
   "execution_count": 17,
   "metadata": {
    "colab": {},
    "colab_type": "code",
    "id": "fUaaExvS6oJg",
    "scrolled": true
   },
   "outputs": [
    {
     "name": "stdout",
     "output_type": "stream",
     "text": [
      "{'id': 'http://www.jstor.org/stable/i23675740', 'journalTitle': 'The Shakespeare Association Bulletin', 'pageCount': 29, 'provider': 'jstor', 'title': 'The Shakespeare Association Bulletin volume 3 issue 2', 'wordCount': 22502, 'yearPublished': 1928}\n"
     ]
    }
   ],
   "source": [
    "print(metadata[0])"
   ]
  },
  {
   "cell_type": "markdown",
   "metadata": {
    "colab_type": "text",
    "id": "YHkQ1o7P6oJh"
   },
   "source": [
    "We can convert `metadata` to a Pandas dataframe to take advantage of its plotting and manipulation functions. This will help us learn more about what's in our metadata. We define this new dataframe as `df`."
   ]
  },
  {
   "cell_type": "code",
   "execution_count": 18,
   "metadata": {
    "colab": {},
    "colab_type": "code",
    "id": "EWaiiLtC6oJi"
   },
   "outputs": [],
   "source": [
    "df = pd.DataFrame(metadata)"
   ]
  },
  {
   "cell_type": "markdown",
   "metadata": {
    "colab_type": "text",
    "id": "rIDbi3SD6oJj"
   },
   "source": [
    "Print the first 5 rows of the dataframe `df` with the `head` attribute."
   ]
  },
  {
   "cell_type": "code",
   "execution_count": 19,
   "metadata": {
    "colab": {},
    "colab_type": "code",
    "id": "SIJ8H0pT6oJk",
    "scrolled": true
   },
   "outputs": [
    {
     "data": {
      "text/html": [
       "<div>\n",
       "<style scoped>\n",
       "    .dataframe tbody tr th:only-of-type {\n",
       "        vertical-align: middle;\n",
       "    }\n",
       "\n",
       "    .dataframe tbody tr th {\n",
       "        vertical-align: top;\n",
       "    }\n",
       "\n",
       "    .dataframe thead th {\n",
       "        text-align: right;\n",
       "    }\n",
       "</style>\n",
       "<table border=\"1\" class=\"dataframe\">\n",
       "  <thead>\n",
       "    <tr style=\"text-align: right;\">\n",
       "      <th></th>\n",
       "      <th>id</th>\n",
       "      <th>journalTitle</th>\n",
       "      <th>pageCount</th>\n",
       "      <th>provider</th>\n",
       "      <th>title</th>\n",
       "      <th>wordCount</th>\n",
       "      <th>yearPublished</th>\n",
       "    </tr>\n",
       "  </thead>\n",
       "  <tbody>\n",
       "    <tr>\n",
       "      <th>0</th>\n",
       "      <td>http://www.jstor.org/stable/i23675740</td>\n",
       "      <td>The Shakespeare Association Bulletin</td>\n",
       "      <td>29</td>\n",
       "      <td>jstor</td>\n",
       "      <td>The Shakespeare Association Bulletin volume 3 ...</td>\n",
       "      <td>22502.0</td>\n",
       "      <td>1928</td>\n",
       "    </tr>\n",
       "    <tr>\n",
       "      <th>1</th>\n",
       "      <td>http://www.jstor.org/stable/i247053</td>\n",
       "      <td>Asian Theatre Journal</td>\n",
       "      <td>41</td>\n",
       "      <td>jstor</td>\n",
       "      <td>Asian Theatre Journal volume 5 issue 1</td>\n",
       "      <td>17718.0</td>\n",
       "      <td>1988</td>\n",
       "    </tr>\n",
       "    <tr>\n",
       "      <th>2</th>\n",
       "      <td>http://www.jstor.org/stable/i23917916</td>\n",
       "      <td>Literature and Theology</td>\n",
       "      <td>105</td>\n",
       "      <td>jstor</td>\n",
       "      <td>Literature and Theology volume 12 issue 3</td>\n",
       "      <td>59158.0</td>\n",
       "      <td>1998</td>\n",
       "    </tr>\n",
       "    <tr>\n",
       "      <th>3</th>\n",
       "      <td>http://www.jstor.org/stable/i338524</td>\n",
       "      <td>Shakespeare Quarterly</td>\n",
       "      <td>198</td>\n",
       "      <td>jstor</td>\n",
       "      <td>Shakespeare Quarterly volume 29 issue 2</td>\n",
       "      <td>147913.0</td>\n",
       "      <td>1978</td>\n",
       "    </tr>\n",
       "    <tr>\n",
       "      <th>4</th>\n",
       "      <td>http://www.jstor.org/stable/i338476</td>\n",
       "      <td>Shakespeare Quarterly</td>\n",
       "      <td>71</td>\n",
       "      <td>jstor</td>\n",
       "      <td>Shakespeare Quarterly volume 17 issue 2</td>\n",
       "      <td>35733.0</td>\n",
       "      <td>1966</td>\n",
       "    </tr>\n",
       "  </tbody>\n",
       "</table>\n",
       "</div>"
      ],
      "text/plain": [
       "                                      id  \\\n",
       "0  http://www.jstor.org/stable/i23675740   \n",
       "1    http://www.jstor.org/stable/i247053   \n",
       "2  http://www.jstor.org/stable/i23917916   \n",
       "3    http://www.jstor.org/stable/i338524   \n",
       "4    http://www.jstor.org/stable/i338476   \n",
       "\n",
       "                           journalTitle  pageCount provider  \\\n",
       "0  The Shakespeare Association Bulletin         29    jstor   \n",
       "1                 Asian Theatre Journal         41    jstor   \n",
       "2               Literature and Theology        105    jstor   \n",
       "3                 Shakespeare Quarterly        198    jstor   \n",
       "4                 Shakespeare Quarterly         71    jstor   \n",
       "\n",
       "                                               title  wordCount  yearPublished  \n",
       "0  The Shakespeare Association Bulletin volume 3 ...    22502.0           1928  \n",
       "1             Asian Theatre Journal volume 5 issue 1    17718.0           1988  \n",
       "2          Literature and Theology volume 12 issue 3    59158.0           1998  \n",
       "3            Shakespeare Quarterly volume 29 issue 2   147913.0           1978  \n",
       "4            Shakespeare Quarterly volume 17 issue 2    35733.0           1966  "
      ]
     },
     "execution_count": 19,
     "metadata": {},
     "output_type": "execute_result"
    }
   ],
   "source": [
    "df.head()"
   ]
  },
  {
   "cell_type": "markdown",
   "metadata": {
    "colab_type": "text",
    "id": "MOkMFJ246oJl"
   },
   "source": [
    "We can find the year range in our pandas dataframe by finding the minimum and maximum of `'yearPublished'`."
   ]
  },
  {
   "cell_type": "code",
   "execution_count": 20,
   "metadata": {
    "colab": {},
    "colab_type": "code",
    "id": "HkhgmqPo6oJm"
   },
   "outputs": [
    {
     "name": "stdout",
     "output_type": "stream",
     "text": [
      "1902 to 2019\n"
     ]
    }
   ],
   "source": [
    "minYear = df['yearPublished'].min()\n",
    "maxYear = df['yearPublished'].max()\n",
    "\n",
    "print(str(minYear) + ' to ' + str(maxYear))"
   ]
  },
  {
   "cell_type": "markdown",
   "metadata": {
    "colab_type": "text",
    "id": "rtjvEi9n6oJn"
   },
   "source": [
    "Now let's do some preliminary analysis. Let's say we want to plot the number of documents by decade in the sample set. \n",
    "\n",
    "Since `decade` isn't a value in our dataset, we need to add it to the dataframe. We can do this by defining a new dataframe column `decade`. To translate a year (1925) to a decade (1920), we need to subtract the final digit so it becomes a zero. We can find the value for the final digit in any particular case by using modulo (which provides the remainder of a division). Here's an example using the date 1925."
   ]
  },
  {
   "cell_type": "code",
   "execution_count": 21,
   "metadata": {},
   "outputs": [
    {
     "data": {
      "text/plain": [
       "1920"
      ]
     },
     "execution_count": 21,
     "metadata": {},
     "output_type": "execute_result"
    }
   ],
   "source": [
    "1925 - (1925 % 10)"
   ]
  },
  {
   "cell_type": "markdown",
   "metadata": {},
   "source": [
    "We can translate this example to the whole dataframe using the following code."
   ]
  },
  {
   "cell_type": "code",
   "execution_count": 22,
   "metadata": {
    "colab": {},
    "colab_type": "code",
    "id": "SWoq2gMt6oJn"
   },
   "outputs": [],
   "source": [
    "df['decade'] = df['yearPublished'] - ( df['yearPublished'] % 10)"
   ]
  },
  {
   "cell_type": "markdown",
   "metadata": {
    "colab_type": "text",
    "id": "H79W5vIw6oJp"
   },
   "source": [
    "To see the new decade column in our data, let's print the first 5 rows of the dataframe again."
   ]
  },
  {
   "cell_type": "code",
   "execution_count": 24,
   "metadata": {
    "colab": {},
    "colab_type": "code",
    "id": "cKCjvDna6oJq",
    "scrolled": true
   },
   "outputs": [
    {
     "data": {
      "text/html": [
       "<div>\n",
       "<style scoped>\n",
       "    .dataframe tbody tr th:only-of-type {\n",
       "        vertical-align: middle;\n",
       "    }\n",
       "\n",
       "    .dataframe tbody tr th {\n",
       "        vertical-align: top;\n",
       "    }\n",
       "\n",
       "    .dataframe thead th {\n",
       "        text-align: right;\n",
       "    }\n",
       "</style>\n",
       "<table border=\"1\" class=\"dataframe\">\n",
       "  <thead>\n",
       "    <tr style=\"text-align: right;\">\n",
       "      <th></th>\n",
       "      <th>id</th>\n",
       "      <th>journalTitle</th>\n",
       "      <th>pageCount</th>\n",
       "      <th>provider</th>\n",
       "      <th>title</th>\n",
       "      <th>wordCount</th>\n",
       "      <th>yearPublished</th>\n",
       "      <th>decade</th>\n",
       "    </tr>\n",
       "  </thead>\n",
       "  <tbody>\n",
       "    <tr>\n",
       "      <th>0</th>\n",
       "      <td>http://www.jstor.org/stable/i23675740</td>\n",
       "      <td>The Shakespeare Association Bulletin</td>\n",
       "      <td>29</td>\n",
       "      <td>jstor</td>\n",
       "      <td>The Shakespeare Association Bulletin volume 3 ...</td>\n",
       "      <td>22502.0</td>\n",
       "      <td>1928</td>\n",
       "      <td>1920</td>\n",
       "    </tr>\n",
       "    <tr>\n",
       "      <th>1</th>\n",
       "      <td>http://www.jstor.org/stable/i247053</td>\n",
       "      <td>Asian Theatre Journal</td>\n",
       "      <td>41</td>\n",
       "      <td>jstor</td>\n",
       "      <td>Asian Theatre Journal volume 5 issue 1</td>\n",
       "      <td>17718.0</td>\n",
       "      <td>1988</td>\n",
       "      <td>1980</td>\n",
       "    </tr>\n",
       "    <tr>\n",
       "      <th>2</th>\n",
       "      <td>http://www.jstor.org/stable/i23917916</td>\n",
       "      <td>Literature and Theology</td>\n",
       "      <td>105</td>\n",
       "      <td>jstor</td>\n",
       "      <td>Literature and Theology volume 12 issue 3</td>\n",
       "      <td>59158.0</td>\n",
       "      <td>1998</td>\n",
       "      <td>1990</td>\n",
       "    </tr>\n",
       "    <tr>\n",
       "      <th>3</th>\n",
       "      <td>http://www.jstor.org/stable/i338524</td>\n",
       "      <td>Shakespeare Quarterly</td>\n",
       "      <td>198</td>\n",
       "      <td>jstor</td>\n",
       "      <td>Shakespeare Quarterly volume 29 issue 2</td>\n",
       "      <td>147913.0</td>\n",
       "      <td>1978</td>\n",
       "      <td>1970</td>\n",
       "    </tr>\n",
       "    <tr>\n",
       "      <th>4</th>\n",
       "      <td>http://www.jstor.org/stable/i338476</td>\n",
       "      <td>Shakespeare Quarterly</td>\n",
       "      <td>71</td>\n",
       "      <td>jstor</td>\n",
       "      <td>Shakespeare Quarterly volume 17 issue 2</td>\n",
       "      <td>35733.0</td>\n",
       "      <td>1966</td>\n",
       "      <td>1960</td>\n",
       "    </tr>\n",
       "  </tbody>\n",
       "</table>\n",
       "</div>"
      ],
      "text/plain": [
       "                                      id  \\\n",
       "0  http://www.jstor.org/stable/i23675740   \n",
       "1    http://www.jstor.org/stable/i247053   \n",
       "2  http://www.jstor.org/stable/i23917916   \n",
       "3    http://www.jstor.org/stable/i338524   \n",
       "4    http://www.jstor.org/stable/i338476   \n",
       "\n",
       "                           journalTitle  pageCount provider  \\\n",
       "0  The Shakespeare Association Bulletin         29    jstor   \n",
       "1                 Asian Theatre Journal         41    jstor   \n",
       "2               Literature and Theology        105    jstor   \n",
       "3                 Shakespeare Quarterly        198    jstor   \n",
       "4                 Shakespeare Quarterly         71    jstor   \n",
       "\n",
       "                                               title  wordCount  \\\n",
       "0  The Shakespeare Association Bulletin volume 3 ...    22502.0   \n",
       "1             Asian Theatre Journal volume 5 issue 1    17718.0   \n",
       "2          Literature and Theology volume 12 issue 3    59158.0   \n",
       "3            Shakespeare Quarterly volume 29 issue 2   147913.0   \n",
       "4            Shakespeare Quarterly volume 17 issue 2    35733.0   \n",
       "\n",
       "   yearPublished  decade  \n",
       "0           1928    1920  \n",
       "1           1988    1980  \n",
       "2           1998    1990  \n",
       "3           1978    1970  \n",
       "4           1966    1960  "
      ]
     },
     "execution_count": 24,
     "metadata": {},
     "output_type": "execute_result"
    }
   ],
   "source": [
    "df.head()"
   ]
  },
  {
   "cell_type": "markdown",
   "metadata": {
    "colab_type": "text",
    "id": "4lwdgRAf6oJr"
   },
   "source": [
    "Now we can use the built in plotting tools of Pandas to plot the number of documents from each provider by decade."
   ]
  },
  {
   "cell_type": "code",
   "execution_count": 26,
   "metadata": {
    "colab": {},
    "colab_type": "code",
    "id": "upxLwnZr6oJs"
   },
   "outputs": [
    {
     "data": {
      "image/png": "[encoded data removed]",
      "text/plain": [
       "<Figure size 1440x360 with 1 Axes>"
      ]
     },
     "metadata": {
      "needs_background": "light"
     },
     "output_type": "display_data"
    }
   ],
   "source": [
    "df.groupby(['decade', 'provider'])['id'].agg('count').unstack()\\\n",
    "    .plot.bar(title='Issues by decade', figsize=(20, 5), fontsize=12, stacked=True);"
   ]
  },
  {
   "cell_type": "markdown",
   "metadata": {
    "colab_type": "text",
    "id": "fNp2wN8I6oJt"
   },
   "source": [
    "And do the same for the total number of pages."
   ]
  },
  {
   "cell_type": "code",
   "execution_count": 27,
   "metadata": {
    "colab": {},
    "colab_type": "code",
    "id": "uifT8Ocy6oJu"
   },
   "outputs": [
    {
     "data": {
      "image/png": "[encoded data removed]",
      "text/plain": [
       "<Figure size 1440x360 with 1 Axes>"
      ]
     },
     "metadata": {
      "needs_background": "light"
     },
     "output_type": "display_data"
    }
   ],
   "source": [
    "df.groupby(['decade', 'provider'])['pageCount'].agg('sum').unstack()\\\n",
    "    .plot.bar(title='Pages by decade', figsize=(20, 5), fontsize=12, stacked=True);"
   ]
  },
  {
   "cell_type": "code",
   "execution_count": null,
   "metadata": {},
   "outputs": [],
   "source": []
  }
 ],
 "metadata": {
  "colab": {
   "name": "2-metadata.ipynb",
   "provenance": [],
   "toc_visible": true
  },
  "kernelspec": {
   "display_name": "Python 3",
   "language": "python",
   "name": "python3"
  },
  "language_info": {
   "codemirror_mode": {
    "name": "ipython",
    "version": 3
   },
   "file_extension": ".py",
   "mimetype": "text/x-python",
   "name": "python",
   "nbconvert_exporter": "python",
   "pygments_lexer": "ipython3",
   "version": "3.7.3"
  }
 },
 "nbformat": 4,
 "nbformat_minor": 4
}
