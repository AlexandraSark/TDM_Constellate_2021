{
  "nbformat": 4,
  "nbformat_minor": 0,
  "metadata": {
    "kernelspec": {
      "display_name": "Python 3",
      "language": "python",
      "name": "python3"
    },
    "language_info": {
      "codemirror_mode": {
        "name": "ipython",
        "version": 3
      },
      "file_extension": ".py",
      "mimetype": "text/x-python",
      "name": "python",
      "nbconvert_exporter": "python",
      "pygments_lexer": "ipython3",
      "version": "3.6.6"
    },
    "colab": {
      "name": "2-metadata.ipynb",
      "provenance": [],
      "toc_visible": true,
      "include_colab_link": true
    }
  },
  "cells": [
    {
      "cell_type": "markdown",
      "metadata": {
        "id": "view-in-github",
        "colab_type": "text"
      },
      "source": [
        "<a href=\"https://colab.research.google.com/github/ithaka/tdm-notebooks/blob/master/2-metadata.ipynb\" target=\"_parent\"><img src=\"https://colab.research.google.com/assets/colab-badge.svg\" alt=\"Open In Colab\"/></a>"
      ]
    },
    {
      "cell_type": "markdown",
      "metadata": {
        "id": "IZtnwJbt6oJT",
        "colab_type": "text"
      },
      "source": [
        "## Explore metadata for a curated dataset\n",
        "\n",
        "This notebook shows how to connect to a curated TDM dataset and explore the metadata."
      ]
    },
    {
      "cell_type": "code",
      "metadata": {
        "id": "I9IRRS466oJU",
        "colab_type": "code",
        "colab": {}
      },
      "source": [
        "import pandas as pd\n",
        "\n",
        "from tdm_client import Dataset"
      ],
      "execution_count": 0,
      "outputs": []
    },
    {
      "cell_type": "markdown",
      "metadata": {
        "id": "eOLLCN9o6oJW",
        "colab_type": "text"
      },
      "source": [
        "Initialize a TDM dataset object with the dataset ID provided by the Digital Scholars Workbench or in the email you received after curating your dataset."
      ]
    },
    {
      "cell_type": "code",
      "metadata": {
        "id": "e1Bu4h0i6oJX",
        "colab_type": "code",
        "colab": {}
      },
      "source": [
        "dset = Dataset('a517ef1f-0794-48e4-bea1-ac4fb8b312b4')"
      ],
      "execution_count": 0,
      "outputs": []
    },
    {
      "cell_type": "markdown",
      "metadata": {
        "id": "bzyjBIZY6oJZ",
        "colab_type": "text"
      },
      "source": [
        "Find total number of documents in the dataset. "
      ]
    },
    {
      "cell_type": "code",
      "metadata": {
        "scrolled": false,
        "id": "XB-2QZjJ6oJZ",
        "colab_type": "code",
        "colab": {
          "base_uri": "https://localhost:8080/",
          "height": 34
        },
        "outputId": "db111c1e-1cf3-4362-a335-b4412d099046"
      },
      "source": [
        "len(dset)"
      ],
      "execution_count": 5,
      "outputs": [
        {
          "output_type": "execute_result",
          "data": {
            "text/plain": [
              "1000"
            ]
          },
          "metadata": {
            "tags": []
          },
          "execution_count": 5
        }
      ]
    },
    {
      "cell_type": "markdown",
      "metadata": {
        "id": "JAVIm5UC6oJb",
        "colab_type": "text"
      },
      "source": [
        "After initializing the `Dataset`, the documents in the dataset are downloaded in the background.\n",
        "\n",
        "A list of all of the items in the Dataset is available. "
      ]
    },
    {
      "cell_type": "code",
      "metadata": {
        "scrolled": true,
        "id": "viUMWDxT6oJc",
        "colab_type": "code",
        "colab": {
          "base_uri": "https://localhost:8080/",
          "height": 102
        },
        "outputId": "a62e89ab-fe5c-4ad0-ef19-65f6172328dd"
      },
      "source": [
        "dset.items[:5]"
      ],
      "execution_count": 6,
      "outputs": [
        {
          "output_type": "execute_result",
          "data": {
            "text/plain": [
              "['http://www.jstor.org/stable/i40075057',\n",
              " 'http://www.jstor.org/stable/i40103856',\n",
              " 'http://www.jstor.org/stable/i40075051',\n",
              " 'http://www.jstor.org/stable/i40075048',\n",
              " 'http://www.jstor.org/stable/i40075029']"
            ]
          },
          "metadata": {
            "tags": []
          },
          "execution_count": 6
        }
      ]
    },
    {
      "cell_type": "markdown",
      "metadata": {
        "id": "toqiQRaZ6oJd",
        "colab_type": "text"
      },
      "source": [
        "The document metadata can be retrieved by calling the `get_metadata` method. The metadata is a list of Python dictionaries containing attributes for each document."
      ]
    },
    {
      "cell_type": "code",
      "metadata": {
        "id": "L39GySgQ6oJe",
        "colab_type": "code",
        "colab": {}
      },
      "source": [
        "metadata = dset.get_metadata()"
      ],
      "execution_count": 0,
      "outputs": []
    },
    {
      "cell_type": "markdown",
      "metadata": {
        "id": "q67bV07z6oJf",
        "colab_type": "text"
      },
      "source": [
        "Print the metadata for the first document in the dataset."
      ]
    },
    {
      "cell_type": "code",
      "metadata": {
        "scrolled": true,
        "id": "fUaaExvS6oJg",
        "colab_type": "code",
        "colab": {}
      },
      "source": [
        "print(metadata[0])"
      ],
      "execution_count": 0,
      "outputs": []
    },
    {
      "cell_type": "markdown",
      "metadata": {
        "id": "YHkQ1o7P6oJh",
        "colab_type": "text"
      },
      "source": [
        "Convert the metadata to a Pandas dataframe to take advantage of its plotting and manipulation functions."
      ]
    },
    {
      "cell_type": "code",
      "metadata": {
        "id": "EWaiiLtC6oJi",
        "colab_type": "code",
        "colab": {}
      },
      "source": [
        "df = pd.DataFrame(metadata)"
      ],
      "execution_count": 0,
      "outputs": []
    },
    {
      "cell_type": "markdown",
      "metadata": {
        "id": "rIDbi3SD6oJj",
        "colab_type": "text"
      },
      "source": [
        "Print the first 10 rows of the dataframe"
      ]
    },
    {
      "cell_type": "code",
      "metadata": {
        "scrolled": true,
        "id": "SIJ8H0pT6oJk",
        "colab_type": "code",
        "colab": {}
      },
      "source": [
        "df.head()"
      ],
      "execution_count": 0,
      "outputs": []
    },
    {
      "cell_type": "markdown",
      "metadata": {
        "id": "MOkMFJ246oJl",
        "colab_type": "text"
      },
      "source": [
        "Find the year range of documents in this dataset"
      ]
    },
    {
      "cell_type": "code",
      "metadata": {
        "id": "HkhgmqPo6oJm",
        "colab_type": "code",
        "colab": {}
      },
      "source": [
        "print('{} to {}'.format(df['yearPublished'].min(), df['yearPublished'].max()))"
      ],
      "execution_count": 0,
      "outputs": []
    },
    {
      "cell_type": "markdown",
      "metadata": {
        "id": "rtjvEi9n6oJn",
        "colab_type": "text"
      },
      "source": [
        "Now do some preliminary analysis. Let's say you want to plot the number of volumes by decade in the sample set. \n",
        "\n",
        "Since `decade` isn't a value in our dataset, we need to add it to the dataframe. This can be done with the following step."
      ]
    },
    {
      "cell_type": "code",
      "metadata": {
        "id": "SWoq2gMt6oJn",
        "colab_type": "code",
        "colab": {}
      },
      "source": [
        "df['decade'] = df['yearPublished'] - ( df['yearPublished'] % 10)"
      ],
      "execution_count": 0,
      "outputs": []
    },
    {
      "cell_type": "markdown",
      "metadata": {
        "id": "H79W5vIw6oJp",
        "colab_type": "text"
      },
      "source": [
        "Print the first 10 rows of the dataframe again to see how the column was applied."
      ]
    },
    {
      "cell_type": "code",
      "metadata": {
        "scrolled": true,
        "id": "cKCjvDna6oJq",
        "colab_type": "code",
        "colab": {}
      },
      "source": [
        "df.head()"
      ],
      "execution_count": 0,
      "outputs": []
    },
    {
      "cell_type": "markdown",
      "metadata": {
        "id": "4lwdgRAf6oJr",
        "colab_type": "text"
      },
      "source": [
        "Now use the built in plotting tools of Pandas to plot the number of issues from each provider by decade."
      ]
    },
    {
      "cell_type": "code",
      "metadata": {
        "id": "upxLwnZr6oJs",
        "colab_type": "code",
        "colab": {}
      },
      "source": [
        "df.groupby(['decade', 'provider'])['id'].agg('count').unstack()\\\n",
        "    .plot.bar(title='Issues by decade', figsize=(20, 5), fontsize=12, stacked=True);"
      ],
      "execution_count": 0,
      "outputs": []
    },
    {
      "cell_type": "markdown",
      "metadata": {
        "id": "fNp2wN8I6oJt",
        "colab_type": "text"
      },
      "source": [
        "And do the same for the total number of pages."
      ]
    },
    {
      "cell_type": "code",
      "metadata": {
        "id": "uifT8Ocy6oJu",
        "colab_type": "code",
        "colab": {}
      },
      "source": [
        "df.groupby(['decade', 'provider'])['pageCount'].agg('sum').unstack()\\\n",
        "    .plot.bar(title='Pages by decade', figsize=(20, 5), fontsize=12, stacked=True);"
      ],
      "execution_count": 0,
      "outputs": []
    }
  ]
}