{
 "cells": [
  {
   "cell_type": "markdown",
   "metadata": {
    "colab_type": "text",
    "id": "IZtnwJbt6oJT"
   },
   "source": [
    "## Explore metadata for a curated dataset\n",
    "\n",
    "This notebook shows how to explore the metadata of your JSTOR and/or Portico dataset using Python. The following processes are described:\n",
    "\n",
    "* Importing your dataset\n",
    "* Discovering the size and contents of your dataset\n",
    "* Turning your dataset into a pandas dataframe\n",
    "* Visualizing the contents of your dataset as a graph with pandas\n",
    "\n",
    "A familiarity with pandas is helpful but not required.\n",
    "____\n",
    "We import the [pandas](./key-terms.ipynb#pandas) module to help visualize and manipulate our data. Importing `as pd` allows us to call pandas' functions using the short phrase `pd` instead of typing out `pandas` each time. "
   ]
  },
  {
   "cell_type": "code",
   "execution_count": 1,
   "metadata": {
    "colab": {},
    "colab_type": "code",
    "id": "I9IRRS466oJU"
   },
   "outputs": [],
   "source": [
    "import pandas as pd"
   ]
  },
  {
   "cell_type": "markdown",
   "metadata": {},
   "source": [
    "We import the `Dataset` module from the `tdm_client` library. The tdm_client library contains functions for connecting to the JSTOR server containing our [corpus](./key-terms.ipynb#corpus) [dataset](./key-terms.ipynb#dataset). To analyze your dataset, use the [dataset ID](./key-terms.ipynb/#dataset-ID) provided when you created your [dataset](./key-terms.ipynb/#dataset). A copy of your [dataset ID](./key-terms.ipynb/#dataset-ID) was sent to your email when you created your [corpus](./key-terms.ipynb#corpus). It should look like a long series of characters surrounded by dashes. "
   ]
  },
  {
   "cell_type": "code",
   "execution_count": 2,
   "metadata": {},
   "outputs": [],
   "source": [
    "from tdm_client import Dataset"
   ]
  },
  {
   "cell_type": "markdown",
   "metadata": {
    "colab_type": "text",
    "id": "eOLLCN9o6oJW"
   },
   "source": [
    "We create a new variable **dset** and initialize its value using the **Dataset** function. A sample **dataset ID** featuring Shakespeare Quarterly (1950-2014) is provided here ('59c090b6-3851-3c65-e016-9181833b4a2c'). Pasting your unique **dataset ID** here will import your dataset from the JSTOR server.\n",
    "\n",
    "**Note**: If you are curious what is in your dataset, there is a download link in the email you received. The format and content of the files is described in the notebook [Building a Dataset](./1-building-a-dataset.ipynb). "
   ]
  },
  {
   "cell_type": "code",
   "execution_count": 3,
   "metadata": {
    "colab": {},
    "colab_type": "code",
    "id": "e1Bu4h0i6oJX"
   },
   "outputs": [],
   "source": [
    "dset = Dataset('59c090b6-3851-3c65-e016-9181833b4a2c')"
   ]
  },
  {
   "cell_type": "markdown",
   "metadata": {
    "colab_type": "text",
    "id": "bzyjBIZY6oJZ"
   },
   "source": [
    "Find total number of documents in the dataset using the `len()` function. "
   ]
  },
  {
   "cell_type": "code",
   "execution_count": 4,
   "metadata": {
    "colab": {
     "base_uri": "https://localhost:8080/",
     "height": 34
    },
    "colab_type": "code",
    "id": "XB-2QZjJ6oJZ",
    "outputId": "db111c1e-1cf3-4362-a335-b4412d099046"
   },
   "outputs": [
    {
     "data": {
      "text/plain": [
       "6687"
      ]
     },
     "execution_count": 4,
     "metadata": {},
     "output_type": "execute_result"
    }
   ],
   "source": [
    "len(dset)"
   ]
  },
  {
   "cell_type": "markdown",
   "metadata": {
    "colab_type": "text",
    "id": "JAVIm5UC6oJb"
   },
   "source": [
    "The dset variable now contains all the documents in our corpus. We can take a peak at our documents using in our dataset by taking a slice of the first five items."
   ]
  },
  {
   "cell_type": "code",
   "execution_count": 5,
   "metadata": {
    "colab": {
     "base_uri": "https://localhost:8080/",
     "height": 102
    },
    "colab_type": "code",
    "id": "viUMWDxT6oJc",
    "outputId": "a62e89ab-fe5c-4ad0-ef19-65f6172328dd",
    "scrolled": true
   },
   "outputs": [
    {
     "data": {
      "text/plain": [
       "['http://www.jstor.org/stable/24778431',\n",
       " 'http://www.jstor.org/stable/24778442',\n",
       " 'http://www.jstor.org/stable/24778441',\n",
       " 'http://www.jstor.org/stable/44990760',\n",
       " 'http://www.jstor.org/stable/44990258']"
      ]
     },
     "execution_count": 5,
     "metadata": {},
     "output_type": "execute_result"
    }
   ],
   "source": [
    "dset.items[0:5]"
   ]
  },
  {
   "cell_type": "markdown",
   "metadata": {},
   "source": [
    "We can also check if a particular item is in our list if we know the stable url using the `in` or `not in` operators. Let's check to see if volume 5.1 of the journal *Mosaic* is `in` the dataset by using its stable URL (https://www.jstor.org/stable/i24775424)."
   ]
  },
  {
   "cell_type": "code",
   "execution_count": 10,
   "metadata": {},
   "outputs": [
    {
     "data": {
      "text/plain": [
       "True"
      ]
     },
     "execution_count": 10,
     "metadata": {},
     "output_type": "execute_result"
    }
   ],
   "source": [
    "'http://www.jstor.org/stable/44990760' in dset.items"
   ]
  },
  {
   "cell_type": "markdown",
   "metadata": {
    "colab_type": "text",
    "id": "toqiQRaZ6oJd"
   },
   "source": [
    "The document metadata can be retrieved by calling the `get_metadata` method. The metadata is a list of Python dictionaries containing attributes for each document. We create a new list variable `metadata` by using the `get_metadata` method on dset. "
   ]
  },
  {
   "cell_type": "code",
   "execution_count": 11,
   "metadata": {
    "colab": {},
    "colab_type": "code",
    "id": "L39GySgQ6oJe"
   },
   "outputs": [
    {
     "name": "stdout",
     "output_type": "stream",
     "text": [
      "https://www.jstor.org/api/tdm/v1/nb/dataset/59c090b6-3851-3c65-e016-9181833b4a2c/metadata/\n"
     ]
    }
   ],
   "source": [
    "metadata = dset.get_metadata()"
   ]
  },
  {
   "cell_type": "markdown",
   "metadata": {
    "colab_type": "text",
    "id": "q67bV07z6oJf"
   },
   "source": [
    "Print the contents of **metadata** for the first document in the dataset. The data is displayed as a dictionary of key/value pairs. "
   ]
  },
  {
   "cell_type": "code",
   "execution_count": 12,
   "metadata": {
    "colab": {},
    "colab_type": "code",
    "id": "fUaaExvS6oJg",
    "scrolled": true
   },
   "outputs": [
    {
     "name": "stdout",
     "output_type": "stream",
     "text": [
      "{'creators': ['Ian Smith'], 'datePublished': '2013-04-01T00:00:00Z', 'docType': 'article', 'id': 'http://www.jstor.org/stable/24778431', 'identifier': [{'name': 'issn', 'value': '00373222'}, {'name': 'oclc', 'value': '39852252'}, {'name': 'local_doi', 'value': '10.2307/24778431'}], 'isPartOf': 'Shakespeare Quarterly', 'language': ['eng'], 'outputFormat': ['unigram'], 'pageCount': 25, 'pageEnd': '25', 'pageStart': '1', 'pagination': 'pp. 1-25', 'provider': 'jstor', 'publicationYear': 2013, 'publisher': 'Folger Shakespeare Library', 'sourceCategory': ['Language & Literature', 'Humanities', 'Performing Arts', 'Arts'], 'tdmCategory': ['Literature on music', 'Visual arts', 'Literature (General)'], 'title': \"Othello's Black Handkerchief\", 'url': 'http://www.jstor.org/stable/24778431', 'volumeNumber': '1', 'wordCount': 11500, 'yearPublished': 2013}\n"
     ]
    }
   ],
   "source": [
    "print(metadata[0])"
   ]
  },
  {
   "cell_type": "markdown",
   "metadata": {
    "colab_type": "text",
    "id": "YHkQ1o7P6oJh"
   },
   "source": [
    "We can convert `metadata` to a Pandas dataframe to take advantage of its plotting and manipulation functions. This will help us learn more about what's in our metadata. We define this new dataframe as `df`."
   ]
  },
  {
   "cell_type": "code",
   "execution_count": 13,
   "metadata": {
    "colab": {},
    "colab_type": "code",
    "id": "EWaiiLtC6oJi"
   },
   "outputs": [],
   "source": [
    "df = pd.DataFrame(metadata)"
   ]
  },
  {
   "cell_type": "markdown",
   "metadata": {
    "colab_type": "text",
    "id": "rIDbi3SD6oJj"
   },
   "source": [
    "Print the first 5 rows of the dataframe `df` with the `head` attribute."
   ]
  },
  {
   "cell_type": "code",
   "execution_count": 14,
   "metadata": {
    "colab": {},
    "colab_type": "code",
    "id": "SIJ8H0pT6oJk",
    "scrolled": true
   },
   "outputs": [
    {
     "data": {
      "text/html": [
       "<div>\n",
       "<style scoped>\n",
       "    .dataframe tbody tr th:only-of-type {\n",
       "        vertical-align: middle;\n",
       "    }\n",
       "\n",
       "    .dataframe tbody tr th {\n",
       "        vertical-align: top;\n",
       "    }\n",
       "\n",
       "    .dataframe thead th {\n",
       "        text-align: right;\n",
       "    }\n",
       "</style>\n",
       "<table border=\"1\" class=\"dataframe\">\n",
       "  <thead>\n",
       "    <tr style=\"text-align: right;\">\n",
       "      <th></th>\n",
       "      <th>abstract</th>\n",
       "      <th>creators</th>\n",
       "      <th>datePublished</th>\n",
       "      <th>docType</th>\n",
       "      <th>id</th>\n",
       "      <th>identifier</th>\n",
       "      <th>isPartOf</th>\n",
       "      <th>language</th>\n",
       "      <th>outputFormat</th>\n",
       "      <th>pageCount</th>\n",
       "      <th>...</th>\n",
       "      <th>provider</th>\n",
       "      <th>publicationYear</th>\n",
       "      <th>publisher</th>\n",
       "      <th>sourceCategory</th>\n",
       "      <th>tdmCategory</th>\n",
       "      <th>title</th>\n",
       "      <th>url</th>\n",
       "      <th>volumeNumber</th>\n",
       "      <th>wordCount</th>\n",
       "      <th>yearPublished</th>\n",
       "    </tr>\n",
       "  </thead>\n",
       "  <tbody>\n",
       "    <tr>\n",
       "      <th>0</th>\n",
       "      <td>NaN</td>\n",
       "      <td>[Ian Smith]</td>\n",
       "      <td>2013-04-01T00:00:00Z</td>\n",
       "      <td>article</td>\n",
       "      <td>http://www.jstor.org/stable/24778431</td>\n",
       "      <td>[{'name': 'issn', 'value': '00373222'}, {'name...</td>\n",
       "      <td>Shakespeare Quarterly</td>\n",
       "      <td>[eng]</td>\n",
       "      <td>[unigram]</td>\n",
       "      <td>25</td>\n",
       "      <td>...</td>\n",
       "      <td>jstor</td>\n",
       "      <td>2013</td>\n",
       "      <td>Folger Shakespeare Library</td>\n",
       "      <td>[Language &amp; Literature, Humanities, Performing...</td>\n",
       "      <td>[Literature on music, Visual arts, Literature ...</td>\n",
       "      <td>Othello's Black Handkerchief</td>\n",
       "      <td>http://www.jstor.org/stable/24778431</td>\n",
       "      <td>1</td>\n",
       "      <td>11500</td>\n",
       "      <td>2013</td>\n",
       "    </tr>\n",
       "    <tr>\n",
       "      <th>1</th>\n",
       "      <td>NaN</td>\n",
       "      <td>[Nick Moschovakis]</td>\n",
       "      <td>2013-04-01T00:00:00Z</td>\n",
       "      <td>article</td>\n",
       "      <td>http://www.jstor.org/stable/24778442</td>\n",
       "      <td>[{'name': 'issn', 'value': '00373222'}, {'name...</td>\n",
       "      <td>Shakespeare Quarterly</td>\n",
       "      <td>[eng]</td>\n",
       "      <td>[unigram]</td>\n",
       "      <td>5</td>\n",
       "      <td>...</td>\n",
       "      <td>jstor</td>\n",
       "      <td>2013</td>\n",
       "      <td>Folger Shakespeare Library</td>\n",
       "      <td>[Language &amp; Literature, Humanities, Performing...</td>\n",
       "      <td>[English literature, Christianity, Christian D...</td>\n",
       "      <td>Review Article</td>\n",
       "      <td>http://www.jstor.org/stable/24778442</td>\n",
       "      <td>1</td>\n",
       "      <td>2265</td>\n",
       "      <td>2013</td>\n",
       "    </tr>\n",
       "    <tr>\n",
       "      <th>2</th>\n",
       "      <td>NaN</td>\n",
       "      <td>[Balz Engler]</td>\n",
       "      <td>2013-04-01T00:00:00Z</td>\n",
       "      <td>article</td>\n",
       "      <td>http://www.jstor.org/stable/24778441</td>\n",
       "      <td>[{'name': 'issn', 'value': '00373222'}, {'name...</td>\n",
       "      <td>Shakespeare Quarterly</td>\n",
       "      <td>[eng]</td>\n",
       "      <td>[unigram]</td>\n",
       "      <td>2</td>\n",
       "      <td>...</td>\n",
       "      <td>jstor</td>\n",
       "      <td>2013</td>\n",
       "      <td>Folger Shakespeare Library</td>\n",
       "      <td>[Language &amp; Literature, Humanities, Performing...</td>\n",
       "      <td>[English literature, Modern languages; Celtic ...</td>\n",
       "      <td>Review Article</td>\n",
       "      <td>http://www.jstor.org/stable/24778441</td>\n",
       "      <td>1</td>\n",
       "      <td>713</td>\n",
       "      <td>2013</td>\n",
       "    </tr>\n",
       "    <tr>\n",
       "      <th>3</th>\n",
       "      <td>NaN</td>\n",
       "      <td>NaN</td>\n",
       "      <td>1994-01-01T00:00:00Z</td>\n",
       "      <td>article</td>\n",
       "      <td>http://www.jstor.org/stable/44990760</td>\n",
       "      <td>[{'name': 'issn', 'value': '00373222'}, {'name...</td>\n",
       "      <td>Shakespeare Quarterly</td>\n",
       "      <td>[eng]</td>\n",
       "      <td>[unigram]</td>\n",
       "      <td>3</td>\n",
       "      <td>...</td>\n",
       "      <td>jstor</td>\n",
       "      <td>1994</td>\n",
       "      <td>Oxford University Press</td>\n",
       "      <td>[Language &amp; Literature, Humanities, Performing...</td>\n",
       "      <td>[Modern languages; Celtic languages, English l...</td>\n",
       "      <td>Front Matter</td>\n",
       "      <td>http://www.jstor.org/stable/44990760</td>\n",
       "      <td>5</td>\n",
       "      <td>737</td>\n",
       "      <td>1994</td>\n",
       "    </tr>\n",
       "    <tr>\n",
       "      <th>4</th>\n",
       "      <td>NaN</td>\n",
       "      <td>NaN</td>\n",
       "      <td>1993-01-01T00:00:00Z</td>\n",
       "      <td>article</td>\n",
       "      <td>http://www.jstor.org/stable/44990258</td>\n",
       "      <td>[{'name': 'issn', 'value': '00373222'}, {'name...</td>\n",
       "      <td>Shakespeare Quarterly</td>\n",
       "      <td>[eng]</td>\n",
       "      <td>[unigram]</td>\n",
       "      <td>6</td>\n",
       "      <td>...</td>\n",
       "      <td>jstor</td>\n",
       "      <td>1993</td>\n",
       "      <td>Oxford University Press</td>\n",
       "      <td>[Language &amp; Literature, Humanities, Performing...</td>\n",
       "      <td>[Modern languages; Celtic languages, Local His...</td>\n",
       "      <td>Front Matter</td>\n",
       "      <td>http://www.jstor.org/stable/44990258</td>\n",
       "      <td>5</td>\n",
       "      <td>1348</td>\n",
       "      <td>1993</td>\n",
       "    </tr>\n",
       "  </tbody>\n",
       "</table>\n",
       "<p>5 rows × 23 columns</p>\n",
       "</div>"
      ],
      "text/plain": [
       "  abstract            creators         datePublished  docType  \\\n",
       "0      NaN         [Ian Smith]  2013-04-01T00:00:00Z  article   \n",
       "1      NaN  [Nick Moschovakis]  2013-04-01T00:00:00Z  article   \n",
       "2      NaN       [Balz Engler]  2013-04-01T00:00:00Z  article   \n",
       "3      NaN                 NaN  1994-01-01T00:00:00Z  article   \n",
       "4      NaN                 NaN  1993-01-01T00:00:00Z  article   \n",
       "\n",
       "                                     id  \\\n",
       "0  http://www.jstor.org/stable/24778431   \n",
       "1  http://www.jstor.org/stable/24778442   \n",
       "2  http://www.jstor.org/stable/24778441   \n",
       "3  http://www.jstor.org/stable/44990760   \n",
       "4  http://www.jstor.org/stable/44990258   \n",
       "\n",
       "                                          identifier               isPartOf  \\\n",
       "0  [{'name': 'issn', 'value': '00373222'}, {'name...  Shakespeare Quarterly   \n",
       "1  [{'name': 'issn', 'value': '00373222'}, {'name...  Shakespeare Quarterly   \n",
       "2  [{'name': 'issn', 'value': '00373222'}, {'name...  Shakespeare Quarterly   \n",
       "3  [{'name': 'issn', 'value': '00373222'}, {'name...  Shakespeare Quarterly   \n",
       "4  [{'name': 'issn', 'value': '00373222'}, {'name...  Shakespeare Quarterly   \n",
       "\n",
       "  language outputFormat  pageCount  ... provider publicationYear  \\\n",
       "0    [eng]    [unigram]         25  ...    jstor            2013   \n",
       "1    [eng]    [unigram]          5  ...    jstor            2013   \n",
       "2    [eng]    [unigram]          2  ...    jstor            2013   \n",
       "3    [eng]    [unigram]          3  ...    jstor            1994   \n",
       "4    [eng]    [unigram]          6  ...    jstor            1993   \n",
       "\n",
       "                    publisher  \\\n",
       "0  Folger Shakespeare Library   \n",
       "1  Folger Shakespeare Library   \n",
       "2  Folger Shakespeare Library   \n",
       "3     Oxford University Press   \n",
       "4     Oxford University Press   \n",
       "\n",
       "                                      sourceCategory  \\\n",
       "0  [Language & Literature, Humanities, Performing...   \n",
       "1  [Language & Literature, Humanities, Performing...   \n",
       "2  [Language & Literature, Humanities, Performing...   \n",
       "3  [Language & Literature, Humanities, Performing...   \n",
       "4  [Language & Literature, Humanities, Performing...   \n",
       "\n",
       "                                         tdmCategory  \\\n",
       "0  [Literature on music, Visual arts, Literature ...   \n",
       "1  [English literature, Christianity, Christian D...   \n",
       "2  [English literature, Modern languages; Celtic ...   \n",
       "3  [Modern languages; Celtic languages, English l...   \n",
       "4  [Modern languages; Celtic languages, Local His...   \n",
       "\n",
       "                          title                                   url  \\\n",
       "0  Othello's Black Handkerchief  http://www.jstor.org/stable/24778431   \n",
       "1                Review Article  http://www.jstor.org/stable/24778442   \n",
       "2                Review Article  http://www.jstor.org/stable/24778441   \n",
       "3                  Front Matter  http://www.jstor.org/stable/44990760   \n",
       "4                  Front Matter  http://www.jstor.org/stable/44990258   \n",
       "\n",
       "  volumeNumber wordCount yearPublished  \n",
       "0            1     11500          2013  \n",
       "1            1      2265          2013  \n",
       "2            1       713          2013  \n",
       "3            5       737          1994  \n",
       "4            5      1348          1993  \n",
       "\n",
       "[5 rows x 23 columns]"
      ]
     },
     "execution_count": 14,
     "metadata": {},
     "output_type": "execute_result"
    }
   ],
   "source": [
    "df.head()"
   ]
  },
  {
   "cell_type": "markdown",
   "metadata": {
    "colab_type": "text",
    "id": "MOkMFJ246oJl"
   },
   "source": [
    "We can find the year range in our pandas dataframe by finding the minimum and maximum of `datePublished`."
   ]
  },
  {
   "cell_type": "code",
   "execution_count": 15,
   "metadata": {
    "colab": {},
    "colab_type": "code",
    "id": "HkhgmqPo6oJm"
   },
   "outputs": [
    {
     "name": "stdout",
     "output_type": "stream",
     "text": [
      "1950 to 2013\n"
     ]
    }
   ],
   "source": [
    "minYear = df['datePublished'].min()\n",
    "maxYear = df['datePublished'].max()\n",
    "\n",
    "print(str(minYear) + ' to ' + str(maxYear))"
   ]
  },
  {
   "cell_type": "markdown",
   "metadata": {
    "colab_type": "text",
    "id": "rtjvEi9n6oJn"
   },
   "source": [
    "Now let's do some preliminary analysis. Let's say we want to plot the number of documents by decade in the sample set. \n",
    "\n",
    "Since `decade` isn't a value in our dataset, we need to add it to the dataframe. We can do this by defining a new dataframe column `decade`. To translate a year (1925) to a decade (1920), we need to subtract the final digit so it becomes a zero. We can find the value for the final digit in any particular case by using modulo (which provides the remainder of a division). Here's an example using the date 1925."
   ]
  },
  {
   "cell_type": "code",
   "execution_count": 16,
   "metadata": {},
   "outputs": [
    {
     "data": {
      "text/plain": [
       "1920"
      ]
     },
     "execution_count": 16,
     "metadata": {},
     "output_type": "execute_result"
    }
   ],
   "source": [
    "1925 - (1925 % 10)"
   ]
  },
  {
   "cell_type": "markdown",
   "metadata": {},
   "source": [
    "We can translate this example to the whole dataframe using the following code."
   ]
  },
  {
   "cell_type": "code",
   "execution_count": 17,
   "metadata": {
    "colab": {},
    "colab_type": "code",
    "id": "SWoq2gMt6oJn"
   },
   "outputs": [],
   "source": [
    "def add_decade(value):\n",
    "    yr = int(value[:4])\n",
    "    decade = yr - ( yr % 10 )\n",
    "    return decade\n",
    "\n",
    "df['decade'] = df['datePublished'].apply(add_decade)"
   ]
  },
  {
   "cell_type": "markdown",
   "metadata": {
    "colab_type": "text",
    "id": "H79W5vIw6oJp"
   },
   "source": [
    "To see the new decade column in our data, let's print the first 5 rows of the dataframe again."
   ]
  },
  {
   "cell_type": "code",
   "execution_count": 18,
   "metadata": {
    "colab": {},
    "colab_type": "code",
    "id": "cKCjvDna6oJq",
    "scrolled": true
   },
   "outputs": [
    {
     "data": {
      "text/html": [
       "<div>\n",
       "<style scoped>\n",
       "    .dataframe tbody tr th:only-of-type {\n",
       "        vertical-align: middle;\n",
       "    }\n",
       "\n",
       "    .dataframe tbody tr th {\n",
       "        vertical-align: top;\n",
       "    }\n",
       "\n",
       "    .dataframe thead th {\n",
       "        text-align: right;\n",
       "    }\n",
       "</style>\n",
       "<table border=\"1\" class=\"dataframe\">\n",
       "  <thead>\n",
       "    <tr style=\"text-align: right;\">\n",
       "      <th></th>\n",
       "      <th>abstract</th>\n",
       "      <th>creators</th>\n",
       "      <th>datePublished</th>\n",
       "      <th>docType</th>\n",
       "      <th>id</th>\n",
       "      <th>identifier</th>\n",
       "      <th>isPartOf</th>\n",
       "      <th>language</th>\n",
       "      <th>outputFormat</th>\n",
       "      <th>pageCount</th>\n",
       "      <th>...</th>\n",
       "      <th>publicationYear</th>\n",
       "      <th>publisher</th>\n",
       "      <th>sourceCategory</th>\n",
       "      <th>tdmCategory</th>\n",
       "      <th>title</th>\n",
       "      <th>url</th>\n",
       "      <th>volumeNumber</th>\n",
       "      <th>wordCount</th>\n",
       "      <th>yearPublished</th>\n",
       "      <th>decade</th>\n",
       "    </tr>\n",
       "  </thead>\n",
       "  <tbody>\n",
       "    <tr>\n",
       "      <th>0</th>\n",
       "      <td>NaN</td>\n",
       "      <td>[Ian Smith]</td>\n",
       "      <td>2013-04-01T00:00:00Z</td>\n",
       "      <td>article</td>\n",
       "      <td>http://www.jstor.org/stable/24778431</td>\n",
       "      <td>[{'name': 'issn', 'value': '00373222'}, {'name...</td>\n",
       "      <td>Shakespeare Quarterly</td>\n",
       "      <td>[eng]</td>\n",
       "      <td>[unigram]</td>\n",
       "      <td>25</td>\n",
       "      <td>...</td>\n",
       "      <td>2013</td>\n",
       "      <td>Folger Shakespeare Library</td>\n",
       "      <td>[Language &amp; Literature, Humanities, Performing...</td>\n",
       "      <td>[Literature on music, Visual arts, Literature ...</td>\n",
       "      <td>Othello's Black Handkerchief</td>\n",
       "      <td>http://www.jstor.org/stable/24778431</td>\n",
       "      <td>1</td>\n",
       "      <td>11500</td>\n",
       "      <td>2013</td>\n",
       "      <td>2010</td>\n",
       "    </tr>\n",
       "    <tr>\n",
       "      <th>1</th>\n",
       "      <td>NaN</td>\n",
       "      <td>[Nick Moschovakis]</td>\n",
       "      <td>2013-04-01T00:00:00Z</td>\n",
       "      <td>article</td>\n",
       "      <td>http://www.jstor.org/stable/24778442</td>\n",
       "      <td>[{'name': 'issn', 'value': '00373222'}, {'name...</td>\n",
       "      <td>Shakespeare Quarterly</td>\n",
       "      <td>[eng]</td>\n",
       "      <td>[unigram]</td>\n",
       "      <td>5</td>\n",
       "      <td>...</td>\n",
       "      <td>2013</td>\n",
       "      <td>Folger Shakespeare Library</td>\n",
       "      <td>[Language &amp; Literature, Humanities, Performing...</td>\n",
       "      <td>[English literature, Christianity, Christian D...</td>\n",
       "      <td>Review Article</td>\n",
       "      <td>http://www.jstor.org/stable/24778442</td>\n",
       "      <td>1</td>\n",
       "      <td>2265</td>\n",
       "      <td>2013</td>\n",
       "      <td>2010</td>\n",
       "    </tr>\n",
       "    <tr>\n",
       "      <th>2</th>\n",
       "      <td>NaN</td>\n",
       "      <td>[Balz Engler]</td>\n",
       "      <td>2013-04-01T00:00:00Z</td>\n",
       "      <td>article</td>\n",
       "      <td>http://www.jstor.org/stable/24778441</td>\n",
       "      <td>[{'name': 'issn', 'value': '00373222'}, {'name...</td>\n",
       "      <td>Shakespeare Quarterly</td>\n",
       "      <td>[eng]</td>\n",
       "      <td>[unigram]</td>\n",
       "      <td>2</td>\n",
       "      <td>...</td>\n",
       "      <td>2013</td>\n",
       "      <td>Folger Shakespeare Library</td>\n",
       "      <td>[Language &amp; Literature, Humanities, Performing...</td>\n",
       "      <td>[English literature, Modern languages; Celtic ...</td>\n",
       "      <td>Review Article</td>\n",
       "      <td>http://www.jstor.org/stable/24778441</td>\n",
       "      <td>1</td>\n",
       "      <td>713</td>\n",
       "      <td>2013</td>\n",
       "      <td>2010</td>\n",
       "    </tr>\n",
       "    <tr>\n",
       "      <th>3</th>\n",
       "      <td>NaN</td>\n",
       "      <td>NaN</td>\n",
       "      <td>1994-01-01T00:00:00Z</td>\n",
       "      <td>article</td>\n",
       "      <td>http://www.jstor.org/stable/44990760</td>\n",
       "      <td>[{'name': 'issn', 'value': '00373222'}, {'name...</td>\n",
       "      <td>Shakespeare Quarterly</td>\n",
       "      <td>[eng]</td>\n",
       "      <td>[unigram]</td>\n",
       "      <td>3</td>\n",
       "      <td>...</td>\n",
       "      <td>1994</td>\n",
       "      <td>Oxford University Press</td>\n",
       "      <td>[Language &amp; Literature, Humanities, Performing...</td>\n",
       "      <td>[Modern languages; Celtic languages, English l...</td>\n",
       "      <td>Front Matter</td>\n",
       "      <td>http://www.jstor.org/stable/44990760</td>\n",
       "      <td>5</td>\n",
       "      <td>737</td>\n",
       "      <td>1994</td>\n",
       "      <td>1990</td>\n",
       "    </tr>\n",
       "    <tr>\n",
       "      <th>4</th>\n",
       "      <td>NaN</td>\n",
       "      <td>NaN</td>\n",
       "      <td>1993-01-01T00:00:00Z</td>\n",
       "      <td>article</td>\n",
       "      <td>http://www.jstor.org/stable/44990258</td>\n",
       "      <td>[{'name': 'issn', 'value': '00373222'}, {'name...</td>\n",
       "      <td>Shakespeare Quarterly</td>\n",
       "      <td>[eng]</td>\n",
       "      <td>[unigram]</td>\n",
       "      <td>6</td>\n",
       "      <td>...</td>\n",
       "      <td>1993</td>\n",
       "      <td>Oxford University Press</td>\n",
       "      <td>[Language &amp; Literature, Humanities, Performing...</td>\n",
       "      <td>[Modern languages; Celtic languages, Local His...</td>\n",
       "      <td>Front Matter</td>\n",
       "      <td>http://www.jstor.org/stable/44990258</td>\n",
       "      <td>5</td>\n",
       "      <td>1348</td>\n",
       "      <td>1993</td>\n",
       "      <td>1990</td>\n",
       "    </tr>\n",
       "  </tbody>\n",
       "</table>\n",
       "<p>5 rows × 24 columns</p>\n",
       "</div>"
      ],
      "text/plain": [
       "  abstract            creators         datePublished  docType  \\\n",
       "0      NaN         [Ian Smith]  2013-04-01T00:00:00Z  article   \n",
       "1      NaN  [Nick Moschovakis]  2013-04-01T00:00:00Z  article   \n",
       "2      NaN       [Balz Engler]  2013-04-01T00:00:00Z  article   \n",
       "3      NaN                 NaN  1994-01-01T00:00:00Z  article   \n",
       "4      NaN                 NaN  1993-01-01T00:00:00Z  article   \n",
       "\n",
       "                                     id  \\\n",
       "0  http://www.jstor.org/stable/24778431   \n",
       "1  http://www.jstor.org/stable/24778442   \n",
       "2  http://www.jstor.org/stable/24778441   \n",
       "3  http://www.jstor.org/stable/44990760   \n",
       "4  http://www.jstor.org/stable/44990258   \n",
       "\n",
       "                                          identifier               isPartOf  \\\n",
       "0  [{'name': 'issn', 'value': '00373222'}, {'name...  Shakespeare Quarterly   \n",
       "1  [{'name': 'issn', 'value': '00373222'}, {'name...  Shakespeare Quarterly   \n",
       "2  [{'name': 'issn', 'value': '00373222'}, {'name...  Shakespeare Quarterly   \n",
       "3  [{'name': 'issn', 'value': '00373222'}, {'name...  Shakespeare Quarterly   \n",
       "4  [{'name': 'issn', 'value': '00373222'}, {'name...  Shakespeare Quarterly   \n",
       "\n",
       "  language outputFormat  pageCount  ... publicationYear  \\\n",
       "0    [eng]    [unigram]         25  ...            2013   \n",
       "1    [eng]    [unigram]          5  ...            2013   \n",
       "2    [eng]    [unigram]          2  ...            2013   \n",
       "3    [eng]    [unigram]          3  ...            1994   \n",
       "4    [eng]    [unigram]          6  ...            1993   \n",
       "\n",
       "                    publisher  \\\n",
       "0  Folger Shakespeare Library   \n",
       "1  Folger Shakespeare Library   \n",
       "2  Folger Shakespeare Library   \n",
       "3     Oxford University Press   \n",
       "4     Oxford University Press   \n",
       "\n",
       "                                      sourceCategory  \\\n",
       "0  [Language & Literature, Humanities, Performing...   \n",
       "1  [Language & Literature, Humanities, Performing...   \n",
       "2  [Language & Literature, Humanities, Performing...   \n",
       "3  [Language & Literature, Humanities, Performing...   \n",
       "4  [Language & Literature, Humanities, Performing...   \n",
       "\n",
       "                                         tdmCategory  \\\n",
       "0  [Literature on music, Visual arts, Literature ...   \n",
       "1  [English literature, Christianity, Christian D...   \n",
       "2  [English literature, Modern languages; Celtic ...   \n",
       "3  [Modern languages; Celtic languages, English l...   \n",
       "4  [Modern languages; Celtic languages, Local His...   \n",
       "\n",
       "                          title                                   url  \\\n",
       "0  Othello's Black Handkerchief  http://www.jstor.org/stable/24778431   \n",
       "1                Review Article  http://www.jstor.org/stable/24778442   \n",
       "2                Review Article  http://www.jstor.org/stable/24778441   \n",
       "3                  Front Matter  http://www.jstor.org/stable/44990760   \n",
       "4                  Front Matter  http://www.jstor.org/stable/44990258   \n",
       "\n",
       "  volumeNumber wordCount yearPublished decade  \n",
       "0            1     11500          2013   2010  \n",
       "1            1      2265          2013   2010  \n",
       "2            1       713          2013   2010  \n",
       "3            5       737          1994   1990  \n",
       "4            5      1348          1993   1990  \n",
       "\n",
       "[5 rows x 24 columns]"
      ]
     },
     "execution_count": 18,
     "metadata": {},
     "output_type": "execute_result"
    }
   ],
   "source": [
    "df.head()"
   ]
  },
  {
   "cell_type": "markdown",
   "metadata": {
    "colab_type": "text",
    "id": "4lwdgRAf6oJr"
   },
   "source": [
    "Now we can use the built in plotting tools of Pandas to plot the number of documents from each provider by decade."
   ]
  },
  {
   "cell_type": "code",
   "execution_count": 22,
   "metadata": {
    "colab": {},
    "colab_type": "code",
    "id": "upxLwnZr6oJs"
   },
   "outputs": [
    {
     "data": {
      "image/png": "[encoded data removed]",
      "text/plain": [
       "<Figure size 1440x360 with 1 Axes>"
      ]
     },
     "metadata": {
      "needs_background": "light"
     },
     "output_type": "display_data"
    }
   ],
   "source": [
    "df.groupby(['decade', 'provider'])['id'].agg('count').unstack()\\\n",
    "    .plot.bar(title='Documents by decade', figsize=(20, 5), fontsize=12, stacked=True);"
   ]
  },
  {
   "cell_type": "markdown",
   "metadata": {
    "colab_type": "text",
    "id": "fNp2wN8I6oJt"
   },
   "source": [
    "And do the same for the total number of pages."
   ]
  },
  {
   "cell_type": "code",
   "execution_count": 20,
   "metadata": {
    "colab": {},
    "colab_type": "code",
    "id": "uifT8Ocy6oJu"
   },
   "outputs": [
    {
     "data": {
      "image/png": "[encoded data removed]",
      "text/plain": [
       "<Figure size 1440x360 with 1 Axes>"
      ]
     },
     "metadata": {
      "needs_background": "light"
     },
     "output_type": "display_data"
    }
   ],
   "source": [
    "df.groupby(['decade', 'provider'])['pageCount'].agg('sum').unstack()\\\n",
    "    .plot.bar(title='Pages by decade', figsize=(20, 5), fontsize=12, stacked=True);"
   ]
  },
  {
   "cell_type": "code",
   "execution_count": null,
   "metadata": {},
   "outputs": [],
   "source": []
  }
 ],
 "metadata": {
  "colab": {
   "name": "2-metadata.ipynb",
   "provenance": [],
   "toc_visible": true
  },
  "kernelspec": {
   "display_name": "Python 3",
   "language": "python",
   "name": "python3"
  },
  "language_info": {
   "codemirror_mode": {
    "name": "ipython",
    "version": 3
   },
   "file_extension": ".py",
   "mimetype": "text/x-python",
   "name": "python",
   "nbconvert_exporter": "python",
   "pygments_lexer": "ipython3",
   "version": "3.7.3"
  }
 },
 "nbformat": 4,
 "nbformat_minor": 4
}
