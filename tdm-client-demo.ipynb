{
 "cells": [
  {
   "cell_type": "markdown",
   "metadata": {},
   "source": [
    "# New TDM client demo"
   ]
  },
  {
   "cell_type": "markdown",
   "metadata": {},
   "source": [
    "### Download and filter metadata with Pandas"
   ]
  },
  {
   "cell_type": "code",
   "execution_count": 73,
   "metadata": {},
   "outputs": [],
   "source": [
    "# Parameters:\n",
    "dataset_id = \"80d4487c-cea8-ff65-7e3c-2b37ce7b41d7\"\n"
   ]
  },
  {
   "cell_type": "code",
   "execution_count": 74,
   "metadata": {},
   "outputs": [
    {
     "name": "stdout",
     "output_type": "stream",
     "text": [
      "INFO:root:Downloading 80d4487c-cea8-ff65-7e3c-2b37ce7b41d7 metadata to 80d4487c-cea8-ff65-7e3c-2b37ce7b41d7.csv\n"
     ]
    },
    {
     "name": "stderr",
     "output_type": "stream",
     "text": [
      "100% |########################################################################|\n"
     ]
    }
   ],
   "source": [
    "# Importing your dataset with a dataset ID\n",
    "import tdm_client\n",
    "\n",
    "dataset_metadata = tdm_client.get_metadata(dataset_id)"
   ]
  },
  {
   "cell_type": "code",
   "execution_count": 75,
   "metadata": {},
   "outputs": [],
   "source": [
    "import pandas as pd"
   ]
  },
  {
   "cell_type": "code",
   "execution_count": 76,
   "metadata": {},
   "outputs": [],
   "source": [
    "df = pd.read_csv(dataset_metadata)"
   ]
  },
  {
   "cell_type": "code",
   "execution_count": 77,
   "metadata": {},
   "outputs": [
    {
     "name": "stdout",
     "output_type": "stream",
     "text": [
      "Total documents 650\n"
     ]
    }
   ],
   "source": [
    "dataset_document_count = len(df)\n",
    "print(\"Total documents\", dataset_document_count)"
   ]
  },
  {
   "cell_type": "code",
   "execution_count": 78,
   "metadata": {},
   "outputs": [
    {
     "data": {
      "text/html": [
       "<div>\n",
       "<style scoped>\n",
       "    .dataframe tbody tr th:only-of-type {\n",
       "        vertical-align: middle;\n",
       "    }\n",
       "\n",
       "    .dataframe tbody tr th {\n",
       "        vertical-align: top;\n",
       "    }\n",
       "\n",
       "    .dataframe thead th {\n",
       "        text-align: right;\n",
       "    }\n",
       "</style>\n",
       "<table border=\"1\" class=\"dataframe\">\n",
       "  <thead>\n",
       "    <tr style=\"text-align: right;\">\n",
       "      <th></th>\n",
       "      <th>id</th>\n",
       "      <th>title</th>\n",
       "      <th>isPartOf</th>\n",
       "      <th>publicationYear</th>\n",
       "      <th>doi</th>\n",
       "      <th>docType</th>\n",
       "      <th>provider</th>\n",
       "      <th>datePublished</th>\n",
       "      <th>issueNumber</th>\n",
       "      <th>volumeNumber</th>\n",
       "      <th>url</th>\n",
       "      <th>creator</th>\n",
       "      <th>publisher</th>\n",
       "      <th>language</th>\n",
       "      <th>pageStart</th>\n",
       "      <th>pageEnd</th>\n",
       "      <th>placeOfPublication</th>\n",
       "      <th>wordCount</th>\n",
       "      <th>pageCount</th>\n",
       "      <th>outputFormat</th>\n",
       "    </tr>\n",
       "  </thead>\n",
       "  <tbody>\n",
       "    <tr>\n",
       "      <th>0</th>\n",
       "      <td>http://www.jstor.org/stable/44014892</td>\n",
       "      <td>Moral Panic, Moral Breach: Bernhard Goetz, Geo...</td>\n",
       "      <td>Social Problems</td>\n",
       "      <td>2016</td>\n",
       "      <td>NaN</td>\n",
       "      <td>article</td>\n",
       "      <td>jstor</td>\n",
       "      <td>2016-02-01</td>\n",
       "      <td>1</td>\n",
       "      <td>63</td>\n",
       "      <td>http://www.jstor.org/stable/44014892</td>\n",
       "      <td>Jennifer Carlson</td>\n",
       "      <td>Oxford University Press</td>\n",
       "      <td>eng</td>\n",
       "      <td>1</td>\n",
       "      <td>20</td>\n",
       "      <td>NaN</td>\n",
       "      <td>12172</td>\n",
       "      <td>20</td>\n",
       "      <td>unigram; bigram; trigram</td>\n",
       "    </tr>\n",
       "    <tr>\n",
       "      <th>1</th>\n",
       "      <td>http://www.jstor.org/stable/1290502</td>\n",
       "      <td>(E)racing the Fourth Amendment</td>\n",
       "      <td>Michigan Law Review</td>\n",
       "      <td>2002</td>\n",
       "      <td>NaN</td>\n",
       "      <td>article</td>\n",
       "      <td>jstor</td>\n",
       "      <td>2002-03-01</td>\n",
       "      <td>5</td>\n",
       "      <td>100</td>\n",
       "      <td>http://www.jstor.org/stable/1290502</td>\n",
       "      <td>Devon W. Carbado</td>\n",
       "      <td>The Michigan Law Review Association</td>\n",
       "      <td>eng</td>\n",
       "      <td>946</td>\n",
       "      <td>1044</td>\n",
       "      <td>NaN</td>\n",
       "      <td>51495</td>\n",
       "      <td>99</td>\n",
       "      <td>unigram; bigram; trigram</td>\n",
       "    </tr>\n",
       "    <tr>\n",
       "      <th>2</th>\n",
       "      <td>http://www.jstor.org/stable/24480984</td>\n",
       "      <td>Race in Contemporary America: Protest, Police ...</td>\n",
       "      <td>Economic and Political Weekly</td>\n",
       "      <td>2014</td>\n",
       "      <td>NaN</td>\n",
       "      <td>article</td>\n",
       "      <td>jstor</td>\n",
       "      <td>2014-11-01</td>\n",
       "      <td>43/44</td>\n",
       "      <td>49</td>\n",
       "      <td>http://www.jstor.org/stable/24480984</td>\n",
       "      <td>DIVYA RAVINDRANATH; MAXINE DAVIS; BETH PRUSACZ...</td>\n",
       "      <td>Economic and Political Weekly</td>\n",
       "      <td>eng</td>\n",
       "      <td>22</td>\n",
       "      <td>24</td>\n",
       "      <td>NaN</td>\n",
       "      <td>2615</td>\n",
       "      <td>3</td>\n",
       "      <td>unigram; bigram; trigram</td>\n",
       "    </tr>\n",
       "    <tr>\n",
       "      <th>3</th>\n",
       "      <td>http://www.jstor.org/stable/40041293</td>\n",
       "      <td>Property Outlaws</td>\n",
       "      <td>University of Pennsylvania Law Review</td>\n",
       "      <td>2007</td>\n",
       "      <td>NaN</td>\n",
       "      <td>article</td>\n",
       "      <td>jstor</td>\n",
       "      <td>2007-05-01</td>\n",
       "      <td>5</td>\n",
       "      <td>155</td>\n",
       "      <td>http://www.jstor.org/stable/40041293</td>\n",
       "      <td>Eduardo Moisés Peñalver; Sonia K. Katyal</td>\n",
       "      <td>The University of Pennsylvania Law Review</td>\n",
       "      <td>eng</td>\n",
       "      <td>1095</td>\n",
       "      <td>1186</td>\n",
       "      <td>NaN</td>\n",
       "      <td>40548</td>\n",
       "      <td>92</td>\n",
       "      <td>unigram; bigram; trigram</td>\n",
       "    </tr>\n",
       "    <tr>\n",
       "      <th>4</th>\n",
       "      <td>http://www.jstor.org/stable/10.5325/utopianstu...</td>\n",
       "      <td>The Anglo-Saxon New Negro: Sutton E. Griggs’s ...</td>\n",
       "      <td>Utopian Studies</td>\n",
       "      <td>2020</td>\n",
       "      <td>NaN</td>\n",
       "      <td>article</td>\n",
       "      <td>jstor</td>\n",
       "      <td>2020-03-01</td>\n",
       "      <td>1</td>\n",
       "      <td>31</td>\n",
       "      <td>http://www.jstor.org/stable/10.5325/utopianstu...</td>\n",
       "      <td>William Tamplin</td>\n",
       "      <td>Penn State University Press</td>\n",
       "      <td>eng</td>\n",
       "      <td>97</td>\n",
       "      <td>117</td>\n",
       "      <td>NaN</td>\n",
       "      <td>7343</td>\n",
       "      <td>21</td>\n",
       "      <td>unigram; bigram; trigram</td>\n",
       "    </tr>\n",
       "  </tbody>\n",
       "</table>\n",
       "</div>"
      ],
      "text/plain": [
       "                                                  id  \\\n",
       "0               http://www.jstor.org/stable/44014892   \n",
       "1                http://www.jstor.org/stable/1290502   \n",
       "2               http://www.jstor.org/stable/24480984   \n",
       "3               http://www.jstor.org/stable/40041293   \n",
       "4  http://www.jstor.org/stable/10.5325/utopianstu...   \n",
       "\n",
       "                                               title  \\\n",
       "0  Moral Panic, Moral Breach: Bernhard Goetz, Geo...   \n",
       "1                     (E)racing the Fourth Amendment   \n",
       "2  Race in Contemporary America: Protest, Police ...   \n",
       "3                                   Property Outlaws   \n",
       "4  The Anglo-Saxon New Negro: Sutton E. Griggs’s ...   \n",
       "\n",
       "                                isPartOf  publicationYear  doi  docType  \\\n",
       "0                        Social Problems             2016  NaN  article   \n",
       "1                    Michigan Law Review             2002  NaN  article   \n",
       "2          Economic and Political Weekly             2014  NaN  article   \n",
       "3  University of Pennsylvania Law Review             2007  NaN  article   \n",
       "4                        Utopian Studies             2020  NaN  article   \n",
       "\n",
       "  provider datePublished issueNumber volumeNumber  \\\n",
       "0    jstor    2016-02-01           1           63   \n",
       "1    jstor    2002-03-01           5          100   \n",
       "2    jstor    2014-11-01       43/44           49   \n",
       "3    jstor    2007-05-01           5          155   \n",
       "4    jstor    2020-03-01           1           31   \n",
       "\n",
       "                                                 url  \\\n",
       "0               http://www.jstor.org/stable/44014892   \n",
       "1                http://www.jstor.org/stable/1290502   \n",
       "2               http://www.jstor.org/stable/24480984   \n",
       "3               http://www.jstor.org/stable/40041293   \n",
       "4  http://www.jstor.org/stable/10.5325/utopianstu...   \n",
       "\n",
       "                                             creator  \\\n",
       "0                                   Jennifer Carlson   \n",
       "1                                   Devon W. Carbado   \n",
       "2  DIVYA RAVINDRANATH; MAXINE DAVIS; BETH PRUSACZ...   \n",
       "3           Eduardo Moisés Peñalver; Sonia K. Katyal   \n",
       "4                                    William Tamplin   \n",
       "\n",
       "                                   publisher language pageStart pageEnd  \\\n",
       "0                    Oxford University Press      eng         1      20   \n",
       "1        The Michigan Law Review Association      eng       946    1044   \n",
       "2              Economic and Political Weekly      eng        22      24   \n",
       "3  The University of Pennsylvania Law Review      eng      1095    1186   \n",
       "4                Penn State University Press      eng        97     117   \n",
       "\n",
       "   placeOfPublication  wordCount  pageCount              outputFormat  \n",
       "0                 NaN      12172         20  unigram; bigram; trigram  \n",
       "1                 NaN      51495         99  unigram; bigram; trigram  \n",
       "2                 NaN       2615          3  unigram; bigram; trigram  \n",
       "3                 NaN      40548         92  unigram; bigram; trigram  \n",
       "4                 NaN       7343         21  unigram; bigram; trigram  "
      ]
     },
     "execution_count": 78,
     "metadata": {},
     "output_type": "execute_result"
    }
   ],
   "source": [
    "# Set the pandas option to show all columns\n",
    "pd.set_option(\"max_columns\", None) \n",
    "\n",
    "df.head() # Show the first five rows of our DataFrame"
   ]
  },
  {
   "cell_type": "code",
   "execution_count": 79,
   "metadata": {},
   "outputs": [],
   "source": [
    "id_list = df['id'].tolist()"
   ]
  },
  {
   "cell_type": "code",
   "execution_count": 80,
   "metadata": {},
   "outputs": [
    {
     "data": {
      "text/plain": [
       "False"
      ]
     },
     "execution_count": 80,
     "metadata": {},
     "output_type": "execute_result"
    }
   ],
   "source": [
    "'http://www.jstor.org/stable/2871420' in id_list"
   ]
  },
  {
   "cell_type": "code",
   "execution_count": 81,
   "metadata": {},
   "outputs": [],
   "source": [
    "# Drop each of these named columns\n",
    "df = df.drop(['outputFormat', 'pageEnd', 'pageStart', 'datePublished', 'language'], axis=1)"
   ]
  },
  {
   "cell_type": "code",
   "execution_count": 82,
   "metadata": {},
   "outputs": [],
   "source": [
    "# Drop articles without an author\n",
    "df = df.dropna(subset=['creator'])"
   ]
  },
  {
   "cell_type": "code",
   "execution_count": 83,
   "metadata": {},
   "outputs": [
    {
     "name": "stdout",
     "output_type": "stream",
     "text": [
      "Total documents 587\n",
      "Original 650\n"
     ]
    }
   ],
   "source": [
    "print(\"Total documents\", len(df))\n",
    "print(\"Original\", dataset_document_count)"
   ]
  },
  {
   "cell_type": "code",
   "execution_count": 84,
   "metadata": {},
   "outputs": [],
   "source": [
    "# Examples for filtering the data based on the values found under 'title'\n",
    "\n",
    "df = df[df.title != 'Review Article'] # Remove articles with title \"Review Article\"\n",
    "df = df[df.title != 'Front Matter'] # Remove articles with title \"Front Matter\"\n",
    "df = df[df.title != 'Back Matter'] # Remove articles with title \"Back Matter\"\n",
    "\n",
    "# Remove articles with fewer than 3000 words, adjust or remove\n",
    "\n",
    "df = df[df.wordCount > 3000] "
   ]
  },
  {
   "cell_type": "code",
   "execution_count": 85,
   "metadata": {
    "scrolled": true
   },
   "outputs": [
    {
     "name": "stdout",
     "output_type": "stream",
     "text": [
      "Total documents 579\n",
      "Original 650\n"
     ]
    }
   ],
   "source": [
    "print(\"Total documents\", len(df))\n",
    "print(\"Original\", dataset_document_count)"
   ]
  },
  {
   "cell_type": "code",
   "execution_count": 86,
   "metadata": {},
   "outputs": [],
   "source": [
    "filtered_id_list = df[\"id\"].tolist()"
   ]
  },
  {
   "cell_type": "code",
   "execution_count": 87,
   "metadata": {},
   "outputs": [
    {
     "data": {
      "image/png": "[encoded data removed]",
      "text/plain": [
       "<Figure size 1440x360 with 1 Axes>"
      ]
     },
     "metadata": {
      "needs_background": "light"
     },
     "output_type": "display_data"
    }
   ],
   "source": [
    "df.groupby(['publicationYear'])['id'].agg('count').plot.line(title='Documents by year', figsize=(20, 5), fontsize=12); "
   ]
  },
  {
   "cell_type": "code",
   "execution_count": 88,
   "metadata": {},
   "outputs": [
    {
     "data": {
      "image/png": "[encoded data removed]",
      "text/plain": [
       "<Figure size 1440x360 with 1 Axes>"
      ]
     },
     "metadata": {
      "needs_background": "light"
     },
     "output_type": "display_data"
    }
   ],
   "source": [
    "df.groupby(['publicationYear'])['pageCount'].agg('sum').plot.line(title='Pages by decade', figsize=(20, 5), fontsize=12);"
   ]
  },
  {
   "cell_type": "markdown",
   "metadata": {},
   "source": [
    "### Count word frequencies"
   ]
  },
  {
   "cell_type": "code",
   "execution_count": 89,
   "metadata": {},
   "outputs": [
    {
     "name": "stdout",
     "output_type": "stream",
     "text": [
      "INFO:root:Downloading 80d4487c-cea8-ff65-7e3c-2b37ce7b41d7 to 80d4487c-cea8-ff65-7e3c-2b37ce7b41d7.jsonl.gz\n"
     ]
    },
    {
     "name": "stderr",
     "output_type": "stream",
     "text": [
      "100% |########################################################################|\n"
     ]
    }
   ],
   "source": [
    "dataset_json_file = tdm_client.get_dataset(dataset_id)"
   ]
  },
  {
   "cell_type": "code",
   "execution_count": 90,
   "metadata": {},
   "outputs": [],
   "source": [
    "import json\n",
    "import gzip\n",
    "from collections import Counter\n",
    "\n",
    "word_frequency = Counter()"
   ]
  },
  {
   "cell_type": "code",
   "execution_count": 91,
   "metadata": {},
   "outputs": [],
   "source": [
    "with gzip.open(dataset_json_file, \"rb\") as input_file:\n",
    "    for row in input_file:\n",
    "        document = json.loads(row)\n",
    "        _id = document[\"id\"]\n",
    "        if _id in filtered_id_list:\n",
    "            unigrams = document.get(\"unigramCount\", [])\n",
    "            for gram, count in unigrams.items():\n",
    "                word_frequency[gram] += count"
   ]
  },
  {
   "cell_type": "code",
   "execution_count": 92,
   "metadata": {},
   "outputs": [
    {
     "name": "stdout",
     "output_type": "stream",
     "text": [
      "the                  643877\n",
      "of                   477384\n",
      "and                  370221\n",
      "to                   258748\n",
      "in                   249272\n",
      "a                    181952\n",
      "that                 133893\n",
      "for                  86922\n",
      "The                  82569\n",
      "by                   78710\n",
      "as                   76915\n",
      "at                   71099\n",
      "is                   69878\n",
      "on                   67241\n",
      "was                  53559\n",
      "with                 52530\n",
      "not                  44748\n",
      "from                 41170\n",
      "be                   37856\n",
      "an                   37298\n",
      "or                   36963\n",
      "it                   33470\n",
      "are                  32695\n",
      "their                31715\n",
      "were                 29984\n"
     ]
    }
   ],
   "source": [
    "for gram, count in word_frequency.most_common(25):\n",
    "    print(gram.ljust(20), count)"
   ]
  },
  {
   "cell_type": "code",
   "execution_count": 93,
   "metadata": {},
   "outputs": [
    {
     "data": {
      "text/plain": [
       "['i', 'me', 'my', 'myself', 'we', 'our', 'ours', 'ourselves', 'you', \"you're\"]"
      ]
     },
     "execution_count": 93,
     "metadata": {},
     "output_type": "execute_result"
    }
   ],
   "source": [
    "from nltk.corpus import stopwords\n",
    "stop_words = stopwords.words('english')\n",
    "stop_words[:10]"
   ]
  },
  {
   "cell_type": "code",
   "execution_count": 94,
   "metadata": {
    "scrolled": true
   },
   "outputs": [],
   "source": [
    "transformed_word_frequency = Counter()"
   ]
  },
  {
   "cell_type": "code",
   "execution_count": 95,
   "metadata": {},
   "outputs": [],
   "source": [
    "for document in tdm_client.dataset_reader(dataset_json_file):\n",
    "    _id = document[\"id\"]\n",
    "    if _id in filtered_id_list:\n",
    "        unigrams = document.get(\"unigramCount\", [])\n",
    "        for gram, count in unigrams.items():\n",
    "            clean_gram = gram.lower()\n",
    "            if clean_gram in stop_words:\n",
    "                continue\n",
    "            transformed_word_frequency[clean_gram] += count\n",
    "        break"
   ]
  },
  {
   "cell_type": "code",
   "execution_count": 96,
   "metadata": {},
   "outputs": [
    {
     "name": "stdout",
     "output_type": "stream",
     "text": [
      "freedom              119\n",
      "mtm:                 68\n",
      "sn:                  68\n",
      "riders               60\n",
      "bus                  43\n",
      "film                 43\n",
      "e                    39\n",
      "black                36\n",
      "it’s                 36\n",
      "that’s               36\n",
      "people               35\n",
      "white                32\n",
      "going                29\n",
      "one                  28\n",
      "civil                27\n",
      "r                    26\n",
      "n                    26\n",
      "h                    26\n",
      "rights               25\n",
      "we’re                25\n",
      "don’t                24\n",
      "make                 22\n",
      "think                22\n",
      "i’m                  22\n",
      "story                22\n"
     ]
    }
   ],
   "source": [
    "for gram, count in transformed_word_frequency.most_common(25):\n",
    "    print(gram.ljust(20), count)"
   ]
  },
  {
   "cell_type": "code",
   "execution_count": 97,
   "metadata": {},
   "outputs": [],
   "source": [
    "df = pd.DataFrame(list(transformed_word_frequency.items())[:25], columns=[\"ngram\", \"count\"])"
   ]
  },
  {
   "cell_type": "code",
   "execution_count": 98,
   "metadata": {},
   "outputs": [
    {
     "data": {
      "text/html": [
       "<div>\n",
       "<style scoped>\n",
       "    .dataframe tbody tr th:only-of-type {\n",
       "        vertical-align: middle;\n",
       "    }\n",
       "\n",
       "    .dataframe tbody tr th {\n",
       "        vertical-align: top;\n",
       "    }\n",
       "\n",
       "    .dataframe thead th {\n",
       "        text-align: right;\n",
       "    }\n",
       "</style>\n",
       "<table border=\"1\" class=\"dataframe\">\n",
       "  <thead>\n",
       "    <tr style=\"text-align: right;\">\n",
       "      <th></th>\n",
       "      <th>ngram</th>\n",
       "      <th>count</th>\n",
       "    </tr>\n",
       "  </thead>\n",
       "  <tbody>\n",
       "    <tr>\n",
       "      <th>0</th>\n",
       "      <td>freedom</td>\n",
       "      <td>119</td>\n",
       "    </tr>\n",
       "    <tr>\n",
       "      <th>1</th>\n",
       "      <td>mtm:</td>\n",
       "      <td>68</td>\n",
       "    </tr>\n",
       "    <tr>\n",
       "      <th>2</th>\n",
       "      <td>sn:</td>\n",
       "      <td>68</td>\n",
       "    </tr>\n",
       "    <tr>\n",
       "      <th>3</th>\n",
       "      <td>riders</td>\n",
       "      <td>60</td>\n",
       "    </tr>\n",
       "    <tr>\n",
       "      <th>4</th>\n",
       "      <td>bus</td>\n",
       "      <td>43</td>\n",
       "    </tr>\n",
       "  </tbody>\n",
       "</table>\n",
       "</div>"
      ],
      "text/plain": [
       "     ngram  count\n",
       "0  freedom    119\n",
       "1     mtm:     68\n",
       "2      sn:     68\n",
       "3   riders     60\n",
       "4      bus     43"
      ]
     },
     "execution_count": 98,
     "metadata": {},
     "output_type": "execute_result"
    }
   ],
   "source": [
    "df.head()"
   ]
  },
  {
   "cell_type": "code",
   "execution_count": 99,
   "metadata": {},
   "outputs": [
    {
     "data": {
      "image/png": "[encoded data removed]",
      "text/plain": [
       "<Figure size 1440x720 with 1 Axes>"
      ]
     },
     "metadata": {
      "needs_background": "light"
     },
     "output_type": "display_data"
    }
   ],
   "source": [
    "df.sort_values('count', ascending=True).plot.barh(title='Frequent words', figsize=(20, 10), fontsize=12, x=\"ngram\", y=\"count\");"
   ]
  },
  {
   "cell_type": "markdown",
   "metadata": {},
   "source": [
    "### Significant terms\n",
    "\n",
    "Run TFIDF on the first 10 documents in the filtered corpus."
   ]
  },
  {
   "cell_type": "code",
   "execution_count": 100,
   "metadata": {},
   "outputs": [],
   "source": [
    "def process_token(token):\n",
    "    token = token.lower()\n",
    "    if token in stop_words:\n",
    "        return\n",
    "    if len(token) < 4:\n",
    "        return\n",
    "    if not(token.isalpha()):\n",
    "        return\n",
    "    return token"
   ]
  },
  {
   "cell_type": "code",
   "execution_count": 101,
   "metadata": {},
   "outputs": [],
   "source": [
    "import gensim"
   ]
  },
  {
   "cell_type": "code",
   "execution_count": 102,
   "metadata": {},
   "outputs": [],
   "source": [
    "n = 0\n",
    "documents = []\n",
    "for document in tdm_client.dataset_reader(dataset_json_file):\n",
    "    processed_document = []\n",
    "    _id = document[\"id\"]\n",
    "    if _id in filtered_id_list:\n",
    "        unigrams = document.get(\"unigramCount\", [])\n",
    "        for gram, count in unigrams.items():\n",
    "            clean_gram = process_token(gram)\n",
    "            if clean_gram is None:\n",
    "                continue\n",
    "            processed_document.append(clean_gram)\n",
    "        if len(processed_document) > 0:\n",
    "            documents.append(processed_document)\n",
    "        n += 1\n",
    "        #if n >= 10:\n",
    "        #    break"
   ]
  },
  {
   "cell_type": "code",
   "execution_count": 103,
   "metadata": {},
   "outputs": [
    {
     "name": "stdout",
     "output_type": "stream",
     "text": [
      "INFO:gensim.corpora.dictionary:adding document #0 to Dictionary(0 unique tokens: [])\n",
      "INFO:gensim.corpora.dictionary:built Dictionary(158785 unique tokens: ['able', 'abstract', 'academy', 'accompanying', 'accomplishment']...) from 579 documents (total 1742231 corpus positions)\n"
     ]
    }
   ],
   "source": [
    "dictionary = gensim.corpora.Dictionary(documents)"
   ]
  },
  {
   "cell_type": "code",
   "execution_count": 104,
   "metadata": {},
   "outputs": [
    {
     "data": {
      "text/plain": [
       "{'able': 0,\n",
       " 'abstract': 1,\n",
       " 'academy': 2,\n",
       " 'accompanying': 3,\n",
       " 'accomplishment': 4,\n",
       " 'accosted': 5,\n",
       " 'account': 6,\n",
       " 'accused': 7,\n",
       " 'accuses': 8,\n",
       " 'across': 9}"
      ]
     },
     "execution_count": 104,
     "metadata": {},
     "output_type": "execute_result"
    }
   ],
   "source": [
    "dict(list(dictionary.token2id.items())[0:10]) # Print the first ten tokens and their associated IDs.\n"
   ]
  },
  {
   "cell_type": "code",
   "execution_count": 105,
   "metadata": {},
   "outputs": [],
   "source": [
    "bow_corpus = [dictionary.doc2bow(doc) for doc in documents]"
   ]
  },
  {
   "cell_type": "code",
   "execution_count": 106,
   "metadata": {},
   "outputs": [
    {
     "name": "stdout",
     "output_type": "stream",
     "text": [
      "INFO:gensim.models.tfidfmodel:collecting document frequencies\n",
      "INFO:gensim.models.tfidfmodel:PROGRESS: processing document #0\n",
      "INFO:gensim.models.tfidfmodel:calculating IDF weights for 579 documents and 158785 features (1592833 matrix non-zeros)\n"
     ]
    }
   ],
   "source": [
    "model = gensim.models.TfidfModel(bow_corpus)"
   ]
  },
  {
   "cell_type": "code",
   "execution_count": 107,
   "metadata": {},
   "outputs": [],
   "source": [
    "corpus_tfidf = model[bow_corpus]"
   ]
  },
  {
   "cell_type": "code",
   "execution_count": 108,
   "metadata": {},
   "outputs": [],
   "source": [
    "rows = []\n",
    "for doc in corpus_tfidf:\n",
    "    for term_id, score in doc:\n",
    "        rows.append([dictionary.get(term_id), score])"
   ]
  },
  {
   "cell_type": "code",
   "execution_count": 109,
   "metadata": {},
   "outputs": [],
   "source": [
    "df = pd.DataFrame(rows, columns=[\"ngram\", \"score\"])"
   ]
  },
  {
   "cell_type": "code",
   "execution_count": 110,
   "metadata": {},
   "outputs": [
    {
     "data": {
      "text/html": [
       "<div>\n",
       "<style scoped>\n",
       "    .dataframe tbody tr th:only-of-type {\n",
       "        vertical-align: middle;\n",
       "    }\n",
       "\n",
       "    .dataframe tbody tr th {\n",
       "        vertical-align: top;\n",
       "    }\n",
       "\n",
       "    .dataframe thead th {\n",
       "        text-align: right;\n",
       "    }\n",
       "</style>\n",
       "<table border=\"1\" class=\"dataframe\">\n",
       "  <thead>\n",
       "    <tr style=\"text-align: right;\">\n",
       "      <th></th>\n",
       "      <th>ngram</th>\n",
       "      <th>score</th>\n",
       "    </tr>\n",
       "  </thead>\n",
       "  <tbody>\n",
       "    <tr>\n",
       "      <th>0</th>\n",
       "      <td>able</td>\n",
       "      <td>0.003105</td>\n",
       "    </tr>\n",
       "    <tr>\n",
       "      <th>1</th>\n",
       "      <td>abstract</td>\n",
       "      <td>0.014882</td>\n",
       "    </tr>\n",
       "    <tr>\n",
       "      <th>2</th>\n",
       "      <td>academy</td>\n",
       "      <td>0.019287</td>\n",
       "    </tr>\n",
       "    <tr>\n",
       "      <th>3</th>\n",
       "      <td>accompanying</td>\n",
       "      <td>0.015244</td>\n",
       "    </tr>\n",
       "    <tr>\n",
       "      <th>4</th>\n",
       "      <td>accomplishment</td>\n",
       "      <td>0.032323</td>\n",
       "    </tr>\n",
       "  </tbody>\n",
       "</table>\n",
       "</div>"
      ],
      "text/plain": [
       "            ngram     score\n",
       "0            able  0.003105\n",
       "1        abstract  0.014882\n",
       "2         academy  0.019287\n",
       "3    accompanying  0.015244\n",
       "4  accomplishment  0.032323"
      ]
     },
     "execution_count": 110,
     "metadata": {},
     "output_type": "execute_result"
    }
   ],
   "source": [
    "df.head()"
   ]
  },
  {
   "cell_type": "code",
   "execution_count": 111,
   "metadata": {},
   "outputs": [
    {
     "data": {
      "text/html": [
       "<div>\n",
       "<style scoped>\n",
       "    .dataframe tbody tr th:only-of-type {\n",
       "        vertical-align: middle;\n",
       "    }\n",
       "\n",
       "    .dataframe tbody tr th {\n",
       "        vertical-align: top;\n",
       "    }\n",
       "\n",
       "    .dataframe thead th {\n",
       "        text-align: right;\n",
       "    }\n",
       "</style>\n",
       "<table border=\"1\" class=\"dataframe\">\n",
       "  <thead>\n",
       "    <tr style=\"text-align: right;\">\n",
       "      <th></th>\n",
       "      <th>score</th>\n",
       "    </tr>\n",
       "  </thead>\n",
       "  <tbody>\n",
       "    <tr>\n",
       "      <th>count</th>\n",
       "      <td>1.592833e+06</td>\n",
       "    </tr>\n",
       "    <tr>\n",
       "      <th>mean</th>\n",
       "      <td>1.441363e-02</td>\n",
       "    </tr>\n",
       "    <tr>\n",
       "      <th>std</th>\n",
       "      <td>1.248001e-02</td>\n",
       "    </tr>\n",
       "    <tr>\n",
       "      <th>min</th>\n",
       "      <td>2.671869e-06</td>\n",
       "    </tr>\n",
       "    <tr>\n",
       "      <th>25%</th>\n",
       "      <td>5.687360e-03</td>\n",
       "    </tr>\n",
       "    <tr>\n",
       "      <th>50%</th>\n",
       "      <td>1.052550e-02</td>\n",
       "    </tr>\n",
       "    <tr>\n",
       "      <th>75%</th>\n",
       "      <td>1.928231e-02</td>\n",
       "    </tr>\n",
       "    <tr>\n",
       "      <th>max</th>\n",
       "      <td>2.717892e-01</td>\n",
       "    </tr>\n",
       "  </tbody>\n",
       "</table>\n",
       "</div>"
      ],
      "text/plain": [
       "              score\n",
       "count  1.592833e+06\n",
       "mean   1.441363e-02\n",
       "std    1.248001e-02\n",
       "min    2.671869e-06\n",
       "25%    5.687360e-03\n",
       "50%    1.052550e-02\n",
       "75%    1.928231e-02\n",
       "max    2.717892e-01"
      ]
     },
     "execution_count": 111,
     "metadata": {},
     "output_type": "execute_result"
    }
   ],
   "source": [
    "df.describe()"
   ]
  },
  {
   "cell_type": "code",
   "execution_count": 112,
   "metadata": {},
   "outputs": [],
   "source": [
    "top_50 = df.sort_values(\"score\", ascending=False).head(n=50)"
   ]
  },
  {
   "cell_type": "code",
   "execution_count": 113,
   "metadata": {},
   "outputs": [
    {
     "data": {
      "image/png": "[encoded data removed]",
      "text/plain": [
       "<Figure size 1440x720 with 1 Axes>"
      ]
     },
     "metadata": {
      "needs_background": "light"
     },
     "output_type": "display_data"
    }
   ],
   "source": [
    "top_50.sort_values(\"score\", ascending=True).plot.barh(title='Significant terms', figsize=(20, 10), fontsize=12, x=\"ngram\", y=\"score\");"
   ]
  },
  {
   "cell_type": "markdown",
   "metadata": {},
   "source": [
    " ### LDA topic modeling"
   ]
  },
  {
   "cell_type": "code",
   "execution_count": 114,
   "metadata": {},
   "outputs": [
    {
     "name": "stdout",
     "output_type": "stream",
     "text": [
      "INFO:gensim.corpora.dictionary:discarding 58785 tokens: [('able', 450), ('across', 471), ('action', 461), ('african', 498), ('along', 476), ('also', 576), ('although', 493), ('always', 459), ('america', 473), ('american', 578)]...\n",
      "INFO:gensim.corpora.dictionary:keeping 100000 tokens which were in no less than 1 and no more than 434 (=75.0%) documents\n",
      "INFO:gensim.corpora.dictionary:resulting dictionary: Dictionary(100000 unique tokens: ['abstract', 'academy', 'accompanying', 'accomplishment', 'accosted']...)\n"
     ]
    }
   ],
   "source": [
    "doc_count = len(id_list)\n",
    "num_topics = 7 # Change the number of topics\n",
    "\n",
    "# Remove terms that appear in less than 10% of documents and more than 75% of documents.\n",
    "dictionary.filter_extremes(no_below=10 * .10, no_above=0.75)\n"
   ]
  },
  {
   "cell_type": "code",
   "execution_count": 115,
   "metadata": {},
   "outputs": [],
   "source": [
    "bow_corpus = [dictionary.doc2bow(doc) for doc in documents]"
   ]
  },
  {
   "cell_type": "code",
   "execution_count": 116,
   "metadata": {},
   "outputs": [
    {
     "name": "stdout",
     "output_type": "stream",
     "text": [
      "INFO:gensim.models.ldamodel:using symmetric alpha at 0.14285714285714285\n",
      "INFO:gensim.models.ldamodel:using symmetric eta at 0.14285714285714285\n",
      "INFO:gensim.models.ldamodel:using serial LDA version on this node\n",
      "INFO:gensim.models.ldamodel:running online (single-pass) LDA training, 7 topics, 1 passes over the supplied corpus of 579 documents, updating model once every 579 documents, evaluating perplexity every 579 documents, iterating 50x with a convergence threshold of 0.001000\n",
      "WARNING:gensim.models.ldamodel:too few updates, training might not converge; consider increasing the number of passes or iterations to improve accuracy\n",
      "INFO:gensim.models.ldamodel:-12.417 per-word bound, 5469.0 perplexity estimate based on a held-out corpus of 579 documents with 1545176 words\n",
      "INFO:gensim.models.ldamodel:PROGRESS: pass 0, at document #579/579\n",
      "INFO:gensim.models.ldamodel:topic #2 (0.143): 0.000*\"culture\" + 0.000*\"freedom\" + 0.000*\"urban\" + 0.000*\"court\" + 0.000*\"department\" + 0.000*\"policy\" + 0.000*\"using\" + 0.000*\"family\" + 0.000*\"review\" + 0.000*\"relations\"\n",
      "INFO:gensim.models.ldamodel:topic #5 (0.143): 0.001*\"federal\" + 0.000*\"urban\" + 0.000*\"court\" + 0.000*\"report\" + 0.000*\"problems\" + 0.000*\"theory\" + 0.000*\"modern\" + 0.000*\"process\" + 0.000*\"press\" + 0.000*\"special\"\n",
      "INFO:gensim.models.ldamodel:topic #1 (0.143): 0.001*\"court\" + 0.000*\"report\" + 0.000*\"review\" + 0.000*\"culture\" + 0.000*\"labor\" + 0.000*\"critical\" + 0.000*\"analysis\" + 0.000*\"modern\" + 0.000*\"federal\" + 0.000*\"board\"\n",
      "INFO:gensim.models.ldamodel:topic #3 (0.143): 0.000*\"death\" + 0.000*\"perhaps\" + 0.000*\"federal\" + 0.000*\"report\" + 0.000*\"line\" + 0.000*\"instead\" + 0.000*\"notes\" + 0.000*\"department\" + 0.000*\"cultural\" + 0.000*\"research\"\n",
      "INFO:gensim.models.ldamodel:topic #6 (0.143): 0.001*\"education\" + 0.001*\"federal\" + 0.000*\"research\" + 0.000*\"urban\" + 0.000*\"court\" + 0.000*\"instead\" + 0.000*\"press\" + 0.000*\"cultural\" + 0.000*\"beginning\" + 0.000*\"taking\"\n",
      "INFO:gensim.models.ldamodel:topic diff=2.454224, rho=1.000000\n"
     ]
    }
   ],
   "source": [
    "# Train the LDA model.\n",
    "model = gensim.models.LdaModel(\n",
    "    corpus=bow_corpus,\n",
    "    id2word=dictionary,\n",
    "    num_topics=num_topics\n",
    ")"
   ]
  },
  {
   "cell_type": "code",
   "execution_count": 117,
   "metadata": {},
   "outputs": [
    {
     "name": "stdout",
     "output_type": "stream",
     "text": [
      "Topic 0     court freedom color cultural research century equal open report rise\n",
      "Topic 1     court report review culture labor critical analysis modern federal board\n",
      "Topic 2     culture freedom urban court department policy using family review relations\n",
      "Topic 3     death perhaps federal report line instead notes department cultural research\n",
      "Topic 4     criminal perhaps cultural president review instead century citizens fight relations\n",
      "Topic 5     federal urban court report problems theory modern process press special\n",
      "Topic 6     education federal research urban court instead press cultural beginning taking\n"
     ]
    }
   ],
   "source": [
    "for topic_num in range(0, num_topics):\n",
    "    word_ids = model.get_topic_terms(topic_num)\n",
    "    words = []\n",
    "    for wid, weight in word_ids:\n",
    "        word = dictionary.id2token[wid]\n",
    "        words.append(word)\n",
    "    print(\"Topic {}\".format(str(topic_num).ljust(5)), \" \".join(words))"
   ]
  }
 ],
 "metadata": {
  "kernelspec": {
   "display_name": "Python 3",
   "language": "python",
   "name": "python3"
  },
  "language_info": {
   "codemirror_mode": {
    "name": "ipython",
    "version": 3
   },
   "file_extension": ".py",
   "mimetype": "text/x-python",
   "name": "python",
   "nbconvert_exporter": "python",
   "pygments_lexer": "ipython3",
   "version": "3.6.6"
  },
  "toc": {
   "base_numbering": 1,
   "nav_menu": {},
   "number_sections": true,
   "sideBar": true,
   "skip_h1_title": true,
   "title_cell": "Table of Contents",
   "title_sidebar": "Contents",
   "toc_cell": false,
   "toc_position": {
    "height": "calc(100% - 180px)",
    "left": "10px",
    "top": "150px",
    "width": "223.188px"
   },
   "toc_section_display": true,
   "toc_window_display": true
  }
 },
 "nbformat": 4,
 "nbformat_minor": 4
}
