{
 "cells": [
  {
   "cell_type": "markdown",
   "metadata": {},
   "source": [
    "# Python for Beginners\n",
    "\n",
    "These notebooks are written with Python. A knowledge of Python is not required to get started with these notebooks. We have tried, wherever possible, to explain programming terms and provide adequate scaffolding for new learners.\n",
    "​\n",
    "With the moderate and advanced notebooks, your understanding (and results) will improve with a basic understanding of Python. We have chosen to use Python for these notebooks because it is:\n",
    "​\n",
    "\n",
    "Often-regarded as easy-to-learn\n",
    "Commonly used in data science and the digital humanities\n",
    "In-demand by research teams and employers\n",
    "​\n",
    "There are many introductions to Python. We recommend Automate the Boring Stuff with Python: Practical Programmig for Total Beginners by Al Sweigert which can be purchased in hard copy or read for free online.\n",
    "​\n",
    "The key concepts you will want to learn are the first six chapters:\n",
    "​\n",
    "Python Basics\n",
    "Flow Control\n",
    "Functions\n",
    "Lists\n",
    "Dictionaries and Structuring Data\n",
    "Manipulating Strings\n",
    "​\n",
    "Here are a few other places to pick up the basics of Python categorized by discipline:"
   ]
  }
 ],
 "metadata": {
  "kernelspec": {
   "display_name": "Python 3",
   "language": "python",
   "name": "python3"
  },
  "language_info": {
   "codemirror_mode": {
    "name": "ipython",
    "version": 3
   },
   "file_extension": ".py",
   "mimetype": "text/x-python",
   "name": "python",
   "nbconvert_exporter": "python",
   "pygments_lexer": "ipython3",
   "version": "3.7.3"
  }
 },
 "nbformat": 4,
 "nbformat_minor": 4
}
