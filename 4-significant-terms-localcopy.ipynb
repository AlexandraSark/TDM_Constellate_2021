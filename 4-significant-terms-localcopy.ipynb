{
 "cells": [
  {
   "cell_type": "markdown",
   "metadata": {},
   "source": [
    "By <a href=\"https://nkelber.com\">Nathan Kelber</a> and Ted Lawless <br />\n",
    "For questions/comments/improvements, email nathan.kelber@ithaka.org.\n",
    "____\n",
    "\n",
    "# Finding Significant Words within a Dataset Using TF/IDF\n",
    "**Difficulty:** Intermediate\n",
    "\n",
    "**Programming Knowledge Required:** \n",
    "This notebook can be run on a JSTOR/Portico [non-consumptive](./key-terms.ipynb#non-consumptive) [JSON Lines (.jsonl)](./key-terms.ipynb#jsonl) [dataset](./key-terms.ipynb#dataset) with little to no knowledge of [Python](./key-terms.ipynb#python). To have a full understanding of the code used in this [notebook](./key-terms.ipynb#jupyter-notebook), we recommend learning:\n",
    "* [Python Basics](https://automatetheboringstuff.com/2e/chapter1/)\n",
    "* [Flow Control](https://automatetheboringstuff.com/2e/chapter2/)\n",
    "* [Functions](https://automatetheboringstuff.com/2e/chapter3/)\n",
    "* [Lists](https://automatetheboringstuff.com/2e/chapter4/)\n",
    "* [Dictionaries](https://automatetheboringstuff.com/2e/chapter5/)\n",
    "\n",
    "**Completion time:** 75 minutes\n",
    "\n",
    "**Data Format:** [JSTOR](./key-terms.ipynb#jstor) and/or [Portico](./key-terms.ipynb#portico) [non-consumptive](./key-terms.ipynb#non-consumptive) [JSON Lines (.jsonl)](./key-terms.ipynb#jsonl)\n",
    "\n",
    "**Libraries Used:**\n",
    "* **[json](./key-terms.ipynb#json-python-library)** to convert our dataset from json lines format to a Python list\n",
    "* **[gensim](./key-terms.ipynb#gensim)** to help compute the [tf-idf](./key-terms.ipynb#tf-idf) calculation\n",
    "\n",
    "**Description of methods in this notebook:**\n",
    "This [notebook](./key-terms.ipynb#jupyter-notebook) shows how to discover significant words in your [JSTOR](./key-terms.ipynb#jstor) and/or [Portico](./key-terms.ipynb#portico) [dataset](./key-terms.ipynb#dataset) using [Python](./key-terms.ipynb#python). The method for finding significant terms is [tf-idf](./key-terms.ipynb#tf-idf).  The following processes are described:\n",
    "\n",
    "* Converting your [JSTOR](./key-terms.ipynb#jstor) and/or [Portico](./key-terms.ipynb#portico)[dataset](./key-terms.ipynb#dataset) into a Python list\n",
    "* Writing a helper function to help clean up a single [token](./key-terms.ipynb#token)\n",
    "* Cleaning each document of your dataset, one [token](./key-terms.ipynb#token) at a time\n",
    "* Using a dictionary of English words to remove words with poor [OCR](./key-terms.ipynb#ocr)\n",
    "* Computing the most significant words in your [corpus](./key-terms.ipynb#corpus) using [TFIDF](./key-terms.ipynb#tf-idf) with the [gensim](./key-terms.ipynb#gensim) library\n",
    "\n",
    "A familiarity with [gensim](./key-terms.ipynb#gensim) is helpful but not required.\n",
    "____"
   ]
  },
  {
   "cell_type": "markdown",
   "metadata": {},
   "source": [
    "## Understanding \"Term Frequency- Inverse Document Frequency\" (TF-IDF)\n",
    "\n",
    "TF-IDF is used in machine learning and text mining for measuring the significance of particular terms for a given document. It consists of two parts that are multiplied together:\n",
    "\n",
    "1. Term Frequency- A measure of how many times a given word appears in a document\n",
    "2. Inverse Document Frequency- A measure of how many times the same word occurs in other documents within the corpus\n",
    "\n",
    "If we were to merely consider word frequency, the most frequent words would be common function words like: \"the\", \"and\", \"of\". We could use a stopwords list to remove the common function words, but that still may not give us results that describe the unique terms in the document since the uniqueness of terms depends on the context of a larger body of documents. In other words, the same term could be significant or insignificant depending on the context. Consider these examples:\n",
    "\n",
    "* Given a set of scientific journal articles in biology, the term \"lab\" may not be significant since biologists often rely on and mention labs in their research. However, if the term \"lab\" were to occur frequently in a history or English article, then it is likely to be significant since humanities articles rarely discuss labs. \n",
    "* If we were to look at thousands of articles in literary studies, then the term \"postcolonial\" may be significant for any given article. However, if were to look at a few hundred articles on the topic of \"the global south,\" then the term \"postcolonial\" may occur so frequently that it is not a significant way to differentiate between the articles.\n",
    "\n",
    "The TF-IDF calculation reveals the words that are frequent in this document **yet rare in other documents**. The goal is to find out what is unique or remarkable about a document given the context and that context can change the results of the analysis. \n",
    "\n",
    "Here is how the calculation is mathematically written:\n",
    "\n",
    "$$tfidf_{t,d} = tf_{t,d} \\cdot idf_{t,D}$$\n",
    "\n",
    "In plain English, this means: **The value of TF-IDF is the product (or multiplication) of a given term's frequency multiplied by its inverse document frequency.** Let's unpack these terms one at a time.\n",
    "\n",
    "### Term Frequency Function\n",
    "\n",
    "$$tf_{t,d}$$\n",
    "The number of times (t) a term occurs in a given document (d)\n",
    "\n",
    "### Inverse Document Frequency Function\n",
    "\n",
    "$$idf_i = \\mbox{log} \\frac{N}{|{d : t_i \\in d}|}$$\n",
    "The inverse document frequency can be expanded to the calculation on the right. In plain English, this means: **The log of the total number of documents (N) divided by the number of documents that contain the term**\n",
    "\n",
    "### TF-IDF Calculation in Plain English\n",
    "\n",
    "$$ tf-idf = (Number-of-times-the-word-occurs-in-given-document) \\cdot \\mbox{log} \\frac{(Total-number-of-documents)}{(Total-number-of-documents-containing-the-word)}$$\n",
    "\n",
    "There are variations on the TF-IDF formula, but this is the most widely-used version."
   ]
  },
  {
   "cell_type": "markdown",
   "metadata": {},
   "source": [
    "### An Example Calculation of TF-IDF\n",
    "\n",
    "Let's take a look at an example to illustrate the fundamentals of TF-IDF. First, we need several texts to compare. Our texts will be very simple.\n",
    "\n",
    "* text1 = 'The grass was green and spread out the distance like the sea.'\n",
    "* text2 = 'Green eggs and ham were spread out like the book.'\n",
    "* text3 = 'Green sailors were met like the sea met troubles.'\n",
    "* text4 = 'The grass was green.'\n",
    "\n",
    "The first step is we need to discover how many unique words are in each text. \n",
    "\n",
    "|text1|text2|text3|text4|\n",
    "|    ---    | ---| --- | --- |\n",
    "|the|green|green|the|\n",
    "|grass|eggs|sailors|grass|\n",
    "|was|and|were|was|\n",
    "|green|ham|met|green|\n",
    "|and|were|like| |\n",
    "|spread|spread|the| |\n",
    "|out|out|sea| |\n",
    "|into|like|met| |\n",
    "|distance|the|troubles| |\n",
    "|like|book| | |\n",
    "|sea| | | |\n",
    "\n",
    "\n",
    "Our four texts share some similar words. Next, we create a single list of unique words that occur across all three texts.\n",
    "\n",
    "|Unique Words|\n",
    "| --- |\n",
    "|and|\n",
    "|book|\n",
    "|distance|\n",
    "|eggs|\n",
    "|grass|\n",
    "|green|\n",
    "|ham|\n",
    "|like|\n",
    "|met|\n",
    "|out|\n",
    "|sailors|\n",
    "|sea|\n",
    "|spread|\n",
    "|the|\n",
    "|troubles|\n",
    "|was|\n",
    "|were|\n",
    "\n",
    "Now let's count the occurences of each unique word in each sentence\n",
    "\n",
    "|word|text1|text2|text3|text4|\n",
    "|---|---|---|---|---|\n",
    "|and|1|1|0|0|\n",
    "|book|0|1|0|0|\n",
    "|distance|1|0|0|0|\n",
    "|eggs|0|1|0|0|\n",
    "|grass|1|0|0|1|\n",
    "|green|1|1|1|1|\n",
    "|ham|0|1|0|0|\n",
    "|like|1|1|1|0|\n",
    "|met|0|0|2|0|\n",
    "|out|1|1|0|0|\n",
    "|sailors|0|0|1|0|\n",
    "|sea|1|0|1|0|\n",
    "|spread|1|1|0|0|\n",
    "|the|3|1|1|1|\n",
    "|troubles|0|0|1|0|\n",
    "|was|1|0|0|1|\n",
    "|were|0|1|1|0|"
   ]
  },
  {
   "cell_type": "markdown",
   "metadata": {},
   "source": [
    "### Computing TF-IDF (Example 1)\n",
    "\n",
    "We have enough information now to compute TF-IDF for every word in our corpus. Recall the plain English formula.\n",
    "\n",
    "$$ tf-idf = (Number-of-times-the-word-occurs-in-given-document) \\cdot \\mbox{log} \\frac{(Total-number-of-documents)}{(Total-number-of-documents-containing-the-word)}$$\n",
    "\n",
    "We can use the formula to compute TF-IDF for the most common word in our corpus: 'the'. We will compute TF-IDF four times, once for each of our texts. \n",
    "\n",
    "|word|text1|text2|text3|text4|\n",
    "|---|---|---|---|---|\n",
    "|the|3|1|1|1|\n",
    "\n",
    "text1: $$ tf-idf = 3 \\cdot \\mbox{log} \\frac{4}{(4)} = 3 \\cdot \\mbox{log} 1 = 3 \\cdot 0 = 0$$\n",
    "text2: $$ tf-idf = 1 \\cdot \\mbox{log} \\frac{4}{(4)} = 1 \\cdot \\mbox{log} 1 = 1 \\cdot 0 = 0$$\n",
    "text3: $$ tf-idf = 1 \\cdot \\mbox{log} \\frac{4}{(4)} = 1 \\cdot \\mbox{log} 1 = 1 \\cdot 0 = 0$$\n",
    "text4: $$ tf-idf = 1 \\cdot \\mbox{log} \\frac{4}{(4)} = 1 \\cdot \\mbox{log} 1 = 1 \\cdot 0 = 0$$\n",
    "\n",
    "The results of our analysis suggest 'the' has a weight of 0 in every document. The word 'the' exists in all of our documents, and therefore it is not a significant term to differentiate one document from another.\n",
    "\n",
    "Given that idf is\n",
    "\n",
    "$$\\mbox{log} \\frac{(Total-number-of-documents)}{(Total-number-of-documents-containing-the-word)}$$\n",
    "\n",
    "and \n",
    "\n",
    "$$\\mbox{log} 1 = 0$$\n",
    "we can see that TF-IDF will be 0 for any word that occurs in every document. That is, if a word occurs in every document, then it is not a significant term for any individual document.\n",
    "\n",
    "\n",
    "\n",
    "### Computing TF-IDF (Example 2)\n",
    "\n",
    "Let's try a second example with the word 'out'. Recall the plain English formula.\n",
    "\n",
    "$$ tf-idf = (Number-of-times-the-word-occurs-in-given-document) \\cdot \\mbox{log} \\frac{(Total-number-of-documents)}{(Total-number-of-documents-containing-the-word)}$$\n",
    "\n",
    "We will compute TF-IDF four times, once for each of our texts. \n",
    "\n",
    "|word|text1|text2|text3|text4|\n",
    "|---|---|---|---|---|\n",
    "|out|1|1|0|0|\n",
    "\n",
    "text1: $$ tf-idf = 1 \\cdot \\mbox{log} \\frac{4}{(2)} = 1 \\cdot \\mbox{log} 2 = 1 \\cdot .3010 = .3010$$\n",
    "text2: $$ tf-idf = 1 \\cdot \\mbox{log} \\frac{4}{(2)} = 1 \\cdot \\mbox{log} 2 = 1 \\cdot .3010 = .3010$$\n",
    "text3: $$ tf-idf = 0 \\cdot \\mbox{log} \\frac{4}{(2)} = 0 \\cdot \\mbox{log} 2 = 0 \\cdot .3010 = 0$$\n",
    "text4: $$ tf-idf = 0 \\cdot \\mbox{log} \\frac{4}{(2)} = 0 \\cdot \\mbox{log} 2 = 0 \\cdot .3010 = 0$$\n",
    "\n",
    "The results of our analysis suggest 'out' has some significance in text1 and text2, but no significance for text3 and text4 where the word does not occur.\n",
    "\n",
    "### Computing TF-IDF (Example 3)\n",
    "\n",
    "Let's try one last example with the word 'met'. Here's the tf-idf formula again:\n",
    "\n",
    "$$ tf-idf = (Number-of-times-the-word-occurs-in-given-document) \\cdot \\mbox{log} \\frac{(Total-number-of-documents)}{(Total-number-of-documents-containing-the-word)}$$\n",
    "\n",
    "And here's how many times the word 'met' occurs in each text.\n",
    "\n",
    "|word|text1|text2|text3|text4|\n",
    "|---|---|---|---|---|\n",
    "|met|0|0|2|0|\n",
    "\n",
    "text1: $$ tf-idf = 0 \\cdot \\mbox{log} \\frac{4}{(1)} = 0 \\cdot \\mbox{log} 4 = 1 \\cdot .6021 = 0$$\n",
    "text2: $$ tf-idf = 0 \\cdot \\mbox{log} \\frac{4}{(1)} = 0 \\cdot \\mbox{log} 4 = 1 \\cdot .6021 = 0$$\n",
    "text3: $$ tf-idf = 2 \\cdot \\mbox{log} \\frac{4}{(1)} = 2 \\cdot \\mbox{log} 4 = 1 \\cdot .6021 = 1.2042$$\n",
    "text4: $$ tf-idf = 0 \\cdot \\mbox{log} \\frac{4}{(1)} = 0 \\cdot \\mbox{log} 4 = 1 \\cdot .6021 = 0$$\n",
    "\n",
    "As should be expected, we can see that the word 'met' is very significant in text3 but not significant in any other text since it does not occur in any other text. \n",
    "\n",
    "## The Full TF-IDF Example Table\n",
    "\n",
    "Here are the original sentences for each text:\n",
    "\n",
    "* text1 = 'The grass was green and spread out the distance like the sea.'\n",
    "* text2 = 'Green eggs and ham were spread out like the book.'\n",
    "* text3 = 'Green sailors were met like the sea met troubles.'\n",
    "* text4 = 'The grass was green.'\n",
    "\n",
    "And here's the corresponding TF-IDF scores for each word in each text:\n",
    "\n",
    "|word|text1|text2|text3|text4|\n",
    "|---|---|---|---|---|\n",
    "|and|.3010|.3010|0|0|\n",
    "|book|0|.6021|0|0|\n",
    "|distance|.6021|0|0|0|\n",
    "|eggs|0|.6021|0|0|\n",
    "|grass|.3010|0|0|.3010|\n",
    "|green|0|0|0|0|\n",
    "|ham|0|.6021|0|0|\n",
    "|like|.1249|.1249|.1249|0|\n",
    "|met|0|0|.6021|0|\n",
    "|out|.3010|.3010|0|0|\n",
    "|sailors|0|0|.6021|0|\n",
    "|sea|.3010|0|.3010|0|\n",
    "|spread|.3010|.3010|0|0|\n",
    "|the|0|0|0|0|\n",
    "|troubles|0|0|.6021|0|\n",
    "|was|.3010|0|0|.3010|\n",
    "|were|0|.3010|.3010|0|\n",
    "\n",
    "There are a few noteworthy things in this data. \n",
    "\n",
    "* The TF-IDF score for any word that does not occur in a text is 0.\n",
    "* The scores for almost every word in text4 are 0 since it is a shorter version of text1. There are no unique words in text4 since text1 contains all the same words. It is also a short text which means that there are only four words to consider. The words 'the' and 'green' occur in every text, leaving only 'was' and 'grass' which are also found in text1.\n",
    "* The words 'book', 'eggs', and 'ham' are significant in text2 since they only occur in that text.\n",
    "\n",
    "Now that you have a basic understanding of how TF-IDF is computed at a small scale, let's try computing TF-IDF on a JSTOR/Portico corpus which could contain millions of words.\n",
    "\n",
    "---"
   ]
  },
  {
   "cell_type": "markdown",
   "metadata": {},
   "source": [
    "# Computing TF-IDF with your JSTOR/Portico Dataset"
   ]
  },
  {
   "cell_type": "markdown",
   "metadata": {},
   "source": [
    "## Importing your dataset\n",
    "\n",
    "You have two options for bringing your dataset into the local environment:\n",
    "\n",
    "1. Manually download and upload your dataset\n",
    "2. Use a dataset id to automatically upload a dataset\n",
    "\n",
    "### Option one: Manually download and upload your dataset\n",
    "\n",
    "You can download your dataset from the corpus builder in the link shown below. (You may also have a link to your dataset in your email.) If you wish, you can modify your dataset on your local machine before the next upload phase. This gives you some more flexibility than automatically pulling in your dataset using a dataset ID using option 2 below.\n",
    "\n",
    "![The link for downloading your dataset](https://ithaka-labs.s3.amazonaws.com/static-files/images/tdm/tdmdocs/downloadDataset.png)\n",
    "\n",
    "Once you have your dataset ready on your local machine, you can then upload your dataset into JupyterLab by clicking the upload button in the file pane on the left.\n",
    "\n",
    "![The upload button in the file pane](https://ithaka-labs.s3.amazonaws.com/static-files/images/tdm/tdmdocs/uploadDataset.png)\n",
    "\n",
    "Make sure to upload your dataset to the \"datasets\" folder. \n",
    "\n",
    "### Option Two: Use a Dataset ID to automatically upload a dataset\n",
    "\n",
    "You'll use the tdm_client library to automatically upload your dataset. We import the `Dataset` module from the `tdm_client` library. The tdm_client library contains functions for connecting to the JSTOR server containing our [corpus](./key-terms.ipynb#corpus) [dataset](./key-terms.ipynb#dataset). To analyze your dataset, use the [dataset ID](./key-terms.ipynb/#dataset-ID) provided when you created your [dataset](./key-terms.ipynb/#dataset). A copy of your [dataset ID](./key-terms.ipynb/#dataset-ID) was sent to your email when you created your [corpus](./key-terms.ipynb#corpus). It should look like a long series of characters surrounded by dashes. "
   ]
  },
  {
   "cell_type": "code",
   "execution_count": 1,
   "metadata": {},
   "outputs": [
    {
     "data": {
      "text/plain": [
       "'datasets/sampleJournalAnalysis.jsonl'"
      ]
     },
     "execution_count": 1,
     "metadata": {},
     "output_type": "execute_result"
    }
   ],
   "source": [
    "#Importing your dataset with a dataset ID\n",
    "import tdm_client\n",
    "tdm_client.get_dataset(\"f6ae29d4-3a70-36ee-d601-20a8c0311273\", \"sampleJournalAnalysis\") #Load the sample dataset, the full run of Shakespeare Quarterly from 1950-2013.\n",
    "\n",
    "# Other humanities datasets:\n",
    "\n",
    "#English\n",
    "# Negro American Literature Forum (1967-1976) + Black American Literature Forum (1976-1991) + African American Review (1992-2016) (b4668c50-a970-c4d7-eb2c-bb6d04313542)\n",
    "# Shakespeare Quarterly (1950-2013) (f6ae29d4-3a70-36ee-d601-20a8c0311273)\n",
    "# ELH (1934-2014) (4999901a-fa17-31da-cfe5-2abf3a429df7)\n",
    "# College English (1939-2016) (a161f384-720b-b6bf-a0cc-4d7d3b857e1c)\n",
    "# PMLA (1889-2014) (1aea53b9-26d5-fe54-e35c-8259156ce6cd)\n",
    "\n",
    "#History\n",
    "\n",
    "#Philosophy\n",
    "\n",
    "#Anthropology\n",
    "\n",
    "#Law\n",
    "\n",
    "#Art\n",
    "\n",
    "#Classics\n",
    "#Classical Quarterly (1907-2014) (82014740-8ed9-3c34-5716-d0879b8317f6)"
   ]
  },
  {
   "cell_type": "markdown",
   "metadata": {},
   "source": [
    "Before we can begin working with our [dataset](./key-terms.ipynb#dataset), we need to convert the [JSON lines](./key-terms.ipynb#jsonl) file written in [JavaScript](./key-terms.ipynb#javascript) into [Python](./key-terms.ipynb#python) so we can work with it. Remember that each line of our [JSON lines](./key-terms.ipynb#jsonl) file represents a single text, whether that is a journal article, book, or something else. We will create a [Python](./key-terms.ipynb#python) list that contains every document. Within each list item for each document, we will use a [Python dictionary](./key-terms.ipynb#python-dictionary) of [key/value pairs](./key-terms.ipynb#key-value-pair) to store information related to that document. \n",
    "\n",
    "Essentially we will have a [list](./key-terms.ipynb#python-list) of documents numbered, from zero to the last document. Each [list](./key-terms.ipynb#python-list) item then will be composed of a [dictionary](./key-terms.ipynb#python-dictionary) of [key/value pairs](./key-terms.ipynb#key-value-pair) that allows us to retrieve information from that particular document by number. The structure will look something like this:\n",
    "\n",
    "![Structure of the corpus, a list of dictionaries](https://ithaka-labs.s3.amazonaws.com/static-files/images/tdm/tdmdocs/CorpusView.png)\n",
    "\n",
    "For each item in our list we will be able to use [key/value pairs](./key-terms.ipynb#key-value-pair) to get a **value** if we supply a **key**. We will call our [Python list](./key-terms.ipynb#python-list) variable `all_documents` since it will contain all of the documents in our [corpus](./key-terms.ipynb#corpus)."
   ]
  },
  {
   "cell_type": "code",
   "execution_count": 2,
   "metadata": {},
   "outputs": [],
   "source": [
    "# Replace with your filename and be sure your file is in your datasets folder\n",
    "file_name = 'sampleJournalAnalysis.jsonl' \n",
    "\n",
    "# Import the json module\n",
    "import json\n",
    "# Create an empty new list variable named `all_documents`\n",
    "all_documents = [] \n",
    "# Temporarily open the file `filename` in the datasets/ folder\n",
    "with open('./datasets/' + file_name) as dataset_file: \n",
    "    #for each line in the dataset file\n",
    "    for line in dataset_file: \n",
    "        # Read each line into a Python dictionary.\n",
    "        # Create a variable document that contains the line using json.loads to convert the json key/value pairs to a python dictionary\n",
    "        document = json.loads(line) \n",
    "        # Append a new list item to `all_documents` containing the dictionary we created.\n",
    "        all_documents.append(document) "
   ]
  },
  {
   "cell_type": "markdown",
   "metadata": {},
   "source": [
    "Now all of our documents have been converted from our original [JSON lines](./key-terms.ipynb#jsonl) file format (.jsonl) into a [python List](./key-terms.ipynb#python-list) variable named `all_documents`. Let's see what we can discover about our [corpus](./key-terms.ipynb#corpus) with a few simple methods.\n",
    "\n",
    "First, we can determine how many texts are in our [dataset](./key-terms.ipynb#dataset) by using the `len()` function to get the size of `all_documents`. "
   ]
  },
  {
   "cell_type": "code",
   "execution_count": 3,
   "metadata": {
    "scrolled": true
   },
   "outputs": [
    {
     "data": {
      "text/plain": [
       "6687"
      ]
     },
     "execution_count": 3,
     "metadata": {},
     "output_type": "execute_result"
    }
   ],
   "source": [
    "len(all_documents)"
   ]
  },
  {
   "cell_type": "markdown",
   "metadata": {},
   "source": [
    "---\n",
    "## Removing Articles That Are Not Full-Length\n",
    "\n",
    "When journal articles are added to JSTOR, they are broken up into chunks called articles. If we want to analyze every word in every issue, this approach works well. However, if we only want to analyze the full-length articles, we may want to remove some articles. These articles could be things like:\n",
    "\n",
    "* Tables of Contents\n",
    "* Indices\n",
    "* Unauthored Materials\n",
    "* Short Notes\n",
    "* Book Reviews\n",
    "\n",
    "We can design a set of assessments that will remove these materials. Depending on the journal and the field, shorter articles may still be relevant. The example code below demonstrates a set of rules for filtering using the article metadata.\n",
    "\n",
    "### Articles To Be Removed\n",
    "* Articles with no authors\n",
    "* Articles with title: \"Review Article\"\n",
    "* Articles with title: \"Front Matter\"\n",
    "* Articles with title: \"Back Matter\"\n",
    "* Articles with a word count less than 3000 words\n",
    "\n",
    "The function below outputs a list of the first ten articles followed by the reason each article would or would not be kept. This can be a useful exploratory tool for getting the best starting corpus. You may need to adjust the word count number up or down, particularly for distinguishing between say short notes and full-length articles. You might also consider writing other metadata field tests to narrow your corpus. **Note: The Article Assessment Exploration code below does not change your corpus found within ``all_documents``. It merely serves as a convenient way to consider the logic of your filtering.**"
   ]
  },
  {
   "cell_type": "code",
   "execution_count": 4,
   "metadata": {},
   "outputs": [
    {
     "name": "stdout",
     "output_type": "stream",
     "text": [
      "Article 0:\n",
      "Title: Review Article\n",
      "URL: http://www.jstor.org/stable/2869980\n",
      "Status: Removed--Review Article\n",
      "Article 1:\n",
      "Title: Shakespeare in Sydney\n",
      "URL: http://www.jstor.org/stable/2870198\n",
      "Status: Removed--Too short at 2032 words\n",
      "Article 2:\n",
      "Title: Shakespeare in the Berkshires, 1985\n",
      "URL: http://www.jstor.org/stable/2870199\n",
      "Status: Removed--Too short at 1805 words\n",
      "Article 3:\n",
      "Title: Review Article\n",
      "URL: http://www.jstor.org/stable/2870209\n",
      "Status: Removed--Review Article\n",
      "Article 4:\n",
      "Title: Review Article\n",
      "URL: http://www.jstor.org/stable/2870208\n",
      "Status: Removed--Review Article\n",
      "Article 5:\n",
      "Title: \"Thrift is Blessing\": Exchange and Explanation In The Merchant of Venice\n",
      "URL: http://www.jstor.org/stable/2870189\n",
      "Status: GOOD ARTICLE at 9332 words\n",
      "Article 6:\n",
      "Title: 'Willm̄ Shakespeare 1609': The Flower Portrait Revisited\n",
      "URL: http://www.jstor.org/stable/2870193\n",
      "Status: GOOD ARTICLE at 5803 words\n",
      "Article 7:\n",
      "Title: Creative Uncreation In King Lear\n",
      "URL: http://www.jstor.org/stable/2870188\n",
      "Status: GOOD ARTICLE at 8966 words\n",
      "Article 8:\n",
      "Title: Review Article\n",
      "URL: http://www.jstor.org/stable/2870203\n",
      "Status: Removed--Review Article\n",
      "Article 9:\n",
      "Title: Mr. W. H.: A New Candidate\n",
      "URL: http://www.jstor.org/stable/2870194\n",
      "Status: Removed--Too short at 866 words\n"
     ]
    }
   ],
   "source": [
    "#Article Assessment Exploration\n",
    "\n",
    "## Define a function ``remove_non_articles`` that will test a single document\n",
    "def remove_non_articles(test_doc):\n",
    "    print('Article ' + str(i) + ':') # Print the list index for each article so they can be easily referenced\n",
    "    print('Title: ' + test_doc.get('title')) # Print the title for the article in question\n",
    "    print('URL: ' + test_doc.get('id')) # Print the URL for the article so it can be quickly reviewed\n",
    "    print('Status: ', end='') # Print the phrase 'Status' without a following line-break\n",
    "    if test_doc.get('creators') == None: # Get the value for the key 'creators' in the test document and check if it is equal to none\n",
    "        print('Removed--No author') # If the value for 'creators' is none, print 'Removed--No author'\n",
    "    elif test_doc.get('title') == 'Review Article': # Get the value for the key 'title' in the test document and check if it is equal to 'Review Article'\n",
    "        print('Removed--Review Article') # If the value for 'title' is 'Review Article', print 'Removed--Review Article'\n",
    "    elif test_doc.get('title') == 'Front Matter': # Get the value for the key 'title' in the test document and check if it is equal to 'Front Matter'\n",
    "        print('Removed--Front Matter') # If the value for 'title' is 'Front Matter', print 'Removed--Front Matter'\n",
    "    elif test_doc.get('title') == 'Back Matter': # Get the value for the key 'title' in the test document and check if it is equal to 'Back Matter'\n",
    "        print('Removed--Back Matter')  # If the value for 'title' is 'Back Matter', print 'Removed--Back Matter'\n",
    "    elif test_doc.get('wordCount') < 3000: # Get the value for 'wordCount' in the test document and check if the integer is less than 3000 words (Change this number if you want more or less words)\n",
    "        print('Removed--Too short at ' + str(test_doc.get('wordCount')) + ' words') # If the value for wordCount is less than 3000, print 'Removed--Too short at' followed by the actual word count\n",
    "    else:\n",
    "        print('GOOD ARTICLE at '+ str(test_doc.get('wordCount')) + ' words') # If the article passes all the above tests, print 'GOOD ARTICLE at ' with the article word count\n",
    "\n",
    "articles_to_show = 10 # Show the first ten articles (Change this number to show more or fewer articles)\n",
    "#articles_to_show = len(all_documents) # Uncomment to show all articles\n",
    "for i in range(articles_to_show): # Repeat this process the number of times as the value of ``articles_to_show`` + 1\n",
    "    remove_non_articles(all_documents[i])  # Run the remove_non_articles function on a single document with list index value of ``i``"
   ]
  },
  {
   "cell_type": "markdown",
   "metadata": {},
   "source": [
    "Now that we've done some exploratory analysis to figure out the right parameters for filtering our corpus, let's put them into practice. The following set of list comprehensions creates a new list called ``reduced_list`` from our original corpus ``all_documents``. After each filtering, the number of kept articles is printed."
   ]
  },
  {
   "cell_type": "code",
   "execution_count": 5,
   "metadata": {},
   "outputs": [
    {
     "name": "stdout",
     "output_type": "stream",
     "text": [
      "Original number of documents: 6687\n",
      "After removing articles with no authors: 5303\n",
      "After removing \"Review Articles\": 3610\n",
      "After removing articles labeled \"Front Matter\": 3413\n",
      "After removing articles labeled \"Back Matter\": 3276\n",
      "After removing short articles: 2399\n"
     ]
    }
   ],
   "source": [
    "print('Original number of documents: ' + str(len(all_documents))) # Print the original number of documents in ``all_documents``\n",
    "reduced_list = [all_documents[x] for x in range(len(all_documents)) if all_documents[x].get('creators') != None] # Copy each list item from ``all_documents`` to ``reduced_list`` if the ``creators`` key does not have a value pair of None\n",
    "print('After removing articles with no authors: ' + str(len(reduced_list))) # Print the current size of ``reduced_list``\n",
    "reduced_list = [all_documents[x] for x in range(len(reduced_list)) if all_documents[x].get('title') != 'Review Article'] # Copy each list item from ``reduced_list`` to ``reduced_list`` if the ``title`` key does not have a value pair of 'Review Article'\n",
    "print('After removing \"Review Articles\": ' + str(len(reduced_list))) # Print the current size of ``reduced_list``\n",
    "reduced_list = [all_documents[x] for x in range(len(reduced_list)) if reduced_list[x].get('title') != 'Front Matter'] # Copy each list item from ``reduced_list`` to ``reduced_list`` if the ``title`` key does not have a value pair of 'Front Matter'\n",
    "print('After removing articles labeled \"Front Matter\": ' + str(len(reduced_list))) # Print the current size of ``reduced_list``\n",
    "reduced_list = [all_documents[x] for x in range(len(reduced_list)) if reduced_list[x].get('title') != 'Back Matter'] # Copy each list item from ``reduced_list`` to ``reduced_list`` if the ``title`` key does not have a value pair of 'Back Matter'\n",
    "print('After removing articles labeled \"Back Matter\": ' + str(len(reduced_list))) # Print the current size of ``reduced_list``\n",
    "reduced_list = [all_documents[x] for x in range(len(reduced_list)) if reduced_list[x].get('wordCount') < 3000] # Copy each list item from ``reduced_list`` to ``reduced_list`` if the ``wordCount`` has a value pair less than 3000\n",
    "print('After removing short articles: ' + str(len(reduced_list))) # Print the current size of ``reduced_list``"
   ]
  },
  {
   "cell_type": "markdown",
   "metadata": {},
   "source": [
    "## Cleaning Up the Tokens in the Corpus\n",
    "\n",
    "Let's create a helper function that can standardize and [clean](./key-terms.ipynb#clean-data) up the [tokens](./key-terms.ipynb#token) in our [dataset](./key-terms.ipynb#dataset). The function will:\n",
    "* lower case all [tokens](./key-terms.ipynb#token)\n",
    "* use a dictionary from [The HathiTrust Research Center](./key-terms.ipynb#htrc) to correct common [Optical Character Recognition](./key-terms.ipynb#ocr) problems\n",
    "* discard [tokens](./key-terms.ipynb#token) less than 4 characters in length\n",
    "* discard [tokens](./key-terms.ipynb#token) with non-alphabetical characters\n",
    "* remove [stopwords](./key-terms.ipynb#stop-words) based on [The HathiTrust Research Center](./key-terms.ipynb#htrc) [stopword](./key-terms.ipynb#stop-words) list"
   ]
  },
  {
   "cell_type": "code",
   "execution_count": 6,
   "metadata": {},
   "outputs": [],
   "source": [
    "from tdm_client import htrc_corrections # Import the htrc_corrections that helps correct common OCR problems\n",
    "\n",
    "def process_token(token): #define a function `process_token` that takes the argument `token`\n",
    "    token = token.lower() #set the string in token to a new string with all lowercase letters\n",
    "    corrected = htrc_corrections.get(token) #initialize a new variable `corrected` that runs token through the `htrc_corrections.get()` function to fix common OCR errors\n",
    "    if corrected is not None: #if corrected has a value, set the `token` variable to the same value as `corrected`\n",
    "        token = corrected\n",
    "    if len(token) < 4: #if token is less than four characters, return nothing for process_function (no output here essentially erases this token)\n",
    "        return\n",
    "    if not(token.isalpha()): #if token contains non-alphabetic characters, return nothing for process_function (no output here essentially erases this token)\n",
    "        return\n",
    "    return token #return the `token` variable which has been set equal to the `corrected` variable\n",
    "\n",
    "def process_document(chosen_document): # Create a new function ``process_document`` that takes the argument chosen_document\n",
    "    this_doc = [] # Create a new list ``this_doc`` that will hold the contents of the current document\n",
    "    singleDoc = chosen_document.get('unigramCount') # Create a list variable ``singleDoc` that will contain the contents of `unigramCount` for the current document\n",
    "    for token, count in singleDoc.items(): # For each token in the document, \n",
    "        clean_token = process_token(token) # Use the ``process_token`` function above to clean that token\n",
    "        if clean_token is None: # If there is no token returned, proceed\n",
    "            continue\n",
    "        this_doc += [clean_token] * count # Add to ``this_doc`` list the number of token occurences\n",
    "    documents.append(this_doc) # Add the token count results for ``this_doc`` to the ``documents`` list"
   ]
  },
  {
   "cell_type": "markdown",
   "metadata": {},
   "source": [
    "Now let's cycle through each document in the [corpus](./key-terms.ipynb#corpus) with our helper function."
   ]
  },
  {
   "cell_type": "code",
   "execution_count": 7,
   "metadata": {},
   "outputs": [],
   "source": [
    "documents = [] # An empty variable ``documents`` that will contain all our documents with cleaned tokens\n",
    "for i in range(len(reduced_list)): # Repeat this process once for every document in ``reduced_list``\n",
    "    process_document(reduced_list[i]) # Run the ``process_token`` function on the single article by reference to its index number of i"
   ]
  },
  {
   "cell_type": "markdown",
   "metadata": {},
   "source": [
    "---\n",
    "# Using Gensim to Compute \"Term Frequency- Inverse Document Frequency\"\n",
    "\n",
    "It will be helpful to remember the basic steps we did in the explanatory TF-IDF example:\n",
    "\n",
    "1. Create a list of the frequency of every word in every document\n",
    "2. Create a list of every word in the corpus\n",
    "3. Compute TF-IDF based on that data\n",
    "\n",
    "So far, we have completed the first item by creating a list of the frequency of every word in every document. Now we need to create a list of every word in the corpus. In gensim, this is called a \"dictionary\". A \"gensim dictionary\" is a kind of Python dictionary, but here it is called a **gensim dictionary** to show it is a specialized kind of Python dictionary.\n",
    "\n",
    "## Creating a Gensim Dictionary\n",
    "\n",
    "Let's create our gensim dictionary. A gensim dictionary is a kind of masterlist of all the words across all the documents in our corpus. Each unique word is assigned an ID in the gensim dictionary. The result is a set of key/value pairs of unique tokens and their unique IDs."
   ]
  },
  {
   "cell_type": "code",
   "execution_count": 8,
   "metadata": {},
   "outputs": [],
   "source": [
    "import gensim \n",
    "dictionary = gensim.corpora.Dictionary(documents) # Create the Gensim dictionary based on our ``documents`` variable"
   ]
  },
  {
   "cell_type": "markdown",
   "metadata": {},
   "source": [
    "Now that we have a gensim dictionary, we can get a preview that displays the number of unique tokens across all of our texts."
   ]
  },
  {
   "cell_type": "code",
   "execution_count": 9,
   "metadata": {},
   "outputs": [
    {
     "name": "stdout",
     "output_type": "stream",
     "text": [
      "Dictionary(122408 unique tokens: ['account', 'accounts', 'acted', 'acting', 'admirably']...)\n"
     ]
    }
   ],
   "source": [
    "print(dictionary)"
   ]
  },
  {
   "cell_type": "markdown",
   "metadata": {},
   "source": [
    "The gensim dictionary stores a unique identifier (starting with 0) for every token in the corpus. The gensim dictionary does not contain information on word frequencies; it only catalogs all the words in the corpus. You can see the unique ID for each token in the text using the .token2id() method. Before running the following line of code, keep in mind that your corpus may have hundreds of thousands of unique words so the output will be lengthy."
   ]
  },
  {
   "cell_type": "code",
   "execution_count": 64,
   "metadata": {},
   "outputs": [],
   "source": [
    "#print(dictionary.token2id) # Print all of the tokens and their associated IDs. The output will be very large.\n"
   ]
  },
  {
   "cell_type": "markdown",
   "metadata": {},
   "source": [
    "We can also look up the corresponding ID for a token using the .get method."
   ]
  },
  {
   "cell_type": "code",
   "execution_count": 44,
   "metadata": {},
   "outputs": [
    {
     "data": {
      "text/plain": [
       "647"
      ]
     },
     "execution_count": 44,
     "metadata": {},
     "output_type": "execute_result"
    }
   ],
   "source": [
    "dictionary.token2id.get('people', 0) # Get the value for the key 'people'. Return 0 if there is no token matching 'people'. The number returned is the gensim dictionary ID for the token. "
   ]
  },
  {
   "cell_type": "markdown",
   "metadata": {},
   "source": [
    "## Creating a Bag of Words Corpus\n",
    "\n",
    "\n",
    "### A Single Document Example\n",
    "\n",
    "The next step is to combine our word frequency data found within ``documents`` and our gensim dictionary token IDs. For every document, we want to know how many times a word (notated by its ID) occurs. We can do a single document first to show how this works. We will create a Python list called ``example_bow_corpus`` that will turn our word counts into a series of two-number sets where the first number is the token ID and the second number is the word frequency."
   ]
  },
  {
   "cell_type": "code",
   "execution_count": 20,
   "metadata": {},
   "outputs": [
    {
     "name": "stdout",
     "output_type": "stream",
     "text": [
      "[[(0, 1), (2, 1), (6, 2), (8, 1), (15, 4), (21, 3), (27, 1), (55, 1), (78, 1), (89, 3), (98, 1), (107, 6), (118, 4), (135, 5), (140, 2), (143, 1), (150, 2), (167, 4), (168, 2), (174, 1), (178, 3), (183, 1), (188, 3), (190, 2), (205, 3), (208, 1), (214, 1), (231, 1), (234, 2), (239, 1), (240, 5), (252, 2), (253, 1), (258, 2), (266, 11), (267, 3), (269, 2), (272, 1), (273, 12), (274, 1), (281, 1), (292, 11), (293, 3), (295, 2), (297, 1), (298, 2), (299, 17), (305, 2), (310, 1), (312, 1), (321, 1), (325, 1), (334, 1), (338, 3), (340, 1), (387, 1), (390, 1), (411, 1), (416, 1), (423, 1), (445, 1), (460, 2), (477, 1), (509, 1), (519, 1), (530, 2), (536, 1), (549, 1), (553, 1), (565, 2), (571, 4), (599, 2), (632, 1), (650, 1), (662, 2), (676, 3), (694, 2), (722, 3), (731, 1), (732, 4), (734, 2), (738, 4), (751, 1), (769, 3), (772, 1), (779, 1), (784, 1), (792, 1), (800, 1), (818, 4), (821, 1), (823, 1), (826, 3), (855, 2), (860, 1), (875, 1), (877, 1), (878, 1), (879, 3), (891, 3), (895, 1), (900, 1), (905, 1), (930, 1), (932, 1), (954, 1), (959, 1), (967, 1), (969, 2), (972, 1), (992, 1), (1019, 1), (1026, 1), (1102, 1), (1105, 1), (1123, 1), (1129, 1), (1147, 1), (1151, 1), (1174, 1), (1179, 1), (1203, 1), (1217, 2), (1224, 1), (1225, 2), (1227, 1), (1253, 3), (1269, 3), (1272, 2), (1274, 1), (1297, 1), (1301, 1), (1302, 1), (1311, 1), (1316, 1), (1391, 2), (1409, 1), (1414, 1), (1427, 2), (1467, 1), (1505, 1), (1514, 1), (1521, 2), (1522, 1), (1523, 1), (1546, 1), (1565, 1), (1570, 2), (1583, 1), (1632, 1), (1648, 1), (1649, 1), (1662, 2), (1716, 1), (1718, 1), (1724, 1), (1735, 1), (1766, 1), (1801, 3), (1805, 1), (1884, 2), (1888, 1), (1895, 1), (1896, 1), (1897, 1), (1906, 1), (1932, 1), (1951, 1), (1963, 3), (1968, 1), (1980, 1), (1989, 1), (1997, 1), (2010, 3), (2109, 1), (2117, 1), (2121, 1), (2128, 1), (2148, 1), (2169, 1), (2175, 1), (2183, 1), (2216, 1), (2217, 1), (2233, 1), (2277, 1), (2291, 2), (2351, 1), (2385, 2), (2406, 1), (2417, 1), (2447, 1), (2479, 1), (2495, 2), (2509, 1), (2585, 1), (2595, 1), (2614, 1), (2657, 1), (2658, 2), (2675, 1), (2754, 1), (2772, 1), (2788, 1), (2815, 4), (2842, 4), (2855, 4), (2891, 2), (2901, 1), (2933, 3), (2934, 2), (2949, 1), (2976, 1), (2978, 1), (2986, 1), (2997, 1), (3067, 1), (3131, 1), (3134, 1), (3136, 10), (3225, 1), (3246, 1), (3279, 1), (3322, 1), (3323, 1), (3358, 1), (3399, 1), (3512, 1), (3534, 1), (3726, 1), (3801, 1), (3867, 2), (3885, 1), (3911, 1), (3991, 1), (4018, 1), (4087, 1), (4263, 1), (4267, 2), (4285, 1), (4305, 1), (4345, 1), (4354, 1), (4378, 2), (4445, 1), (4472, 1), (4512, 1), (4526, 2), (4534, 1), (4536, 1), (4641, 1), (4649, 1), (4661, 1), (4689, 5), (4698, 1), (4703, 1), (4724, 2), (4735, 1), (4756, 1), (4764, 1), (4810, 1), (4843, 1), (4897, 1), (4970, 2), (4981, 1), (4985, 1), (4990, 1), (5007, 1), (5031, 1), (5034, 1), (5071, 1), (5098, 1), (5176, 2), (5196, 1), (5266, 1), (5275, 1), (5307, 1), (5341, 1), (5435, 1), (5447, 1), (5467, 1), (5522, 1), (5570, 1), (5576, 1), (5606, 1), (5644, 1), (5785, 1), (5941, 2), (6011, 1), (6108, 1), (6135, 1), (6172, 1), (6212, 3), (6276, 2), (6338, 1), (6552, 1), (6614, 1), (6742, 1), (6766, 1), (6799, 1), (6945, 1), (7066, 1), (7079, 1), (7093, 1), (7165, 4), (7172, 1), (7204, 1), (7272, 1), (7328, 1), (7395, 1), (7397, 1), (7481, 1), (7489, 1), (7499, 1), (7520, 1), (7562, 1), (7600, 1), (7795, 1), (7829, 1), (7830, 1), (7831, 1), (7832, 1), (7833, 1), (7834, 2), (7835, 1), (7836, 1), (7837, 1), (7838, 1), (7839, 1), (7840, 2), (7841, 1), (7842, 1), (7843, 1), (7844, 1), (7845, 1), (7846, 1), (7847, 3), (7848, 1), (7849, 3), (7850, 2), (7851, 1), (7852, 1), (7853, 1), (7854, 1), (7855, 1), (7856, 1), (7857, 1), (7858, 1), (7859, 1), (7860, 1), (7861, 1), (7862, 1), (7863, 1), (7864, 1), (7865, 1), (7866, 3), (7867, 1), (7868, 1), (7869, 1), (7870, 1), (7871, 1), (7872, 1), (7873, 1), (7874, 1), (7875, 1), (7876, 1), (7877, 1), (7878, 1), (7879, 1), (7880, 1), (7881, 1), (7882, 1), (7883, 1), (7884, 1), (7885, 1), (7886, 1), (7887, 3), (7888, 1), (7889, 1), (7890, 1), (7891, 1), (7892, 1), (7893, 1), (7894, 1), (7895, 1), (7896, 1), (7897, 1), (7898, 1), (7899, 2), (7900, 3), (7901, 1), (7902, 1), (7903, 1), (7904, 1), (7905, 1), (7906, 1), (7907, 1), (7908, 1), (7909, 1), (7910, 1), (7911, 1), (7912, 1), (7913, 1), (7914, 1), (7915, 1), (7916, 1), (7917, 1), (7918, 1), (7919, 1), (7920, 1), (7921, 1), (7922, 1), (7923, 1), (7924, 1), (7925, 1), (7926, 1), (7927, 1), (7928, 1), (7929, 1), (7930, 1), (7931, 1), (7932, 1), (7933, 1), (7934, 1), (7935, 2), (7936, 1), (7937, 1), (7938, 1), (7939, 2), (7940, 1), (7941, 1), (7942, 1), (7943, 1), (7944, 1), (7945, 1), (7946, 1), (7947, 1), (7948, 1), (7949, 1), (7950, 1), (7951, 1), (7952, 1), (7953, 1), (7954, 1), (7955, 1), (7956, 1), (7957, 7), (7958, 1), (7959, 1), (7960, 1), (7961, 1), (7962, 1), (7963, 1), (7964, 1)]]\n"
     ]
    }
   ],
   "source": [
    "example_bow_corpus = [dictionary.doc2bow(documents[31])] # Create an example bag of words corpus. We select a document at random to use as our sample.\n",
    "print(example_bow_corpus)"
   ]
  },
  {
   "cell_type": "markdown",
   "metadata": {},
   "source": [
    "Using IDs can seem a little abstract, but we can discover the word associated with a particular ID. First, if you know a word you're interested in finding, you could search for it like we did above using\n",
    "\n",
    "> dictionary.token2id.get('people', 0)\n",
    "\n",
    "Then you could look at the list items above to find if the relevant number. If the number is not present, that token is not present in this example document.\n",
    "\n",
    "Alternatively, you could use list comprehension to find the **key** token based on the **value** ID. Normally, Python dictionaries only map from keys to values (not from values to keys). However, we can write a quick list comprehension to go the other direction. (It is unlikely one would ever do these methods in practice, but they are shown here to demonstrate how the gensim dictionary is connected to the list entries in the gensim bow_corpus. \n",
    "\n",
    "Recall in our TF-IDF example we first needed t\n",
    "\n",
    "\n",
    "This connection makes it easy to discover how any particular word in the whole corpus is connected to "
   ]
  },
  {
   "cell_type": "code",
   "execution_count": 81,
   "metadata": {},
   "outputs": [
    {
     "data": {
      "text/plain": [
       "['shakespeare']"
      ]
     },
     "execution_count": 81,
     "metadata": {},
     "output_type": "execute_result"
    }
   ],
   "source": [
    "[token for dict_id, token in dictionary.items() if dict_id == 239] # Find the corresponding token in our gensim dictionary for the gensim dictionary ID 239"
   ]
  },
  {
   "cell_type": "markdown",
   "metadata": {},
   "source": [
    "## Creating a Bag of Words Corpus Using Every Document\n",
    "\n",
    "Let's create a bag of words corpus for all the documents. "
   ]
  },
  {
   "cell_type": "code",
   "execution_count": 12,
   "metadata": {},
   "outputs": [],
   "source": [
    "bow_corpus = [dictionary.doc2bow(doc) for doc in documents]"
   ]
  },
  {
   "cell_type": "markdown",
   "metadata": {},
   "source": []
  },
  {
   "cell_type": "code",
   "execution_count": 492,
   "metadata": {},
   "outputs": [],
   "source": [
    "model = gensim.models.TfidfModel(bow_corpus)"
   ]
  },
  {
   "cell_type": "code",
   "execution_count": 493,
   "metadata": {},
   "outputs": [],
   "source": [
    "corpus_tfidf = model[bow_corpus]"
   ]
  },
  {
   "cell_type": "markdown",
   "metadata": {},
   "source": [
    "Find the most significant terms, by TFIDF, in the curated dataset. "
   ]
  },
  {
   "cell_type": "code",
   "execution_count": 494,
   "metadata": {},
   "outputs": [],
   "source": [
    "td = {\n",
    "        dictionary.get(_id): value for doc in corpus_tfidf\n",
    "        for _id, value in doc\n",
    "    }\n",
    "sorted_td = sorted(td.items(), key=lambda kv: kv[1], reverse=True)"
   ]
  },
  {
   "cell_type": "code",
   "execution_count": 495,
   "metadata": {
    "scrolled": true
   },
   "outputs": [
    {
     "name": "stdout",
     "output_type": "stream",
     "text": [
      "ofamiem 1.0\n",
      "ouderdom 0.9127008148928485\n",
      "sturgess 0.9086024303923905\n",
      "zamir 0.8776651519018113\n",
      "santayana 0.8665736199609847\n",
      "falocco 0.8562928124271615\n",
      "weingust 0.8547899776401692\n",
      "chinese 0.8462001652815331\n",
      "weils 0.8445705864452131\n",
      "rudanko 0.8390830868389877\n",
      "enbiemata 0.8280102498481464\n",
      "daileader 0.8171301955562135\n",
      "nodier 0.8168018882816901\n",
      "usury 0.8005782510346803\n",
      "menas 0.7909230276348473\n",
      "beaurline 0.7905965479055058\n",
      "spectogram 0.7879121817261375\n",
      "franciscus 0.7771865284620213\n",
      "soellner 0.77327831058108\n",
      "bastarde 0.7712490973605648\n",
      "unton 0.7682807524450844\n",
      "cohens 0.7677867862204198\n",
      "falco 0.7635813973078707\n",
      "callimachus 0.7604638066069844\n",
      "wynkyn 0.7583409894849417\n"
     ]
    }
   ],
   "source": [
    "for term, weight in sorted_td[:25]:\n",
    "    print(term, weight)"
   ]
  },
  {
   "cell_type": "markdown",
   "metadata": {},
   "source": [
    "Print the most significant word, by TFIDF, for the first 50 documents in the corpus. "
   ]
  },
  {
   "cell_type": "code",
   "execution_count": 498,
   "metadata": {},
   "outputs": [
    {
     "name": "stdout",
     "output_type": "stream",
     "text": [
      "http://www.jstor.org/stable/2869980 henslowe 0.33564303350040253\n",
      "http://www.jstor.org/stable/2870198 stairs 0.15472663369841613\n",
      "http://www.jstor.org/stable/2870199 beatrice 0.23846910220032727\n",
      "http://www.jstor.org/stable/2870209 donaldson 0.4977445938192701\n",
      "http://www.jstor.org/stable/2870208 cheng 0.6067690431054176\n",
      "http://www.jstor.org/stable/2870203 hartwig 0.6244428220115\n",
      "http://www.jstor.org/stable/2870194 hall 0.5136214288878345\n",
      "http://www.jstor.org/stable/2870206 novy 0.5645876593477805\n",
      "http://www.jstor.org/stable/2870202 booth 0.3864621355873546\n",
      "http://www.jstor.org/stable/2870313 vizcaya 0.6046299393365276\n",
      "http://www.jstor.org/stable/2870327 hollar 0.639842687006522\n",
      "http://www.jstor.org/stable/2870308 longleat 0.5039894018479222\n",
      "http://www.jstor.org/stable/2869730 andidentifies 0.1635030038209591\n",
      "http://www.jstor.org/stable/2869726 rubinstein 0.5497022223906934\n",
      "http://www.jstor.org/stable/2871196 carded 0.2820633806904763\n",
      "http://www.jstor.org/stable/2871206 jaggard 0.2704892925363586\n",
      "http://www.jstor.org/stable/2870086 roger 0.22407927452908946\n",
      "http://www.jstor.org/stable/2870094 taylor 0.3310153818503154\n",
      "http://www.jstor.org/stable/2869777 production 0.20771778787771467\n",
      "http://www.jstor.org/stable/2869765 reviewing 0.19442107347889528\n",
      "http://www.jstor.org/stable/2869775 theatre 0.29861889467571856\n",
      "http://www.jstor.org/stable/2870161 lear 0.2660105431143734\n",
      "http://www.jstor.org/stable/2870157 italian 0.21087240690666048\n",
      "http://www.jstor.org/stable/2870177 jardine 0.5611803888072969\n",
      "http://www.jstor.org/stable/2870185 mailing 0.1992704223595866\n",
      "http://www.jstor.org/stable/2870383 laan 0.6921640509219383\n",
      "http://www.jstor.org/stable/2870386 brown 0.25477440033888865\n",
      "http://www.jstor.org/stable/2870376 television 0.24732995544933492\n",
      "http://www.jstor.org/stable/2870394 simonds 0.2739133793708261\n",
      "http://www.jstor.org/stable/2870395 cloth 0.27133610060734786\n",
      "http://www.jstor.org/stable/2870384 vice 0.1615457820296335\n",
      "http://www.jstor.org/stable/2870379 utah 0.30647004664738303\n",
      "http://www.jstor.org/stable/2869930 suetonius 0.2277299687699213\n",
      "http://www.jstor.org/stable/2869949 dissertation 0.3083116834796744\n",
      "http://www.jstor.org/stable/2869929 tail 0.5099418545362527\n",
      "http://www.jstor.org/stable/2869947 bliss 0.3311906461731288\n",
      "http://www.jstor.org/stable/2869942 driscoll 0.2718201396975177\n",
      "http://www.jstor.org/stable/2869920 universitn 0.26078064915896176\n",
      "http://www.jstor.org/stable/2869938 stair 0.25089921713600366\n",
      "http://www.jstor.org/stable/2869704 capitol 0.5955814030640157\n",
      "http://www.jstor.org/stable/2869682 bullingbrook 0.20883169101665788\n",
      "http://www.jstor.org/stable/2869695 mcanuff 0.2313300162117224\n",
      "http://www.jstor.org/stable/2869703 dash 0.5728806682575506\n",
      "http://www.jstor.org/stable/2870062 miller 0.4990204703075245\n",
      "http://www.jstor.org/stable/2870055 teaching 0.26188675285977076\n",
      "http://www.jstor.org/stable/2870068 students 0.22910712319925738\n",
      "http://www.jstor.org/stable/2869860 judah 0.5459643576202144\n",
      "http://www.jstor.org/stable/2869859 magician 0.5056121470707868\n",
      "http://www.jstor.org/stable/2869911 facsimile 0.25122626649949076\n",
      "http://www.jstor.org/stable/2869915 gyman 0.1411382206138676\n",
      "http://www.jstor.org/stable/2869912 distribution 0.3138351376547982\n"
     ]
    }
   ],
   "source": [
    "for n, doc in enumerate(corpus_tfidf):\n",
    "    if len(doc) < 1:\n",
    "        continue\n",
    "    word_id, score = max(doc, key=lambda x: x[1])\n",
    "    print(reduced_list[n].get('id'), dictionary.get(word_id), score)\n",
    "    if n >= 50:\n",
    "        break"
   ]
  },
  {
   "cell_type": "code",
   "execution_count": null,
   "metadata": {},
   "outputs": [],
   "source": []
  }
 ],
 "metadata": {
  "kernelspec": {
   "display_name": "Python 3",
   "language": "python",
   "name": "python3"
  },
  "language_info": {
   "codemirror_mode": {
    "name": "ipython",
    "version": 3
   },
   "file_extension": ".py",
   "mimetype": "text/x-python",
   "name": "python",
   "nbconvert_exporter": "python",
   "pygments_lexer": "ipython3",
   "version": "3.7.3"
  }
 },
 "nbformat": 4,
 "nbformat_minor": 4
}
