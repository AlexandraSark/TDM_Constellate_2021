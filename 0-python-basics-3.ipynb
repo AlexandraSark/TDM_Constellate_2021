{
 "cells": [
  {
   "cell_type": "markdown",
   "metadata": {},
   "source": [
    "Created by [Nathan Kelber](http://nkelber.com) for [JSTOR Labs](https://labs.jstor.org/) under [Creative Commons CC BY License](https://creativecommons.org/licenses/by/4.0/)<br />\n",
    "**For questions/comments/improvements, email nathan.kelber@ithaka.org.**<br />\n",
    "![CC BY License Logo](https://ithaka-labs.s3.amazonaws.com/static-files/images/tdm/tdmdocs/CC_BY.png)\n",
    "____\n",
    "# Python Basics III\n",
    "\n",
    "**Description:** This notebook describes the basics of lists and dictionaries including:\n",
    "* \n",
    "\n",
    "This is part 3 of 3 in the series Python Basics that will prepare you to do text analysis using the Python programming language.\n",
    "\n",
    "**Difficulty:** Beginner\n",
    "\n",
    "**Knowledge Required:** \n",
    "* [Getting Started with Jupyter Notebooks](./0-introduction-to-jupyter-notebooks.ipynb)\n",
    "* [Python Basics I](./0-python-basics-1.ipynb)\n",
    "* [Python Basics II](./0-python-basics-1.ipynb)\n",
    "\n",
    "**Knowledge Recommended:** None\n",
    "\n",
    "**Completion Time:** 90 minutes\n",
    "\n",
    "**Data Format:** None\n",
    "\n",
    "**Libraries Used:** None\n",
    "___"
   ]
  },
  {
   "cell_type": "markdown",
   "metadata": {},
   "source": [
    "# The Benefits of lists and dictionariess\n",
    "\n",
    "In Python Basics I, we learned about three data types: **integers**, **floats**, and **strings**. In this lesson, we will learn about two additional data types: **lists** and **dictionaries**. **Lists** and **dictionaries** help us store many values inside a single variable. This is helpful for a few reasons.\n",
    "\n",
    "* We can store many items in a single list or dictionary, making it easier to keep the data together \n",
    "* Lists and dictionaries only require a single assignment state\n",
    "* Lists and dictionaries have additional capabilities that will make organizing our data easier\n",
    "\n",
    "The fundamental difference between a **list** and a **dictionary** is that a list stores items in sequential order (starting from 0) while a **dictionary** stores items in **key/value** pairs. When we want to retrieve an item in a list, we use an **index number** or a set of **index numbers** called a **slice** as a reference. When we want to retrieve an item from a **dictionary**, we supply a **key** that returns the **value** (or set of values) associated with that **key**. Each of these approaches can be beneificial depending on what kind of data we are working with (and what we intend to do with the data).\n",
    "\n",
    "# The List Data Type\n",
    "\n",
    "A **list** can store anywhere from zero to millions of items. The items that can be stored in a list include the data types we have already learned: integers, floats, and strings. A list **assignment statement** takes the form.\n",
    "`my_list = [item1, item2, item3, item4...]`"
   ]
  },
  {
   "cell_type": "code",
   "execution_count": null,
   "metadata": {},
   "outputs": [],
   "source": [
    "# A list containing integers\n",
    "my_favorite_numbers = [7, 21, 100]\n",
    "print(my_list)"
   ]
  },
  {
   "cell_type": "code",
   "execution_count": 4,
   "metadata": {},
   "outputs": [
    {
     "name": "stdout",
     "output_type": "stream",
     "text": [
      "['Harriet Tubman', 'Rosa Parks', 'Pauli Murray']\n"
     ]
    }
   ],
   "source": [
    "# A list containing strings\n",
    "my_inspirations = ['Harriet Tubman', 'Rosa Parks', 'Pauli Murray']\n",
    "print(my_inspirations)"
   ]
  },
  {
   "cell_type": "markdown",
   "metadata": {},
   "source": [
    "Both `my_favorite_numbers` and `my_inspirations` have three items, but we could have also initialized them with no items `my_favorite_numbers = []` or many more items. Each item has an **index number** that depends on their order. The first item is 0, the second item is 1, the third item is 2, etc. In the `my_inspirations` list, `'Pauli Murray'` is item 2."
   ]
  },
  {
   "cell_type": "code",
   "execution_count": 9,
   "metadata": {},
   "outputs": [
    {
     "data": {
      "text/plain": [
       "'Pauli Murray'"
      ]
     },
     "execution_count": 9,
     "metadata": {},
     "output_type": "execute_result"
    }
   ],
   "source": [
    "# Retrieving an item in a list\n",
    "my_inspirations[2]"
   ]
  },
  {
   "cell_type": "markdown",
   "metadata": {},
   "source": [
    "___\n",
    "<h3 style=\"color:red; display:inline\">Try it! &lt; / &gt; </h3>\n",
    "\n",
    "**What happens if you change the index number to 1? What about 3? 2.0?**\n",
    "\n",
    "___\n",
    "\n",
    "\n",
    "Lists can also contain other lists. To retrieve a value from a list within a list, we use two indexes (or indices). "
   ]
  },
  {
   "cell_type": "code",
   "execution_count": 11,
   "metadata": {},
   "outputs": [
    {
     "data": {
      "text/plain": [
       "'Pauli Murray'"
      ]
     },
     "execution_count": 11,
     "metadata": {},
     "output_type": "execute_result"
    }
   ],
   "source": [
    "# Retrieving an item from a list within a list\n",
    "my_inspirations = [['Harriet Tubman', 'Rosa Parks', 'Pauli Murray'], ['Martin Luther King Jr.', 'Frederick Douglass', 'Malcolm X']]\n",
    "my_inspirations[0][2]"
   ]
  },
  {
   "cell_type": "markdown",
   "metadata": {},
   "source": [
    "___\n",
    "<h3 style=\"color:red; display:inline\">Try it! &lt; / &gt; </h3>\n",
    "\n",
    "**Can you change the index for `my_inspirations` to retrieve `'Malcolm X'`?**\n",
    "___\n",
    "\n",
    "We can also select items from a list beginning from the end/right side of a list by using negative index numbers."
   ]
  },
  {
   "cell_type": "code",
   "execution_count": 12,
   "metadata": {},
   "outputs": [
    {
     "data": {
      "text/plain": [
       "'Pauli Murray'"
      ]
     },
     "execution_count": 12,
     "metadata": {},
     "output_type": "execute_result"
    }
   ],
   "source": [
    "# Retrieving an item from the end of a list by using negative indices\n",
    "my_inspirations = ['Harriet Tubman', 'Rosa Parks', 'Pauli Murray']\n",
    "my_inspirations[-1]"
   ]
  },
  {
   "cell_type": "markdown",
   "metadata": {},
   "source": [
    "We can also retrieve a group of contiguous items from a list using **slice** instead of a single index number. We create a slice by indicating a starting and ending index number. The **slice** is a smaller list containing all the items between our starting and stopping index number."
   ]
  },
  {
   "cell_type": "code",
   "execution_count": 13,
   "metadata": {},
   "outputs": [
    {
     "data": {
      "text/plain": [
       "['Late Middle Ages', 'Early Modern Period']"
      ]
     },
     "execution_count": 13,
     "metadata": {},
     "output_type": "execute_result"
    }
   ],
   "source": [
    "# Taking a slice of a list\n",
    "historical_periods = ['Classical Antiquity', 'Early Middle Ages', 'High Middle Ages', 'Late Middle Ages', 'Early Modern Period', 'Late Modern Period', 'Contemporary History']\n",
    "historical_periods[3:5]"
   ]
  },
  {
   "cell_type": "markdown",
   "metadata": {},
   "source": [
    "Notice in our slice that the second index in a slice is the stopping point. That is our return list contains `historical_periods[3]` (`'Late Middle Ages'`) and `historical_periods[4]` (`'Early Modern Period'`), but it does not include `historical_periods[5]` (`'Late Modern Period'`). This can be confusing if you were expecting three items instead of two. One way to remember this is by subtracting the indexes in your head (5 - 3 = 2 items).\n",
    "\n",
    "It is not uncommon for lists to be hundreds or thousands of items long. It would be a chore to count all those items to create a slice. If you want to know the length of a list, you can use then `len()` function."
   ]
  },
  {
   "cell_type": "code",
   "execution_count": 14,
   "metadata": {},
   "outputs": [
    {
     "data": {
      "text/plain": [
       "7"
      ]
     },
     "execution_count": 14,
     "metadata": {},
     "output_type": "execute_result"
    }
   ],
   "source": [
    "# Using the len() function to discover the number of items in the list\n",
    "historical_periods = ['Classical Antiquity', 'Early Middle Ages', 'High Middle Ages', 'Late Middle Ages', 'Early Modern Period', 'Late Modern Period', 'Contemporary History']\n",
    "len(historical_periods)"
   ]
  },
  {
   "cell_type": "markdown",
   "metadata": {},
   "source": [
    "The `historical_periods` **list** is 7 items long, meaning the whole **list** is within the **slice** `historical_periods[0:6]`. When we take a **slice** of a **list** we can also leave out the first index number (0 is assumed) or the stopping index number (the last item is assumed)."
   ]
  },
  {
   "cell_type": "code",
   "execution_count": 15,
   "metadata": {},
   "outputs": [
    {
     "data": {
      "text/plain": [
       "['Classical Antiquity', 'Early Middle Ages']"
      ]
     },
     "execution_count": 15,
     "metadata": {},
     "output_type": "execute_result"
    }
   ],
   "source": [
    "# Taking a slice of a list without a beginning index\n",
    "historical_periods = ['Classical Antiquity', 'Early Middle Ages', 'High Middle Ages', 'Late Middle Ages', 'Early Modern Period', 'Late Modern Period', 'Contemporary History']\n",
    "historical_periods[:2]"
   ]
  },
  {
   "cell_type": "code",
   "execution_count": 16,
   "metadata": {},
   "outputs": [
    {
     "data": {
      "text/plain": [
       "['Early Modern Period', 'Late Modern Period', 'Contemporary History']"
      ]
     },
     "execution_count": 16,
     "metadata": {},
     "output_type": "execute_result"
    }
   ],
   "source": [
    "# Taking a slice of a list without a stopping index\n",
    "historical_periods = ['Classical Antiquity', 'Early Middle Ages', 'High Middle Ages', 'Late Middle Ages', 'Early Modern Period', 'Late Modern Period', 'Contemporary History']\n",
    "historical_periods[4:]"
   ]
  },
  {
   "cell_type": "markdown",
   "metadata": {},
   "source": [
    "## The `in` and `not in` Operators\n",
    "\n",
    "If we have a long list, it may be helpful to check whether a value is in the list. We can do this with the `in` and `not in` operators, which returns a **boolean value**: True or False."
   ]
  },
  {
   "cell_type": "code",
   "execution_count": 21,
   "metadata": {},
   "outputs": [
    {
     "data": {
      "text/plain": [
       "True"
      ]
     },
     "execution_count": 21,
     "metadata": {},
     "output_type": "execute_result"
    }
   ],
   "source": [
    "# Checking whether an item is in a list using the `in` operator\n",
    "\n",
    "name_list = ['Tara Richards',\n",
    " 'Tammy French',\n",
    " 'Justin Douglas',\n",
    " 'Lauren Marquez',\n",
    " 'Aaron Wilson',\n",
    " 'Dennis Howell',\n",
    " 'Brandon Reed',\n",
    " 'Kelly Baker',\n",
    " 'Justin Howard',\n",
    " 'Sarah Myers',\n",
    " 'Vanessa Burgess',\n",
    " 'Timothy Davidson',\n",
    " 'Jessica Lee',\n",
    " 'Christopher Miller',\n",
    " 'Lisa Grant',\n",
    " 'Ryan Chan',\n",
    " 'Gary Carson',\n",
    " 'Anthony Mitchell',\n",
    " 'Jacob Turner',\n",
    " 'Jennifer Bonilla',\n",
    " 'Rachel Gonzalez',\n",
    " 'Andrew Clark',\n",
    " 'Richard Pearson',\n",
    " 'Glenn Allen',\n",
    " 'Jacqueline Gallagher',\n",
    " 'Carlos Mcdowell',\n",
    " 'Jeffrey Harris',\n",
    " 'Danielle Griffith',\n",
    " 'Sarah Craig',\n",
    " 'Vernon Vasquez',\n",
    " 'Anthony Burton',\n",
    " 'Erica Bryant',\n",
    " 'Patricia Walker',\n",
    " 'Karen Brown',\n",
    " 'Terri Walker',\n",
    " 'Michelle Knight',\n",
    " 'Kathleen Douglas',\n",
    " 'Debbie Estrada',\n",
    " 'Jennifer Brewer',\n",
    " 'Taylor Rodriguez',\n",
    " 'Lisa Turner',\n",
    " 'Julie Hudson',\n",
    " 'Christina Cox',\n",
    " 'Nancy Patrick',\n",
    " 'Rita Mosley',\n",
    " 'Nicholas Gordon',\n",
    " 'Wanda Vasquez',\n",
    " 'Jason Lopez',\n",
    " 'Anna Powers',\n",
    " 'Tyler Perez']\n",
    "\n",
    "'Patricia Walker' in name_list"
   ]
  },
  {
   "cell_type": "markdown",
   "metadata": {},
   "source": [
    "___\n",
    "<h3 style=\"color:red; display:inline\">Try it! &lt; / &gt; </h3>\n",
    "\n",
    "**Is Rita McDowell in `name_list`? What about Erica Bryant?**\n",
    "___"
   ]
  },
  {
   "cell_type": "markdown",
   "metadata": {},
   "source": [
    "We can change the value of any item in a list using an **assignment statement** that contains the item's index number."
   ]
  },
  {
   "cell_type": "code",
   "execution_count": 17,
   "metadata": {},
   "outputs": [
    {
     "name": "stdout",
     "output_type": "stream",
     "text": [
      "['Classical Antiquity', 'Middle Ages', 'Modern Period']\n"
     ]
    }
   ],
   "source": [
    "# Changing the value of an item in a list\n",
    "historical_periods = ['Classical Antiquity', 'Dark Ages', 'Modern Period']\n",
    "historical_periods[1] = 'Middle Ages'\n",
    "print(historical_periods)\n"
   ]
  },
  {
   "cell_type": "markdown",
   "metadata": {},
   "source": [
    "Now we know how to change an item in a list. And can use the `in` and `not in` operator to determine if an item is in the list. But if we don't know the index number of the item, we won't know which index number to change. We need a way to pass both the name of the list and the name of the item simultaneously to a function. To do that, we'll use a special kind of function called a **method**. "
   ]
  },
  {
   "cell_type": "markdown",
   "metadata": {},
   "source": [
    "# Methods\n",
    "\n",
    "A **method** is a kind of function. (Remember, functions end in parentheses.) Methods, however, act on objects (like lists) so they have a slightly different written form. We will take a look at five useful methods for working with lists.\n",
    "\n",
    "|Method Name | Purpose | Form |\n",
    "|---|---|---|\n",
    "|index()| search for an item in a list and return the index number | list_name.index(item_name)|\n",
    "|append()| add an item to the end of a list | list_name.append(item_name)|\n",
    "|insert()| insert an item in the middle of a list | list_name.insert(index_number, item_name)|\n",
    "|sort()| sort the order of a list | list_name.sort()|\n",
    "\n",
    "## The `index()` Method\n",
    "\n",
    "The `index()` method checks to see if a value is in a list. If the value is found, it returns the index number for the first item with that value. (Keep in mind, there could be multiple items with a single value in a list). If the value is not found, the `index()` method returns a `ValueError`."
   ]
  },
  {
   "cell_type": "code",
   "execution_count": 28,
   "metadata": {},
   "outputs": [
    {
     "data": {
      "text/plain": [
       "19"
      ]
     },
     "execution_count": 28,
     "metadata": {},
     "output_type": "execute_result"
    }
   ],
   "source": [
    "# Using the index() method to return the index number of an item by passing a value\n",
    "name_list = ['Tara Richards',\n",
    " 'Tammy French',\n",
    " 'Justin Douglas',\n",
    " 'Lauren Marquez',\n",
    " 'Aaron Wilson',\n",
    " 'Dennis Howell',\n",
    " 'Brandon Reed',\n",
    " 'Kelly Baker',\n",
    " 'Justin Howard',\n",
    " 'Sarah Myers',\n",
    " 'Vanessa Burgess',\n",
    " 'Timothy Davidson',\n",
    " 'Jessica Lee',\n",
    " 'Christopher Miller',\n",
    " 'Lisa Grant',\n",
    " 'Ryan Chan',\n",
    " 'Gary Carson',\n",
    " 'Anthony Mitchell',\n",
    " 'Jacob Turner',\n",
    " 'Jennifer Bonilla',\n",
    " 'Rachel Gonzalez',\n",
    " 'Andrew Clark',\n",
    " 'Richard Pearson',\n",
    " 'Glenn Allen']\n",
    "\n",
    "name_list.index('Jennifer Bonilla')"
   ]
  },
  {
   "cell_type": "markdown",
   "metadata": {},
   "source": [
    "___\n",
    "<h3 style=\"color:red; display:inline\">Try it! &lt; / &gt; </h3>\n",
    "\n",
    "**What is the index number of Lisa Chan in `name_list`?**\n",
    "___"
   ]
  },
  {
   "cell_type": "markdown",
   "metadata": {},
   "source": [
    "## The `append()` Method\n",
    "\n",
    "The `append()` method adds a value to the end of a list."
   ]
  },
  {
   "cell_type": "markdown",
   "metadata": {},
   "source": [
    "___\n",
    "<h3 style=\"color:red; display:inline\">Try it! &lt; / &gt; </h3>\n",
    "\n",
    "**Can you add your name to `name_list`?**\n",
    "___"
   ]
  },
  {
   "cell_type": "code",
   "execution_count": 31,
   "metadata": {},
   "outputs": [
    {
     "name": "stdout",
     "output_type": "stream",
     "text": [
      "['Tara Richards', 'Tammy French', 'Justin Douglas', 'Lauren Marquez', 'Aaron Wilson', 'Dennis Howell', 'Brandon Reed', 'Kelly Baker', 'Justin Howard', 'Sarah Myers', 'Vanessa Burgess', 'Timothy Davidson', 'Jessica Lee', 'Christopher Miller', 'Lisa Grant', 'Ryan Chan', 'Gary Carson', 'Anthony Mitchell', 'Jacob Turner', 'Jennifer Bonilla', 'Rachel Gonzalez', 'Andrew Clark', 'Richard Pearson', 'Glenn Allen']\n"
     ]
    }
   ],
   "source": [
    "# Using the append() method to add an item to the end of a list\n",
    "name_list = ['Tara Richards',\n",
    " 'Tammy French',\n",
    " 'Justin Douglas',\n",
    " 'Lauren Marquez',\n",
    " 'Aaron Wilson',\n",
    " 'Dennis Howell',\n",
    " 'Brandon Reed',\n",
    " 'Kelly Baker',\n",
    " 'Justin Howard',\n",
    " 'Sarah Myers',\n",
    " 'Vanessa Burgess',\n",
    " 'Timothy Davidson',\n",
    " 'Jessica Lee',\n",
    " 'Christopher Miller',\n",
    " 'Lisa Grant',\n",
    " 'Ryan Chan',\n",
    " 'Gary Carson',\n",
    " 'Anthony Mitchell',\n",
    " 'Jacob Turner',\n",
    " 'Jennifer Bonilla',\n",
    " 'Rachel Gonzalez',\n",
    " 'Andrew Clark',\n",
    " 'Richard Pearson',\n",
    " 'Glenn Allen']\n",
    "# Write your append statement under this comment\n",
    "\n",
    "list(name_list) # Prints name_list in a vertical list format to check that the name was added. The list() function prints is easier to read than the print() function for lists."
   ]
  },
  {
   "cell_type": "markdown",
   "metadata": {},
   "source": [
    "We can also add an item to then end of a list by using an assignment statement."
   ]
  },
  {
   "cell_type": "code",
   "execution_count": 53,
   "metadata": {},
   "outputs": [
    {
     "data": {
      "text/plain": [
       "['Aaron Wilson',\n",
       " 'Andrew Clark',\n",
       " 'Anthony Mitchell',\n",
       " 'Brandon Reed',\n",
       " 'Christopher Miller',\n",
       " 'Dennis Howell',\n",
       " 'Gary Carson',\n",
       " 'Glenn Allen',\n",
       " 'Jacob Turner',\n",
       " 'Jennifer Bonilla',\n",
       " 'Jessica Lee',\n",
       " 'Justin Douglas',\n",
       " 'Justin Howard',\n",
       " 'Kelly Baker',\n",
       " 'Lauren Marquez',\n",
       " 'Lisa Grant',\n",
       " 'Rachel Gonzalez',\n",
       " 'Richard Pearson',\n",
       " 'Ryan Chan',\n",
       " 'Sarah Myers',\n",
       " 'Tammy French',\n",
       " 'Tara Richards',\n",
       " 'Timothy Davidson',\n",
       " 'Vanessa Burgess',\n",
       " 'Einhorn Finkle',\n",
       " 'Einhorn Finkle']"
      ]
     },
     "execution_count": 53,
     "metadata": {},
     "output_type": "execute_result"
    }
   ],
   "source": [
    "# Adding an item to a list using an assignment statement\n",
    "name_list = name_list + ['Einhorn Finkle'] # Concatenate name_list with the list ['Einhorn Finkle']\n",
    "list(name_list)"
   ]
  },
  {
   "cell_type": "markdown",
   "metadata": {},
   "source": [
    "## The `insert()` Method\n",
    "\n",
    "The `insert()` method is similar to `append()` but it takes an argument that lets us choose an index number to insert the new item."
   ]
  },
  {
   "cell_type": "code",
   "execution_count": 54,
   "metadata": {},
   "outputs": [
    {
     "data": {
      "text/plain": [
       "['Tara Richards',\n",
       " 'Tammy French',\n",
       " 'Justin Douglas',\n",
       " 'Lauren Marquez',\n",
       " 'Aaron Wilson',\n",
       " 'Arya Stark',\n",
       " 'Dennis Howell',\n",
       " 'Brandon Reed',\n",
       " 'Kelly Baker',\n",
       " 'Justin Howard',\n",
       " 'Sarah Myers',\n",
       " 'Vanessa Burgess',\n",
       " 'Timothy Davidson',\n",
       " 'Jessica Lee',\n",
       " 'Christopher Miller',\n",
       " 'Lisa Grant',\n",
       " 'Ryan Chan',\n",
       " 'Gary Carson',\n",
       " 'Anthony Mitchell',\n",
       " 'Jacob Turner',\n",
       " 'Jennifer Bonilla',\n",
       " 'Rachel Gonzalez',\n",
       " 'Andrew Clark',\n",
       " 'Richard Pearson',\n",
       " 'Glenn Allen']"
      ]
     },
     "execution_count": 54,
     "metadata": {},
     "output_type": "execute_result"
    }
   ],
   "source": [
    "# Using the insert() method to add an item at a specific index number\n",
    "name_list = ['Tara Richards',\n",
    " 'Tammy French',\n",
    " 'Justin Douglas',\n",
    " 'Lauren Marquez',\n",
    " 'Aaron Wilson',\n",
    " 'Dennis Howell',\n",
    " 'Brandon Reed',\n",
    " 'Kelly Baker',\n",
    " 'Justin Howard',\n",
    " 'Sarah Myers',\n",
    " 'Vanessa Burgess',\n",
    " 'Timothy Davidson',\n",
    " 'Jessica Lee',\n",
    " 'Christopher Miller',\n",
    " 'Lisa Grant',\n",
    " 'Ryan Chan',\n",
    " 'Gary Carson',\n",
    " 'Anthony Mitchell',\n",
    " 'Jacob Turner',\n",
    " 'Jennifer Bonilla',\n",
    " 'Rachel Gonzalez',\n",
    " 'Andrew Clark',\n",
    " 'Richard Pearson',\n",
    " 'Glenn Allen']\n",
    "\n",
    "name_list.insert(5, 'Arya Stark') # Insert the name 'Arya Stark' at index 5 (The sixth name on the list)\n",
    "list(name_list) # Prints name_list to check that the name was added at the right spot"
   ]
  },
  {
   "cell_type": "markdown",
   "metadata": {},
   "source": [
    "___\n",
    "<h3 style=\"color:red; display:inline\">Try it! &lt; / &gt; </h3>\n",
    "\n",
    "**Can you make your name the third item on `name_list`?**\n",
    "___"
   ]
  },
  {
   "cell_type": "markdown",
   "metadata": {},
   "source": [
    "## The `remove()` Method\n",
    "\n",
    "The `remove()` method removes the first item from the list that has a matching value. "
   ]
  },
  {
   "cell_type": "code",
   "execution_count": null,
   "metadata": {},
   "outputs": [],
   "source": [
    "# Using the remove() method to remove the first item with a matching value\n",
    "name_list = ['Tara Richards',\n",
    " 'Tammy French',\n",
    " 'Justin Douglas',\n",
    " 'Lauren Marquez',\n",
    " 'Aaron Wilson',\n",
    " 'Dennis Howell',\n",
    " 'Brandon Reed',\n",
    " 'Kelly Baker',\n",
    " 'Justin Howard',\n",
    " 'Sarah Myers',\n",
    " 'Vanessa Burgess',\n",
    " 'Timothy Davidson',\n",
    " 'Jessica Lee',\n",
    " 'Christopher Miller',\n",
    " 'Lisa Grant',\n",
    " 'Ryan Chan',\n",
    " 'Gary Carson',\n",
    " 'Anthony Mitchell',\n",
    " 'Jacob Turner',\n",
    " 'Jennifer Bonilla',\n",
    " 'Rachel Gonzalez',\n",
    " 'Andrew Clark',\n",
    " 'Richard Pearson',\n",
    " 'Glenn Allen']\n",
    "# Write your remove statement under this comment\n",
    "\n",
    "list(name_list) # Prints name_list to check that the name was removed"
   ]
  },
  {
   "cell_type": "markdown",
   "metadata": {},
   "source": [
    "___\n",
    "<h3 style=\"color:red; display:inline\">Try it! &lt; / &gt; </h3>\n",
    "\n",
    "**Can you remove Glenn Allen from `name_list`?**\n",
    "___"
   ]
  },
  {
   "cell_type": "markdown",
   "metadata": {},
   "source": [
    "If you know the value you wish to remove then the `remove()` method is the best option. If you know the index number of the item, you can use a `del` statement to delete list items."
   ]
  },
  {
   "cell_type": "code",
   "execution_count": 34,
   "metadata": {},
   "outputs": [
    {
     "name": "stdout",
     "output_type": "stream",
     "text": [
      "['Tara Richards', 'Tammy French', 'Justin Douglas', 'Lauren Marquez', 'Aaron Wilson', 'Dennis Howell', 'Brandon Reed', 'Kelly Baker', 'Justin Howard', 'Sarah Myers', 'Vanessa Burgess', 'Timothy Davidson', 'Jessica Lee', 'Christopher Miller', 'Lisa Grant', 'Ryan Chan', 'Gary Carson', 'Anthony Mitchell', 'Jacob Turner', 'Jennifer Bonilla', 'Rachel Gonzalez', 'Andrew Clark', 'Richard Pearson']\n"
     ]
    }
   ],
   "source": [
    "# Using a `del` statement to delete a list item\n",
    "name_list = ['Tara Richards',\n",
    " 'Tammy French',\n",
    " 'Justin Douglas',\n",
    " 'Lauren Marquez',\n",
    " 'Aaron Wilson',\n",
    " 'Dennis Howell',\n",
    " 'Brandon Reed',\n",
    " 'Kelly Baker',\n",
    " 'Justin Howard',\n",
    " 'Sarah Myers',\n",
    " 'Vanessa Burgess',\n",
    " 'Timothy Davidson',\n",
    " 'Jessica Lee',\n",
    " 'Christopher Miller',\n",
    " 'Lisa Grant',\n",
    " 'Ryan Chan',\n",
    " 'Gary Carson',\n",
    " 'Anthony Mitchell',\n",
    " 'Jacob Turner',\n",
    " 'Jennifer Bonilla',\n",
    " 'Rachel Gonzalez',\n",
    " 'Andrew Clark',\n",
    " 'Richard Pearson',\n",
    " 'Glenn Allen']\n",
    "del name_list[-1] # Delete the final item in the list. In this case, 'Glenn Allen'.\n",
    "list(name_list)"
   ]
  },
  {
   "cell_type": "markdown",
   "metadata": {},
   "source": [
    "## The `sort()` Method\n",
    "\n",
    "The `sort()` method sorts a list in alphabetic order, where strings with capital letters are sorted A-Z, then strings with lowercase letters are sorted A-Z."
   ]
  },
  {
   "cell_type": "code",
   "execution_count": 35,
   "metadata": {},
   "outputs": [
    {
     "name": "stdout",
     "output_type": "stream",
     "text": [
      "['Aaron Wilson', 'Andrew Clark', 'Anthony Mitchell', 'Brandon Reed', 'Christopher Miller', 'Dennis Howell', 'Gary Carson', 'Glenn Allen', 'Jacob Turner', 'Jennifer Bonilla', 'Jessica Lee', 'Justin Douglas', 'Justin Howard', 'Kelly Baker', 'Lauren Marquez', 'Lisa Grant', 'Rachel Gonzalez', 'Richard Pearson', 'Ryan Chan', 'Sarah Myers', 'Tammy French', 'Tara Richards', 'Timothy Davidson', 'Vanessa Burgess']\n"
     ]
    }
   ],
   "source": [
    "# Using the `sort()` method to sort a list in alpha-numeric order\n",
    "name_list = ['Tara Richards',\n",
    " 'Tammy French',\n",
    " 'Justin Douglas',\n",
    " 'Lauren Marquez',\n",
    " 'Aaron Wilson',\n",
    " 'Dennis Howell',\n",
    " 'Brandon Reed',\n",
    " 'Kelly Baker',\n",
    " 'Justin Howard',\n",
    " 'Sarah Myers',\n",
    " 'Vanessa Burgess',\n",
    " 'Timothy Davidson',\n",
    " 'Jessica Lee',\n",
    " 'Christopher Miller',\n",
    " 'Lisa Grant',\n",
    " 'Ryan Chan',\n",
    " 'Gary Carson',\n",
    " 'Anthony Mitchell',\n",
    " 'Jacob Turner',\n",
    " 'Jennifer Bonilla',\n",
    " 'Rachel Gonzalez',\n",
    " 'Andrew Clark',\n",
    " 'Richard Pearson',\n",
    " 'Glenn Allen']\n",
    "name_list.sort()\n",
    "list(name_list)"
   ]
  },
  {
   "cell_type": "markdown",
   "metadata": {},
   "source": [
    "___\n",
    "<h3 style=\"color:red; display:inline\">Try it! &lt; / &gt; </h3>\n",
    "\n",
    "**The `sort()` method can take the argument `reverse=True`. Try applying it to the `sort()` method above. What does it do?**\n",
    "___"
   ]
  },
  {
   "cell_type": "markdown",
   "metadata": {},
   "source": [
    "___\n",
    "<h2 style=\"color:red; display:inline\">Coding Challenge! &lt; / &gt; </h2>\n",
    "\n",
    "**Using your knowledge of flow control statements and lists, can you write a program that transforms a list of strings into a single string of comma-separated values?**\n",
    "___"
   ]
  },
  {
   "cell_type": "code",
   "execution_count": 38,
   "metadata": {},
   "outputs": [],
   "source": [
    "# A challenge to transform a list of books into a single string of comma-separated values\n",
    "# The result should be the string: 'Piers Plowman, The Canterbury Tales, Revelations of Divine Love, The Decameron, Le Morte d'Arthur'\n",
    "book_list = ['Piers Plowman', 'The Canterbury Tales', 'Revelations of Divine Love' 'The Decameron', \"Le Morte d'Arthur\"]\n",
    "\n",
    "\n",
    "## For even more challenge, transform a list of lists containing books and authors into a single string of comma-separated values with an 'and' before the final value. Oxford comma please.\n",
    "# The result should be the string: 'Piers Plowman by William Langland, The Canterbury Tales by Geoffrey Chaucer, Revelations of Divine Love by Julian of Norwich, The Decameron by Giovanni Boccaccio, and Le Morte d'Arthur by Sir Thomas Malory'\n",
    "\n",
    "books_with_authors = [['Piers Plowman', 'William Langland'], ['The Canterbury Tales', 'Geoffrey Chaucer'], ['Revelations of Divine Love', 'Julian of Norwich'], ['The Decameron', 'Giovanni Boccaccio'], [\"Le Morte d'Arthur\", 'Sir Thomas Malory']]\n",
    "\n"
   ]
  },
  {
   "cell_type": "markdown",
   "metadata": {},
   "source": [
    "# Dictionaries\n",
    "\n",
    "Like a **list**, a **dictionary** can hold many values within a single variable. We have seen that the items of a list are stored in a strictly-ordered fashion, starting from item 0. In a **dictionary**, each **value** is stored in relation to a descriptive **key** forming a **key/value** pair. Technically, as of Python 3.7 (June 2018), dictionaries are also ordered by insertion. In practice, however, the most useful aspect of a dictionary is the ability to supply a **key** and receive a **value** without reference to indices. Whereas a **list** is typed with brackets `[]`, a **dictionary** is typed with braces `{}`. The key and/or value can be an integer, float, or string.\n",
    "\n",
    "`example_dictionary = {key1 : value1, key2 : value2, key3 : value3}`\n",
    "\n",
    "We could imagine, for example, a dictionary with our professional contacts' names as **keys** and their occupations as **values**."
   ]
  },
  {
   "cell_type": "code",
   "execution_count": 66,
   "metadata": {},
   "outputs": [
    {
     "name": "stdout",
     "output_type": "stream",
     "text": [
      "{'Amanda Bennett': 'Engineer, electrical',\n",
      " 'Bryan Miller': 'Radiation protection practitioner',\n",
      " 'Christopher Garrison': 'Planning and development surveyor',\n",
      " 'Debra Allen': 'Intelligence analyst',\n",
      " 'Donna Decker': 'Architect',\n",
      " 'Heather Bullock': 'Media planner',\n",
      " 'Jason Brown': 'Energy manager',\n",
      " 'Jason Soto': 'Lighting technician, broadcasting/film/video',\n",
      " 'Marissa Munoz': 'Further education lecturer',\n",
      " 'Matthew Mccall': 'Chief Technology Officer',\n",
      " 'Michael Norman': 'Translator',\n",
      " 'Nicole Leblanc': 'Financial controller',\n",
      " 'Noah Delgado': 'Engineer, land',\n",
      " 'Rachel Charles': 'Physicist, medical',\n",
      " 'Stephanie Petty': 'Architect'}\n"
     ]
    }
   ],
   "source": [
    "# An example of a dictionary storing names and occupations\n",
    "contacts ={\n",
    " 'Amanda Bennett': 'Engineer, electrical',\n",
    " 'Bryan Miller': 'Radiation protection practitioner',\n",
    " 'Christopher Garrison': 'Planning and development surveyor',\n",
    " 'Debra Allen': 'Intelligence analyst',\n",
    " 'Donna Decker': 'Architect',\n",
    " 'Heather Bullock': 'Media planner',\n",
    " 'Jason Brown': 'Energy manager',\n",
    " 'Jason Soto': 'Lighting technician, broadcasting/film/video',\n",
    " 'Marissa Munoz': 'Further education lecturer',\n",
    " 'Matthew Mccall': 'Chief Technology Officer',\n",
    " 'Michael Norman': 'Translator',\n",
    " 'Nicole Leblanc': 'Financial controller',\n",
    " 'Noah Delgado': 'Engineer, land',\n",
    " 'Rachel Charles': 'Physicist, medical',\n",
    " 'Stephanie Petty': 'Architect'}\n",
    "\n",
    "from pprint import pprint # Importing the pretty print function that prints a dictionary in a nice, readable format\n",
    "pprint(contacts) # Use the pretty print function to print `address_dictionary`"
   ]
  },
  {
   "cell_type": "markdown",
   "metadata": {},
   "source": [
    "We can add a new **key/value pair** to our dictionary using an assignment statement."
   ]
  },
  {
   "cell_type": "code",
   "execution_count": 69,
   "metadata": {},
   "outputs": [
    {
     "name": "stdout",
     "output_type": "stream",
     "text": [
      "{'Amanda Bennett': 'Engineer, electrical',\n",
      " 'Bryan Miller': 'Radiation protection practitioner',\n",
      " 'Christopher Garrison': 'Planning and development surveyor',\n",
      " 'Debra Allen': 'Intelligence analyst',\n",
      " 'Donna Decker': 'Architect',\n",
      " 'Heather Bullock': 'Media planner',\n",
      " 'Jason Brown': 'Energy manager',\n",
      " 'Jason Soto': 'Lighting technician, broadcasting/film/video',\n",
      " 'Marissa Munoz': 'Further education lecturer',\n",
      " 'Matthew Mccall': 'Chief Technology Officer',\n",
      " 'Michael Norman': 'Translator',\n",
      " 'Nathan Kelber': 'Digital Humanities Fellow',\n",
      " 'Nicole Leblanc': 'Financial controller',\n",
      " 'Noah Delgado': 'Engineer, land',\n",
      " 'Rachel Charles': 'Physicist, medical',\n",
      " 'Stephanie Petty': 'Architect'}\n"
     ]
    }
   ],
   "source": [
    "# Adding the key 'Nathan Kelber' with the value 'Digital Humanities Fellow' to the dictionary contact\n",
    "contacts['Nathan Kelber'] = 'Digital Humanities Fellow'\n",
    "pprint(contacts)"
   ]
  },
  {
   "cell_type": "markdown",
   "metadata": {},
   "source": [
    "## Methods\n",
    "\n",
    "We can also add a contact by using the `update()` method which accepts one or more key/value pairs."
   ]
  },
  {
   "cell_type": "code",
   "execution_count": 70,
   "metadata": {},
   "outputs": [
    {
     "name": "stdout",
     "output_type": "stream",
     "text": [
      "{'Amanda Bennett': 'Engineer, electrical',\n",
      " 'Bryan Miller': 'Radiation protection practitioner',\n",
      " 'Christopher Garrison': 'Planning and development surveyor',\n",
      " 'Debra Allen': 'Intelligence analyst',\n",
      " 'Donna Decker': 'Architect',\n",
      " 'Heather Bullock': 'Media planner',\n",
      " 'Jason Brown': 'Energy manager',\n",
      " 'Jason Soto': 'Lighting technician, broadcasting/film/video',\n",
      " 'Marissa Munoz': 'Further education lecturer',\n",
      " 'Matthew Kirschenbaum': 'Professor',\n",
      " 'Matthew Mccall': 'Chief Technology Officer',\n",
      " 'Michael Norman': 'Translator',\n",
      " 'Nathan Kelber': 'Digital Humanities Fellow',\n",
      " 'Nicole Leblanc': 'Financial controller',\n",
      " 'Noah Delgado': 'Engineer, land',\n",
      " 'Rachel Charles': 'Physicist, medical',\n",
      " 'Sarah Morris': 'Librarian',\n",
      " 'Stephanie Petty': 'Architect'}\n"
     ]
    }
   ],
   "source": [
    "# Adding several key/value pairs to the dictionary contacts using the update() method\n",
    "contacts.update([('Matthew Kirschenbaum', 'Professor'), ('Sarah Morris', 'Librarian')])\n",
    "pprint(contacts)"
   ]
  },
  {
   "cell_type": "code",
   "execution_count": null,
   "metadata": {},
   "outputs": [],
   "source": []
  },
  {
   "cell_type": "code",
   "execution_count": null,
   "metadata": {},
   "outputs": [],
   "source": []
  },
  {
   "cell_type": "code",
   "execution_count": null,
   "metadata": {},
   "outputs": [],
   "source": []
  },
  {
   "cell_type": "markdown",
   "metadata": {},
   "source": [
    "___\n",
    "# Start Next Lesson: [Exploring Metadata](./1-metadata.ipynb)"
   ]
  },
  {
   "cell_type": "code",
   "execution_count": null,
   "metadata": {},
   "outputs": [],
   "source": []
  }
 ],
 "metadata": {
  "kernelspec": {
   "display_name": "Python 3",
   "language": "python",
   "name": "python3"
  },
  "language_info": {
   "codemirror_mode": {
    "name": "ipython",
    "version": 3
   },
   "file_extension": ".py",
   "mimetype": "text/x-python",
   "name": "python",
   "nbconvert_exporter": "python",
   "pygments_lexer": "ipython3",
   "version": "3.7.3"
  }
 },
 "nbformat": 4,
 "nbformat_minor": 4
}
