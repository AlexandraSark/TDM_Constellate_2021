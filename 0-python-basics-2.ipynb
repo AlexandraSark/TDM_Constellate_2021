{
 "cells": [
  {
   "cell_type": "markdown",
   "metadata": {},
   "source": [
    "By [Nathan Kelber](http://nkelber.com)<br />\n",
    "For questions/comments/improvements, email nathan.kelber@ithaka.org.\n",
    "____\n",
    "\n",
    "**Description:** This is Python programming for absolute beginners and forms the second part of a 3-part series in *Python Basics* that will prepare you to do text analysis using the Python programming language. This notebook describes....\n",
    "\n",
    "\n",
    "\n",
    "* [Python Basics I](#placeholder)\n",
    "* Python Basics II- This notebook\n",
    "* [Python Basics III](#placeholder)\n",
    "\n",
    "___"
   ]
  },
  {
   "cell_type": "markdown",
   "metadata": {},
   "source": [
    "# Python Basics II\n"
   ]
  }
 ],
 "metadata": {
  "kernelspec": {
   "display_name": "Python 3",
   "language": "python",
   "name": "python3"
  },
  "language_info": {
   "codemirror_mode": {
    "name": "ipython",
    "version": 3
   },
   "file_extension": ".py",
   "mimetype": "text/x-python",
   "name": "python",
   "nbconvert_exporter": "python",
   "pygments_lexer": "ipython3",
   "version": "3.7.3"
  }
 },
 "nbformat": 4,
 "nbformat_minor": 4
}
