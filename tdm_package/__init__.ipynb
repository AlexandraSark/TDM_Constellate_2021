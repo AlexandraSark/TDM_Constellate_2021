#!/usr/bin/env python3
# -*- coding: utf-8 -*-
"""
Created on Wed Jul 29 11:32:00 2020

@author: nkelber
"""

from tdm_client import tdm_client