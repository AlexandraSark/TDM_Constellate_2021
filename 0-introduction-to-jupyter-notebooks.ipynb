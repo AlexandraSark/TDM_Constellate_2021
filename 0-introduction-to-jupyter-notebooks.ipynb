{
 "cells": [
  {
   "cell_type": "markdown",
   "metadata": {},
   "source": [
    "By [Nathan Kelber](http://nkelber.com)<br />\n",
    "For questions/comments/improvements, email nathan.kelber@ithaka.org.\n",
    "____\n",
    "\n",
    "![The JSTOR and Portico Logos](https://ithaka-labs.s3.amazonaws.com/static-files/images/tdm/tdmdocs/JSTORandPorticoLogo.png)\n",
    "\n",
    "**Description:** This notebook introduces Jupyter notebooks and Python for absolute beginners. If you are completely new to text mining, this is the place to start. \n",
    "\n",
    "\n",
    "# Jupyter Notebooks for Beginners\n",
    "\n",
    "Welcome to your first Jupyter notebook. Jupyter notebooks are documents that contain both computer code (like Python) alongside explanatory images, figures, videos, and links. Most importantly, the code in a Jupyter notebook can be executed, modified, and deleted. As you explore this notebook, please feel free to modify the text, the code, and to generally play around with the environment. You can always [launch another instance of this notebook](#placeholder) that will restore its original configuration. Later, we will learn how to create and save your own notebooks to share with others."
   ]
  },
  {
   "cell_type": "markdown",
   "metadata": {},
   "source": [
    "## Cells\n",
    "\n",
    "Similar to the way an essay is composed of paragraphs, Jupyter notebooks are composed of cells. A cell is like a container for a particular kind of content. There are essentially two kinds of content in Jupyter notebooks:\n",
    "\n",
    "1. Markdown Cells- These can contain text, images, video, and other kinds of explanatory content you might find on a regular website. This cell is a markdown cell.\n",
    "2. Code Cells- These can contain code written in a variety of languages.\n",
    "\n",
    "A code cell can be distinguished from a markdown cell by the fact that it contains a pair of brackets with a colon to its left, like so ``[ ]:``"
   ]
  },
  {
   "cell_type": "code",
   "execution_count": null,
   "metadata": {},
   "outputs": [],
   "source": [
    "# This is a code cell "
   ]
  },
  {
   "cell_type": "markdown",
   "metadata": {},
   "source": [
    "A markdown cell provides information, but a code cell can be executed to perform an action. The code cell above does not contain any executable content, only a text comment. We can tell the text in the code cell is a comment because it is prefixed by a ``#``. In Python, any time a line is prefaced by a ``#`` that line is a comment and will not be executed if the code is run. In a code cell, comments are also blueish-green in color."
   ]
  },
  {
   "cell_type": "markdown",
   "metadata": {},
   "source": [
    "## Hello World: Your First Code\n",
    "\n",
    "It is traditional in programming education to begin with a program that prints ``Hello World``. In Python, this is a simple task. We will use the ``print()`` function. This function simply prints out whatever is inside the parentheses (). We will pass the quotation \"Hello World\" to the print function like so:\n",
    "\n",
    "```print(\"Hello World\")```\n",
    "\n",
    "Write this code into the following code cell below. To execute our code, we have a couple options:\n",
    "\n",
    "#### Option One\n",
    "\n",
    "![Image of play button](https://ithaka-labs.s3.amazonaws.com/static-files/images/tdm/tdmdocs/jupyter_navigation.png) Click the code cell you wish to run and then push the triangle-shaped \"play\" button above. \n",
    "#### Option Two\n",
    "\n",
    "Click the code cell you wish to run and press Ctrl + Enter (Windows) or shift + return (OS X) on your keyboard.\n",
    "\n",
    "You should receive the response "
   ]
  },
  {
   "cell_type": "code",
   "execution_count": 1,
   "metadata": {},
   "outputs": [
    {
     "name": "stdout",
     "output_type": "stream",
     "text": [
      "Hello World\n"
     ]
    }
   ],
   "source": [
    "print(\"Hello World\")"
   ]
  },
  {
   "cell_type": "markdown",
   "metadata": {},
   "source": [
    "### Try this!\n",
    "* Does it matter if you use single or double quotes?\n",
    "* Can you also insert a comment into the code cell?\n",
    "* Can you write code and a comment on a single line? Which must come first?"
   ]
  },
  {
   "cell_type": "markdown",
   "metadata": {},
   "source": [
    "After your code runs, you'll receive any output and a number will appear in the pair of brackets `[ ]:` to the left of the code cell to show the order the cell was run. If your code is complicated or takes some time to execute, an asterisk * will be displayed in the pair of brackets `[*]:` while the code executes. \n",
    "\n",
    "Execute the code cell below which:\n",
    "\n",
    "1. Prints \"Waiting 5 seconds...\"\n",
    "2. Waits 5 seconds\n",
    "3. Prints \"Done\"\n",
    "\n",
    "As the program is running, watch the pair of brackets and you will see the code is running `[*]:`."
   ]
  },
  {
   "cell_type": "code",
   "execution_count": 6,
   "metadata": {},
   "outputs": [
    {
     "name": "stdout",
     "output_type": "stream",
     "text": [
      "Waiting 5 seconds...\n",
      "Done\n"
     ]
    }
   ],
   "source": [
    "print('Waiting 5 seconds...')\n",
    "import time\n",
    "time.sleep(5)\n",
    "print('Done')\n"
   ]
  },
  {
   "cell_type": "markdown",
   "metadata": {},
   "source": [
    "If you missed the asterisk, you can run the code cell as many times as you like. Notice that each time you run a code cell the number increases in the pair of brackets `[ ]:`. This keeps track of the order cells were run. While we will always run code in order from top to bottom, keep in mind that code cells can be run in any order. If you run a code cell at the bottom of a notebook that depends on the output of a code cell at the top, you will probably get an error. When you get an error, it's a good idea to check if you missed a code cell earlier that needed to be run first."
   ]
  },
  {
   "cell_type": "markdown",
   "metadata": {},
   "source": [
    "## Creating a Cell\n"
   ]
  },
  {
   "cell_type": "markdown",
   "metadata": {},
   "source": [
    "![The + symbol to create a new cell](https://ithaka-labs.s3.amazonaws.com/static-files/images/tdm/tdmdocs/create_new_cell.png)To create a new cell, click the + at the top of the menu. A new cell will be created immediately underneath the currently sl"
   ]
  },
  {
   "cell_type": "markdown",
   "metadata": {},
   "source": [
    "By default, a code cell is created. To change the cell type, click on the dropdown menu.\n",
    "![Change cell type menu](https://ithaka-labs.s3.amazonaws.com/static-files/images/tdm/tdmdocs/change_celltype.gif)"
   ]
  },
  {
   "cell_type": "markdown",
   "metadata": {},
   "source": [
    "## Deleting a Cell\n",
    "\n",
    "![right clicking to delete cell](https://ithaka-labs.s3.amazonaws.com/static-files/images/tdm/tdmdocs/delete_cell.gif)\n",
    "\n",
    "\n",
    "To delete a cell, select the cell (or set of cells) and right-click (ctrl-click on OS X) and select **Delete Cells**\n"
   ]
  },
  {
   "cell_type": "markdown",
   "metadata": {},
   "source": [
    "## Modifying a Cell\n",
    "\n",
    "The text in code cells can be quickly changed like a regular textbox. In order to change the content of a markdown cell, you need to expose the markdown content underneath by double-clicking the cell. This will reveal the plain text of the markdown that creates various elements like headings, links, images, etc. When you want the cell to render again, you can simply run it again by pushing the play button or pressing Ctrl + Enter (Windows) or shift + return (OS X) on your keyboard."
   ]
  },
  {
   "cell_type": "markdown",
   "metadata": {},
   "source": [
    "# What is Markdown?\n",
    "\n",
    "If you are familiar with HTML, markdown is a simplified way to write HTML elements. Basically it allows you to mark out where headings, italics, bold, and other kinds of basic formatting go. In terms of styling, markdown is very minimalist. If you would like to include an element that is not included in markdown in your notebook, you can also use HTML and CSS in your markdown cells."
   ]
  },
  {
   "cell_type": "markdown",
   "metadata": {},
   "source": [
    "# How do I write my own Markdown?\n",
    "Here are some basic examples to get you started. Double-click on this cell to see how each was made. There are many markdown cheatsheets available on the web. It can be useful to [print one out](https://guides.github.com/pdfs/markdown-cheatsheet-online.pdf) and keep it handy.\n",
    "\n",
    "## Headers\n",
    "\n",
    "# Header Size 1\n",
    "## Header Size 2\n",
    "### Header Size 3\n",
    "#### Header Size 4\n",
    "\n",
    "## Emphasis\n",
    "\n",
    "*Use asterisks around texts to add emphasis, also known as italics*\n",
    "_You can also use underscores_\n",
    "~~A strike-thru effect is created with two tildes~~ ~~\n",
    "\n",
    "## Lists\n",
    "\n",
    "A list of ordered items:\n",
    "1. List item 1\n",
    "2. List item 2\n",
    "\n",
    "Unordered items:\n",
    "* List item\n",
    "* Also a list item\n",
    "\n",
    "+ A list item\n",
    "+ Another list item\n",
    "\n",
    "- Also an item\n",
    "- The last item\n",
    "\n",
    "## Links\n",
    "\n",
    "This is a link to [JSTOR](http://jstor.org). \n",
    "\n",
    "## Images\n",
    "\n",
    "![Description of the image for accessibility(a jstor logo)](https://ithaka-labs.s3.amazonaws.com/static-files/images/tdm/tdmdocs/logoJSTOR.png)\n",
    "\n",
    "## Horizontal Rule\n",
    "\n",
    "Create a horizontal rule with three hyphens, asterisks, or underscores.\n",
    "____"
   ]
  },
  {
   "cell_type": "code",
   "execution_count": null,
   "metadata": {},
   "outputs": [],
   "source": []
  }
 ],
 "metadata": {
  "kernelspec": {
   "display_name": "Python 3",
   "language": "python",
   "name": "python3"
  },
  "language_info": {
   "codemirror_mode": {
    "name": "ipython",
    "version": 3
   },
   "file_extension": ".py",
   "mimetype": "text/x-python",
   "name": "python",
   "nbconvert_exporter": "python",
   "pygments_lexer": "ipython3",
   "version": "3.7.3"
  }
 },
 "nbformat": 4,
 "nbformat_minor": 4
}
