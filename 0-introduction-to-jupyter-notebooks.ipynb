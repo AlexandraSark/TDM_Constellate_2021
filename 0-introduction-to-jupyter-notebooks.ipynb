{
 "cells": [
  {
   "cell_type": "markdown",
   "metadata": {},
   "source": [
    "![The JSTOR and Portico Logos](https://ithaka-labs.s3.amazonaws.com/static-files/images/tdm/tdmdocs/JSTORandPorticoLogo.png)\n",
    "\n",
    "**Description:** This notebook introduces Jupyter notebooks and Python for absolute beginners. If you are completely new to text mining, this is the place to start. \n",
    "\n",
    "\n",
    "# Jupyter Notebooks for Beginners\n",
    "\n",
    "Welcome to your first Jupyter notebook. Jupyter notebooks are documents that contain both computer code (like Python) alongside images, figures, and links. Most importantly, the code in a Jupyter notebook can be executed, modified, and deleted. As you explore this notebook, please feel free to modify the text, the code, and to generally play around with the environment. You can always [launch another instance of this notebook](#placeholder) that will restore its original configuration. Later, we will learn how to create and save your own notebooks to share with others."
   ]
  },
  {
   "cell_type": "markdown",
   "metadata": {},
   "source": [
    "## Cells\n",
    "\n",
    "Jupyter notebooks are composed of cells. A cell is like a container for content. There are essentially two kinds of content cells in Jupyter notebooks:\n",
    "\n",
    "1. Markdown Cells- These can contain text, images, video, and other kinds of explanatory content for viewing. This cell is a markdown cell.\n",
    "2. Code Cells- These can contain code written in a variety of languages.\n",
    "\n",
    "A code cell can be distinguished from a markdown cell by the fact that it contains a pair of brackets with a colon to its left, like so ``[ ]:``"
   ]
  },
  {
   "cell_type": "code",
   "execution_count": null,
   "metadata": {},
   "outputs": [],
   "source": [
    "# This is a code cell "
   ]
  },
  {
   "cell_type": "markdown",
   "metadata": {},
   "source": [
    "A markdown cell gives information, but a code cell can be executed to perform an action. The code cell above does not contain any executable content, only a text comment. We can tell it is a comment because it is prefixed by a ``#``. In Python, any time a line is prefaced by a ``#`` that line is a comment and will not be executed if the code is run. In a code cell, comments are a blueish-green color."
   ]
  },
  {
   "cell_type": "markdown",
   "metadata": {},
   "source": [
    "## Hello World: Your First Code\n",
    "\n",
    "It is traditional in programming education to begin with a program that prints ``Hello World``. In Python, this is a simple task. We will use the ``print()`` function. This function simply prints out whatever is inside the parentheses (). We will pass the quotation \"Hello World\" to the print function like so:\n",
    "\n",
    "```print(\"Hello World\")```\n",
    "\n",
    "Write this code into the following code cell below. To execute our code, we have a couple options:\n",
    "\n",
    "1. Click the code cell to run and push the triangle-shaped \"play\" button ![Image of play button](https://ithaka-labs.s3.amazonaws.com/static-files/images/tdm/tdmdocs/jupyter_navigation.png)\n",
    "2. Click the code cell to run and press Ctrl + Enter (Windows) or shift + return (OS X) on your keyboard"
   ]
  },
  {
   "cell_type": "code",
   "execution_count": null,
   "metadata": {},
   "outputs": [],
   "source": []
  },
  {
   "cell_type": "markdown",
   "metadata": {},
   "source": [
    "*Try manipulating the code in the code cell*\n",
    "* Does it matter if you use single or double quotes?\n",
    "* Can you insert a comment and run the code?\n",
    "* Can you write code and a comment on a single line? Which must come first?"
   ]
  },
  {
   "cell_type": "markdown",
   "metadata": {},
   "source": [
    "After your code runs, you'll receive an output and a number will appear in the pair of brackets ```[ ]:``` to the left of the code cell to show the cell has been run. If your code is complicated or takes some time to execute, an asterisk * will be displayed in the pair of brackets `[*]:` while the code executes. Execute the code below which:\n",
    "\n",
    "1. Prints \"Waiting 5 seconds...\"\n",
    "2. Waits 5 seconds\n",
    "3. Prints \"Done\"\n",
    "\n",
    "As the program is running, watch the pair of brackets and you will see the code is running `[*]:`. "
   ]
  },
  {
   "cell_type": "code",
   "execution_count": 6,
   "metadata": {},
   "outputs": [
    {
     "name": "stdout",
     "output_type": "stream",
     "text": [
      "Waiting 5 seconds...\n",
      "Done\n"
     ]
    }
   ],
   "source": [
    "print('Waiting 5 seconds...')\n",
    "import time\n",
    "time.sleep(5)\n",
    "print('Done')\n"
   ]
  },
  {
   "cell_type": "markdown",
   "metadata": {},
   "source": [
    "## Creating, Modifying, and Deleting Cells\n",
    "\n"
   ]
  },
  {
   "cell_type": "markdown",
   "metadata": {},
   "source": []
  }
 ],
 "metadata": {
  "kernelspec": {
   "display_name": "Python 3",
   "language": "python",
   "name": "python3"
  },
  "language_info": {
   "codemirror_mode": {
    "name": "ipython",
    "version": 3
   },
   "file_extension": ".py",
   "mimetype": "text/x-python",
   "name": "python",
   "nbconvert_exporter": "python",
   "pygments_lexer": "ipython3",
   "version": "3.7.3"
  }
 },
 "nbformat": 4,
 "nbformat_minor": 4
}
