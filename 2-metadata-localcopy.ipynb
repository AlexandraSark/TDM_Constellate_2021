{
 "cells": [
  {
   "cell_type": "markdown",
   "metadata": {
    "colab_type": "text",
    "id": "IZtnwJbt6oJT"
   },
   "source": [
    "By <a href=\"https://nkelber.com\">Nathan Kelber</a> and Ted Lawless <br />\n",
    "For questions/comments/improvements, email nathan.kelber@ithaka.org.\n",
    "____\n",
    "\n",
    "## Explore the metadata for a JSTOR and/or Portico dataset\n",
    "\n",
    "**Difficulty:** Beginner\n",
    "\n",
    "**Programming Knowledge Required:** \n",
    "This notebook can be run on a JSTOR/Portico [non-consumptive](./key-terms.ipynb#non-consumptive) [JSON Lines (.jsonl)](./key-terms.ipynb#jsonl) [dataset](./key-terms.ipynb#dataset) with little to no knowledge of [Python](./key-terms.ipynb#python). To have a full understanding of the code used in this [notebook](./key-terms.ipynb#jupyter-notebook), we recommend learning:\n",
    "* [Python Basics](https://automatetheboringstuff.com/2e/chapter1/)\n",
    "* [Flow Control](https://automatetheboringstuff.com/2e/chapter2/)\n",
    "* [Functions](https://automatetheboringstuff.com/2e/chapter3/)\n",
    "* [Lists](https://automatetheboringstuff.com/2e/chapter4/)\n",
    "* [Dictionaries](https://automatetheboringstuff.com/2e/chapter5/)\n",
    "\n",
    "A familiarity with [Pandas](./key-terms.ipynb#pandas) is helpful but not required.\n",
    "\n",
    "**Completion time:** 20 minutes\n",
    "\n",
    "**Data Format:** [JSTOR](./key-terms.ipynb#jstor) and/or [Portico](./key-terms.ipynb#portico) [non-consumptive](./key-terms.ipynb#non-consumptive) [JSON Lines (.jsonl)](./key-terms.ipynb#jsonl)\n",
    "\n",
    "**Libraries Used:**\n",
    "* [json](./key-terms.ipynb#json-python-library) to convert our dataset from json lines format to a Python list\n",
    "* [Pandas](./key-terms.ipynb#pandas) to help visualize the metadata\n",
    "\n",
    "**Description of methods in this notebook:**\n",
    "This [notebook](./key-terms.ipynb#jupyter-notebook) shows how to explore the [metadata](./key-terms.ipynb#metadata) of your [JSTOR](./key-terms.ipynb#jstor) and/or [Portico](./key-terms.ipynb#portico) [dataset](./key-terms.ipynb#dataset) using [Python](./key-terms.ipynb#python). The following processes are described:\n",
    "\n",
    "* Converting your [JSTOR](./key-terms.ipynb#jstor) and/or [Portico](./key-terms.ipynb#portico) [dataset](./key-terms.ipynb#dataset) into a Python list\n",
    "* Using the `.get` method to retrieve bibliographic metadata\n",
    "* Checking to see if items are in your [dataset](./key-terms.ipynb#dataset)\n",
    "* Visualizing the contents of your [dataset](./key-terms.ipynb#dataset) as a table and graph with [Pandas](./key-terms.ipynb#pandas)\n",
    "____"
   ]
  },
  {
   "cell_type": "markdown",
   "metadata": {},
   "source": [
    "# Importing your dataset\n",
    "\n",
    "You have two options for bringing your dataset into the local environment:\n",
    "\n",
    "1. Manually download and upload your dataset\n",
    "2. Use a dataset id to automatically upload a dataset\n",
    "\n",
    "## Option one: Manually download and upload your dataset\n",
    "\n",
    "You can download your dataset from the corpus builder in the link shown below. (You may also have a link to your dataset in your email.) If you wish, you can modify your dataset on your local machine before the next upload phase. This gives you some more flexibility than Option Two that automatically pulls in your dataset without modification.\n",
    "\n",
    "![The link for downloading your dataset](https://ithaka-labs.s3.amazonaws.com/static-files/images/tdm/tdmdocs/downloadDataset.png)\n",
    "\n",
    "Once you have your dataset ready on your local machine, you can then upload your dataset into JupyterLab by clicking the upload button in the file pane on the left.\n",
    "\n",
    "![The upload button in the file pane](https://ithaka-labs.s3.amazonaws.com/static-files/images/tdm/tdmdocs/uploadDataset.png)\n",
    "\n",
    "Make sure to upload your dataset to the \"tdm-data\" folder. \n",
    "\n",
    "## Option Two: Use a Dataset ID to automatically upload a dataset\n",
    "\n",
    "You'll use the tdm_client library to automatically upload your dataset. We import the `Dataset` module from the `tdm_client` library. The tdm_client library contains functions for connecting to the JSTOR server containing our [corpus](./key-terms.ipynb#corpus) [dataset](./key-terms.ipynb#dataset). To analyze your dataset, use the [dataset ID](./key-terms.ipynb/#dataset-ID) provided when you created your [dataset](./key-terms.ipynb/#dataset). A copy of your [dataset ID](./key-terms.ipynb/#dataset-ID) was sent to your email when you created your [corpus](./key-terms.ipynb#corpus). It should look like a long series of characters surrounded by dashes. "
   ]
  },
  {
   "cell_type": "code",
   "execution_count": 26,
   "metadata": {},
   "outputs": [
    {
     "data": {
      "text/plain": [
       "'datasets/shakespeareQuarterly.jsonl'"
      ]
     },
     "execution_count": 26,
     "metadata": {},
     "output_type": "execute_result"
    }
   ],
   "source": [
    "#Importing your dataset with a dataset ID\n",
    "import tdm_client\n",
    "tdm_client.get_dataset(\"7dc7f92d-1687-9452-84fa-25c22e7ea2c3\", \"shakespeareQuarterly\")\n"
   ]
  },
  {
   "cell_type": "markdown",
   "metadata": {},
   "source": [
    "Before we can begin working with our [dataset](./key-terms.ipynb#dataset), we need to convert the [JSON lines](./key-terms.ipynb#jsonl) file format into [Python](./key-terms.ipynb#python) so we can work with it. Remember that each line of our [JSON lines](./key-terms.ipynb#jsonl) file represents a single text, whether that is a journal article, book, or something else. We will create a [Python](./key-terms.ipynb#python) list that contains every document. Within each list item for each document, we will use a [Python dictionary](./key-terms.ipynb#python-dictionary) of [key/value pairs](./key-terms.ipynb#key-value-pair) to store information related to that document. \n",
    "\n",
    "Essentially we will have a [list](./key-terms.ipynb#python-list) of documents numbered, from zero to the last document. Each [list](./key-terms.ipynb#python-list) item then will be composed of a [dictionary](./key-terms.ipynb#python-dictionary) of [key/value pairs](./key-terms.ipynb#key-value-pair) that allows us to retrieve information from that particular document by number. The structure will look something like this:\n",
    "\n",
    "![Structure of the corpus, a list of dictionaries](https://ithaka-labs.s3.amazonaws.com/static-files/images/tdm/tdmdocs/CorpusView.png)\n",
    "\n",
    "For each item in our list we will be able to use [key/value pairs](./key-terms.ipynb#key-value-pair) to get a **value** if we supply a **key**. We will call our [Python list](./key-terms.ipynb#python-list) variable `all_documents` since it will contain all of the documents in our [corpus](./key-terms.ipynb#corpus)."
   ]
  },
  {
   "cell_type": "code",
   "execution_count": 27,
   "metadata": {},
   "outputs": [],
   "source": [
    "# Replace with your filename and be sure your file is in your datasets folder\n",
    "file_name = 'shakespeareQuarterly.jsonl' \n",
    "\n",
    "# Import the json module\n",
    "import json\n",
    "# Create an empty new list variable named `all_documents`\n",
    "all_documents = [] \n",
    "# Temporarily open the file `filename` in the datasets/ folder\n",
    "with open('./datasets/' + file_name) as dataset_file: \n",
    "    #for each line in the dataset file\n",
    "    for line in dataset_file: \n",
    "        # Read each line into a Python dictionary.\n",
    "        # Create a variable document that contains the line using json.loads to convert the json key/value pairs to a python dictionary\n",
    "        document = json.loads(line) \n",
    "        # Append a new list item to `all_documents` containing the dictionary we created.\n",
    "        all_documents.append(document) "
   ]
  },
  {
   "cell_type": "markdown",
   "metadata": {},
   "source": [
    "Now all of our documents have been converted from our original [JSON lines](./key-terms.ipynb#jsonl) file format (.jsonl) into a [python List](./key-terms.ipynb#python-list) variable named `all_documents`. Let's see what we can discover about our [corpus](./key-terms.ipynb#corpus) with a few simple methods."
   ]
  },
  {
   "cell_type": "code",
   "execution_count": 28,
   "metadata": {},
   "outputs": [
    {
     "data": {
      "text/plain": [
       "6687"
      ]
     },
     "execution_count": 28,
     "metadata": {},
     "output_type": "execute_result"
    }
   ],
   "source": [
    "len(all_documents)"
   ]
  },
  {
   "cell_type": "markdown",
   "metadata": {},
   "source": [
    "Above, we can determine how many texts are in our [dataset](./key-terms.ipynb#dataset) by using the `len()` function to get the size of `all_documents`. \n",
    "\n",
    "We can also choose a single document and get [bibliographic metadata](./key-terms.ipynb#bibliographic-metadata) for that item. Let's try the first document. (In computer code, 0 is the first item, 1 is the second item, 2 is the third item, etc.) In this case, we use the `.get` method to retrieve the title for our the first item in our [list](./key-terms.ipynb#python-list) `all_documents[0]`. "
   ]
  },
  {
   "cell_type": "code",
   "execution_count": 43,
   "metadata": {},
   "outputs": [
    {
     "data": {
      "text/plain": [
       "'Creative Uncreation In King Lear'"
      ]
     },
     "execution_count": 43,
     "metadata": {},
     "output_type": "execute_result"
    }
   ],
   "source": [
    "# Define a new dictionary variable `chosenDocument` that is equal to the first item in our `all_documents` list\n",
    "chosen_document = all_documents[7] \n",
    "chosen_document.get('title') #get the corresponding value for the key 'title'"
   ]
  },
  {
   "cell_type": "markdown",
   "metadata": {},
   "source": [
    "We can also use the `.get` method to discover additional [bibliographic metadata](./key-terms.ipynb#bibliographic-metadata). Here are the most significant [bibliographic metadata](./key-terms.ipynb#bibliographic-metadata) items found with a [JSTOR](./key-terms.ipynb#jstor) item:\n",
    "* `title` returns the title\n",
    "* `creators` returns the authors in a Python list\n",
    "* `isPartOf` returns the journal title\n",
    "* `datePublished` returns the publication date\n",
    "* `id` returns the stable URL for a JSTOR item\n",
    "* `identifier` returns a Python list of dictionaries containing the ISSN #, OCLC #, and DOI #. \n",
    "* `volumeNumber` returns the journal volume number\n",
    "* `pageCount` returns the number of pages in the print article\n",
    "* `pagination` returns the page number range of the print article\n",
    "* `pageStart` returns the first print page\n",
    "* `pageEnd` returns the last print page\n",
    "* `wordCount` returns the number of words in the article\n",
    "* `docType` returns the type of document, usually `article` for journal article\n",
    "* `url` returns the stable url for the document\n",
    "* `provider` returns the source of the data, for JSTOR articles usually `jstor`\n",
    "\n",
    "Let's try all these on our `chosenDocument`. "
   ]
  },
  {
   "cell_type": "code",
   "execution_count": 44,
   "metadata": {},
   "outputs": [
    {
     "name": "stdout",
     "output_type": "stream",
     "text": [
      "Title: Creative Uncreation In King Lear\n",
      "['James L. Calderwood']\n",
      "Shakespeare Quarterly\n",
      "1986-04-01T00:00:00Z\n",
      "Folger Shakespeare Library\n",
      "http://www.jstor.org/stable/2870188\n",
      "[{'name': 'issn', 'value': '00373222'}, {'name': 'oclc', 'value': '39852252'}, {'name': 'local_doi', 'value': '10.2307/2870188'}]\n",
      "1\n",
      "15\n",
      "pp. 5-19\n",
      "5\n",
      "19\n",
      "8966\n",
      "article\n",
      "http://www.jstor.org/stable/2870188\n",
      "jstor\n"
     ]
    }
   ],
   "source": [
    "print(\"Title: \" + chosen_document.get('title'))\n",
    "print(chosen_document.get('creators'))\n",
    "print(chosen_document.get('isPartOf'))\n",
    "print(chosen_document.get('datePublished'))\n",
    "print(chosen_document.get('publisher'))\n",
    "print(chosen_document.get('id'))\n",
    "print(chosen_document.get('identifier'))\n",
    "print(chosen_document.get('volumeNumber'))\n",
    "print(chosen_document.get('pageCount'))\n",
    "print(chosen_document.get('pagination'))\n",
    "print(chosen_document.get('pageStart'))\n",
    "print(chosen_document.get('pageEnd'))\n",
    "print(chosen_document.get('wordCount'))\n",
    "print(chosen_document.get('docType'))\n",
    "print(chosen_document.get('url'))\n",
    "print(chosen_document.get('provider'))"
   ]
  },
  {
   "cell_type": "markdown",
   "metadata": {},
   "source": [
    "We can see every [Python dictionary](./key-terms.ipynb#python-dictionary) **key** in the [metadata](./key-terms.ipynb#metadata) by using the `.keys` method. We could use this in conjunction with the `print()` function, but we will use the `list()` function here to make it a little neater for reading purposes."
   ]
  },
  {
   "cell_type": "code",
   "execution_count": 45,
   "metadata": {},
   "outputs": [
    {
     "data": {
      "text/plain": [
       "['id',\n",
       " 'docType',\n",
       " 'title',\n",
       " 'creators',\n",
       " 'isPartOf',\n",
       " 'sourceCategory',\n",
       " 'pageStart',\n",
       " 'url',\n",
       " 'volumeNumber',\n",
       " 'language',\n",
       " 'pageEnd',\n",
       " 'pageCount',\n",
       " 'pagination',\n",
       " 'datePublished',\n",
       " 'publicationYear',\n",
       " 'publisher',\n",
       " 'wordCount',\n",
       " 'unigramCount',\n",
       " 'tdmCategory',\n",
       " 'provider',\n",
       " 'outputFormat',\n",
       " 'identifier']"
      ]
     },
     "execution_count": 45,
     "metadata": {},
     "output_type": "execute_result"
    }
   ],
   "source": [
    "#print(chosen_document.keys())# Uncomment the # in front of print to run this line of code\n",
    "list(chosen_document.keys()) # Create a list of every Python dictionary key within `chosen_document`"
   ]
  },
  {
   "cell_type": "markdown",
   "metadata": {},
   "source": [
    "Of course, we could also list all the [Python dictionary](./key-terms.ipynb#python-dictionary) **values**, but the output will be quite long since it includes the word counts for every word that is in the article. (In fact, it includes the count for every unique [string](./key-terms.ipynb#string) in the article. We'll address the distinction in the [word frequencies](./key-terms.ipynb#word-frequency) [notebooks](./key-terms.ipynb#jupyter-notebook).) The word counts are found within `unigramCount` which we'll address in the word frequencies notebook. "
   ]
  },
  {
   "cell_type": "code",
   "execution_count": 48,
   "metadata": {},
   "outputs": [],
   "source": [
    "#list(chosen_document.values()) # Uncomment the # in front of list to run this line of code"
   ]
  },
  {
   "cell_type": "markdown",
   "metadata": {},
   "source": [
    "For now, let's return to our larger [corpus](./key-terms.ipynb#corpus) `all_documents` to do some exploratory analysis. What if we wanted to check if a particular item was in the [corpus](./key-terms.ipynb#corpus)?\n",
    "\n",
    "If we search out any journal article on jstor.org, the article description page will feature a stable url.\n",
    "\n",
    "![A JSTOR description page](https://ithaka-labs.s3.amazonaws.com/static-files/images/tdm/tdmdocs/jstorDescription.png)\n",
    "\n",
    "We already saw above that the stable URL is stored in both the `id` and `url` dictionaries, so we can check our whole [corpus](./key-terms.ipynb#corpsu) for a particular article if we know the stable URL. From the image above, we can see the article in question has a stable URL of: https://www.jstor.org/stable/2871420\n",
    "\n",
    "We can check whether the item above is in `all_documents` with the `in` or `not in` operators. First though, we need a list of all of the URLs in our corpus. We'll create a variable `list_of_urls` to hold all these values. Then we can check to see if our stable URL (http://www.jstor.org/stable/2871420) is in that list."
   ]
  },
  {
   "cell_type": "code",
   "execution_count": 49,
   "metadata": {},
   "outputs": [
    {
     "data": {
      "text/plain": [
       "['http://www.jstor.org/stable/2869980',\n",
       " 'http://www.jstor.org/stable/2870198',\n",
       " 'http://www.jstor.org/stable/2870199',\n",
       " 'http://www.jstor.org/stable/2870209',\n",
       " 'http://www.jstor.org/stable/2870208']"
      ]
     },
     "execution_count": 49,
     "metadata": {},
     "output_type": "execute_result"
    }
   ],
   "source": [
    "# We create a blank list that will contain all of the urls in our dataset\n",
    "list_of_urls = [] \n",
    "# For every document in our dataset\n",
    "for document in all_documents:\n",
    "    # Create a url_value variable to hold the URL for that document\n",
    "    url_value = document.get('url') \n",
    "    # Append or add that URL to our Python list `list_of_urls`\n",
    "    list_of_urls.append(url_value)\n",
    "# Show the first five items in our list of urls\n",
    "list(list_of_urls[0:5]) "
   ]
  },
  {
   "cell_type": "markdown",
   "metadata": {},
   "source": [
    "Now that we have a [list](./key-terms.ipynb#python-list) of all the URLs in our [corpus](./key-terms.ipynb#corpus) in the `list_of_urls` variable, let's use the `in` operator to discover whether our text is in the [corpus](./key-terms.ipynb#corpus). If the article is in our [dataset](./key-terms.ipynb#dataset), we will receive `true`. If the article is not our [dataset](./key-terms.ipynb#dataset), we will receive `false`.\n",
    "\n",
    "*Note that the stable URL from jstor.org uses a secure address starting with \"https://\". Our dictionary values, however, use a standard address beginning with \"http://\".\n",
    "* http**s**://\n",
    "* http://\n",
    "\n",
    "You'll need to remove the \"s\" to run this test since our `list_of_urls` are not secure addresses."
   ]
  },
  {
   "cell_type": "code",
   "execution_count": 50,
   "metadata": {},
   "outputs": [
    {
     "data": {
      "text/plain": [
       "True"
      ]
     },
     "execution_count": 50,
     "metadata": {},
     "output_type": "execute_result"
    }
   ],
   "source": [
    "'http://www.jstor.org/stable/2871420' in list_of_urls"
   ]
  },
  {
   "cell_type": "markdown",
   "metadata": {
    "colab_type": "text",
    "id": "toqiQRaZ6oJd"
   },
   "source": [
    "Now we have a good idea of what [metadata](./key-terms.ipynb#metadata) is in our [corpus](./key-terms.ipynb#corpus) and how we might retrieve it. We were able to use the `in` operator above to check if a particular article was in the [corpus](./key-terms.ipynb#corpus) using the URL. Of course, we could also check to see if a particular journal, author, publisher, or DOI # was in our corpus using a similar method. \n",
    "\n",
    "We'll finish this [notebook](./key-terms.ipynb#jupyter-notebook) by taking a big picture look at the [corpus](./key-terms.ipynb#corpus). What largescale patterns exist in this [corpus](./key-terms.ipynb#corpus) over the decades. We'll use [Pandas](./key-terms.ipynb#pandas) to help with our analysis. If you would like to learn more about [Pandas](./key-terms.ipynb#pandas), we recommend the [Python Pandas tutorial at learndatasci.com](https://www.learndatasci.com/tutorials/python-pandas-tutorial-complete-introduction-for-beginners/). For now, we will create a couple visualizations for demonstration purposes."
   ]
  },
  {
   "cell_type": "code",
   "execution_count": 51,
   "metadata": {
    "colab": {},
    "colab_type": "code",
    "id": "I9IRRS466oJU"
   },
   "outputs": [],
   "source": [
    "# Imports pandas and allows us to call it with the phrase pd\n",
    "import pandas as pd"
   ]
  },
  {
   "cell_type": "markdown",
   "metadata": {},
   "source": [
    "To use [Pandas](./key-terms.ipynb#pandas), we need to import it first. The `as pd` lets us use the shorthand `pd` when we want to call [Pandas](./key-terms.ipynb#pandas) instead writing out the entire word `pandas`. "
   ]
  },
  {
   "cell_type": "markdown",
   "metadata": {
    "colab_type": "text",
    "id": "YHkQ1o7P6oJh"
   },
   "source": [
    "Now we can turn our [Python list](./key-terms.ipynb#python-list) `all_documents` into a [Pandas](./key-terms.ipynb#pandas) [dataframe](./key-terms.ipynb#pandas-dataframe). This will enable us to manipulate and view our data as a table or a graph. We will call our [dataframe](./key-terms.ipynb#pandas-dataframe) `df`."
   ]
  },
  {
   "cell_type": "code",
   "execution_count": 52,
   "metadata": {
    "colab": {},
    "colab_type": "code",
    "id": "EWaiiLtC6oJi"
   },
   "outputs": [],
   "source": [
    "df = pd.DataFrame(all_documents)"
   ]
  },
  {
   "cell_type": "markdown",
   "metadata": {
    "colab_type": "text",
    "id": "rIDbi3SD6oJj"
   },
   "source": [
    "Let's see what our [corpus](./key-terms.ipynb#corpus) looks like in table form. We can use the `.head()` method to show us the first five rows of our data as a table."
   ]
  },
  {
   "cell_type": "code",
   "execution_count": 53,
   "metadata": {
    "colab": {},
    "colab_type": "code",
    "id": "SIJ8H0pT6oJk",
    "scrolled": true
   },
   "outputs": [
    {
     "data": {
      "text/html": [
       "<div>\n",
       "<style scoped>\n",
       "    .dataframe tbody tr th:only-of-type {\n",
       "        vertical-align: middle;\n",
       "    }\n",
       "\n",
       "    .dataframe tbody tr th {\n",
       "        vertical-align: top;\n",
       "    }\n",
       "\n",
       "    .dataframe thead th {\n",
       "        text-align: right;\n",
       "    }\n",
       "</style>\n",
       "<table border=\"1\" class=\"dataframe\">\n",
       "  <thead>\n",
       "    <tr style=\"text-align: right;\">\n",
       "      <th></th>\n",
       "      <th>abstract</th>\n",
       "      <th>bigramCount</th>\n",
       "      <th>creators</th>\n",
       "      <th>datePublished</th>\n",
       "      <th>docType</th>\n",
       "      <th>id</th>\n",
       "      <th>identifier</th>\n",
       "      <th>isPartOf</th>\n",
       "      <th>language</th>\n",
       "      <th>outputFormat</th>\n",
       "      <th>...</th>\n",
       "      <th>publicationYear</th>\n",
       "      <th>publisher</th>\n",
       "      <th>sourceCategory</th>\n",
       "      <th>tdmCategory</th>\n",
       "      <th>title</th>\n",
       "      <th>trigramCount</th>\n",
       "      <th>unigramCount</th>\n",
       "      <th>url</th>\n",
       "      <th>volumeNumber</th>\n",
       "      <th>wordCount</th>\n",
       "    </tr>\n",
       "  </thead>\n",
       "  <tbody>\n",
       "    <tr>\n",
       "      <th>0</th>\n",
       "      <td>NaN</td>\n",
       "      <td>NaN</td>\n",
       "      <td>[R. A. Foakes]</td>\n",
       "      <td>1986-07-01T00:00:00Z</td>\n",
       "      <td>article</td>\n",
       "      <td>http://www.jstor.org/stable/2869980</td>\n",
       "      <td>[{'name': 'issn', 'value': '00373222'}, {'name...</td>\n",
       "      <td>Shakespeare Quarterly</td>\n",
       "      <td>[eng]</td>\n",
       "      <td>[unigram]</td>\n",
       "      <td>...</td>\n",
       "      <td>1986</td>\n",
       "      <td>Folger Shakespeare Library</td>\n",
       "      <td>[Language &amp; Literature, Humanities, Performing...</td>\n",
       "      <td>[Literature (General), History General, Englis...</td>\n",
       "      <td>Review Article</td>\n",
       "      <td>NaN</td>\n",
       "      <td>{'the': 56, 'of': 47, 'to': 32, 'and': 26, 'a'...</td>\n",
       "      <td>http://www.jstor.org/stable/2869980</td>\n",
       "      <td>2</td>\n",
       "      <td>935</td>\n",
       "    </tr>\n",
       "    <tr>\n",
       "      <th>1</th>\n",
       "      <td>NaN</td>\n",
       "      <td>NaN</td>\n",
       "      <td>[Robyn S. Heales]</td>\n",
       "      <td>1986-04-01T00:00:00Z</td>\n",
       "      <td>article</td>\n",
       "      <td>http://www.jstor.org/stable/2870198</td>\n",
       "      <td>[{'name': 'issn', 'value': '00373222'}, {'name...</td>\n",
       "      <td>Shakespeare Quarterly</td>\n",
       "      <td>[eng]</td>\n",
       "      <td>[unigram]</td>\n",
       "      <td>...</td>\n",
       "      <td>1986</td>\n",
       "      <td>Folger Shakespeare Library</td>\n",
       "      <td>[Language &amp; Literature, Humanities, Performing...</td>\n",
       "      <td>[Periodicals, Literature (General), Arts in ge...</td>\n",
       "      <td>Shakespeare in Sydney</td>\n",
       "      <td>NaN</td>\n",
       "      <td>{'the': 107, 'of': 79, 'and': 62, 'a': 61, 'to...</td>\n",
       "      <td>http://www.jstor.org/stable/2870198</td>\n",
       "      <td>1</td>\n",
       "      <td>2032</td>\n",
       "    </tr>\n",
       "    <tr>\n",
       "      <th>2</th>\n",
       "      <td>NaN</td>\n",
       "      <td>NaN</td>\n",
       "      <td>[Ronald R. Macdonald]</td>\n",
       "      <td>1986-04-01T00:00:00Z</td>\n",
       "      <td>article</td>\n",
       "      <td>http://www.jstor.org/stable/2870199</td>\n",
       "      <td>[{'name': 'issn', 'value': '00373222'}, {'name...</td>\n",
       "      <td>Shakespeare Quarterly</td>\n",
       "      <td>[eng]</td>\n",
       "      <td>[unigram]</td>\n",
       "      <td>...</td>\n",
       "      <td>1986</td>\n",
       "      <td>Folger Shakespeare Library</td>\n",
       "      <td>[Language &amp; Literature, Humanities, Performing...</td>\n",
       "      <td>[Literature (General), Periodicals, Academies ...</td>\n",
       "      <td>Shakespeare in the Berkshires, 1985</td>\n",
       "      <td>NaN</td>\n",
       "      <td>{'the': 113, 'of': 79, 'and': 56, 'to': 39, 'i...</td>\n",
       "      <td>http://www.jstor.org/stable/2870199</td>\n",
       "      <td>1</td>\n",
       "      <td>1805</td>\n",
       "    </tr>\n",
       "    <tr>\n",
       "      <th>3</th>\n",
       "      <td>NaN</td>\n",
       "      <td>NaN</td>\n",
       "      <td>[Laura G. Bromley]</td>\n",
       "      <td>1986-04-01T00:00:00Z</td>\n",
       "      <td>article</td>\n",
       "      <td>http://www.jstor.org/stable/2870209</td>\n",
       "      <td>[{'name': 'issn', 'value': '00373222'}, {'name...</td>\n",
       "      <td>Shakespeare Quarterly</td>\n",
       "      <td>[eng]</td>\n",
       "      <td>[unigram]</td>\n",
       "      <td>...</td>\n",
       "      <td>1986</td>\n",
       "      <td>Folger Shakespeare Library</td>\n",
       "      <td>[Language &amp; Literature, Humanities, Performing...</td>\n",
       "      <td>[Socialism. Communism. Anarchism, Religions. M...</td>\n",
       "      <td>Review Article</td>\n",
       "      <td>NaN</td>\n",
       "      <td>{'of': 71, 'the': 65, 'and': 38, 'in': 24, 'hi...</td>\n",
       "      <td>http://www.jstor.org/stable/2870209</td>\n",
       "      <td>1</td>\n",
       "      <td>1023</td>\n",
       "    </tr>\n",
       "    <tr>\n",
       "      <th>4</th>\n",
       "      <td>NaN</td>\n",
       "      <td>NaN</td>\n",
       "      <td>[James H. Maddox]</td>\n",
       "      <td>1986-04-01T00:00:00Z</td>\n",
       "      <td>article</td>\n",
       "      <td>http://www.jstor.org/stable/2870208</td>\n",
       "      <td>[{'name': 'issn', 'value': '00373222'}, {'name...</td>\n",
       "      <td>Shakespeare Quarterly</td>\n",
       "      <td>[eng]</td>\n",
       "      <td>[unigram]</td>\n",
       "      <td>...</td>\n",
       "      <td>1986</td>\n",
       "      <td>Folger Shakespeare Library</td>\n",
       "      <td>[Language &amp; Literature, Humanities, Performing...</td>\n",
       "      <td>[English literature, Biography, Modern languag...</td>\n",
       "      <td>Review Article</td>\n",
       "      <td>NaN</td>\n",
       "      <td>{'the': 54, 'of': 50, 'and': 25, 'in': 24, 'to...</td>\n",
       "      <td>http://www.jstor.org/stable/2870208</td>\n",
       "      <td>1</td>\n",
       "      <td>965</td>\n",
       "    </tr>\n",
       "  </tbody>\n",
       "</table>\n",
       "<p>5 rows × 25 columns</p>\n",
       "</div>"
      ],
      "text/plain": [
       "  abstract bigramCount               creators         datePublished  docType  \\\n",
       "0      NaN         NaN         [R. A. Foakes]  1986-07-01T00:00:00Z  article   \n",
       "1      NaN         NaN      [Robyn S. Heales]  1986-04-01T00:00:00Z  article   \n",
       "2      NaN         NaN  [Ronald R. Macdonald]  1986-04-01T00:00:00Z  article   \n",
       "3      NaN         NaN     [Laura G. Bromley]  1986-04-01T00:00:00Z  article   \n",
       "4      NaN         NaN      [James H. Maddox]  1986-04-01T00:00:00Z  article   \n",
       "\n",
       "                                    id  \\\n",
       "0  http://www.jstor.org/stable/2869980   \n",
       "1  http://www.jstor.org/stable/2870198   \n",
       "2  http://www.jstor.org/stable/2870199   \n",
       "3  http://www.jstor.org/stable/2870209   \n",
       "4  http://www.jstor.org/stable/2870208   \n",
       "\n",
       "                                          identifier               isPartOf  \\\n",
       "0  [{'name': 'issn', 'value': '00373222'}, {'name...  Shakespeare Quarterly   \n",
       "1  [{'name': 'issn', 'value': '00373222'}, {'name...  Shakespeare Quarterly   \n",
       "2  [{'name': 'issn', 'value': '00373222'}, {'name...  Shakespeare Quarterly   \n",
       "3  [{'name': 'issn', 'value': '00373222'}, {'name...  Shakespeare Quarterly   \n",
       "4  [{'name': 'issn', 'value': '00373222'}, {'name...  Shakespeare Quarterly   \n",
       "\n",
       "  language outputFormat  ...  publicationYear                   publisher  \\\n",
       "0    [eng]    [unigram]  ...             1986  Folger Shakespeare Library   \n",
       "1    [eng]    [unigram]  ...             1986  Folger Shakespeare Library   \n",
       "2    [eng]    [unigram]  ...             1986  Folger Shakespeare Library   \n",
       "3    [eng]    [unigram]  ...             1986  Folger Shakespeare Library   \n",
       "4    [eng]    [unigram]  ...             1986  Folger Shakespeare Library   \n",
       "\n",
       "                                      sourceCategory  \\\n",
       "0  [Language & Literature, Humanities, Performing...   \n",
       "1  [Language & Literature, Humanities, Performing...   \n",
       "2  [Language & Literature, Humanities, Performing...   \n",
       "3  [Language & Literature, Humanities, Performing...   \n",
       "4  [Language & Literature, Humanities, Performing...   \n",
       "\n",
       "                                         tdmCategory  \\\n",
       "0  [Literature (General), History General, Englis...   \n",
       "1  [Periodicals, Literature (General), Arts in ge...   \n",
       "2  [Literature (General), Periodicals, Academies ...   \n",
       "3  [Socialism. Communism. Anarchism, Religions. M...   \n",
       "4  [English literature, Biography, Modern languag...   \n",
       "\n",
       "                                 title  trigramCount  \\\n",
       "0                       Review Article           NaN   \n",
       "1                Shakespeare in Sydney           NaN   \n",
       "2  Shakespeare in the Berkshires, 1985           NaN   \n",
       "3                       Review Article           NaN   \n",
       "4                       Review Article           NaN   \n",
       "\n",
       "                                        unigramCount  \\\n",
       "0  {'the': 56, 'of': 47, 'to': 32, 'and': 26, 'a'...   \n",
       "1  {'the': 107, 'of': 79, 'and': 62, 'a': 61, 'to...   \n",
       "2  {'the': 113, 'of': 79, 'and': 56, 'to': 39, 'i...   \n",
       "3  {'of': 71, 'the': 65, 'and': 38, 'in': 24, 'hi...   \n",
       "4  {'the': 54, 'of': 50, 'and': 25, 'in': 24, 'to...   \n",
       "\n",
       "                                   url volumeNumber wordCount  \n",
       "0  http://www.jstor.org/stable/2869980            2       935  \n",
       "1  http://www.jstor.org/stable/2870198            1      2032  \n",
       "2  http://www.jstor.org/stable/2870199            1      1805  \n",
       "3  http://www.jstor.org/stable/2870209            1      1023  \n",
       "4  http://www.jstor.org/stable/2870208            1       965  \n",
       "\n",
       "[5 rows x 25 columns]"
      ]
     },
     "execution_count": 53,
     "metadata": {},
     "output_type": "execute_result"
    }
   ],
   "source": [
    "df.head()"
   ]
  },
  {
   "cell_type": "markdown",
   "metadata": {
    "colab_type": "text",
    "id": "MOkMFJ246oJl"
   },
   "source": [
    "Now we can see the first part of all the [metadata](./key-terms.ipynb#metadata) we have been discussing in table form. Much clearer! There's a lot of [metadata](./key-terms.ipynb#metadata) here so you will need to scroll right to see all the columns. Long items in this view are abbreviated with `...` to signify that they continue past what is shown.\n",
    "\n",
    "Let's use our new [Pandas](./key-terms.ipynb#pandas) [dataframe](./key-terms.ipynb#pandas-dataframe) to learn a little more about our [corpus](./key-terms.ipynb#corpus). Notice above there is column labeled `publicationYear`. Let's figure out the full year range of our [corpus](./key-terms.ipynb#corpus). We can do this by using the `.min` and `.max` methods. We'll create a variable to store each and then print them out.\n",
    "\n",
    "We can find the year range in our [Pandas](./key-terms.ipynb#pandas) [dataframe](./key-terms.ipynb#pandas-dataframe) by finding the minimum and maximum of `datePublished`."
   ]
  },
  {
   "cell_type": "code",
   "execution_count": 54,
   "metadata": {
    "colab": {},
    "colab_type": "code",
    "id": "HkhgmqPo6oJm"
   },
   "outputs": [
    {
     "name": "stdout",
     "output_type": "stream",
     "text": [
      "1950 to 2013\n"
     ]
    }
   ],
   "source": [
    "min_year = df['publicationYear'].min() #create variable `minYear` that is the minimum value from `publicationYear`\n",
    "max_year = df['publicationYear'].max() #create variable `maxYear` that is the maximum value from `publicationYear`\n",
    "\n",
    "print(str(min_year) + ' to ' + str(max_year)) #print a string showing \"minYear to maxYear\""
   ]
  },
  {
   "cell_type": "markdown",
   "metadata": {
    "colab_type": "text",
    "id": "rtjvEi9n6oJn"
   },
   "source": [
    "Now we know the full year range of our [dataset](./key-terms.ipynb#dataset). Let's see if we can identify any trends across the decades.\n",
    "\n",
    "Since `decade` isn't a column in our [Pandas](./key-terms.ipynb#pandas) [dataframe](./key-terms.ipynb#pandas-dataframe), we'll need to create it. First though, we'll need to consider how to turn a date into a decade. Let's try an example.  To translate a year (1925) to a decade (1920), we need to subtract the final digit so it becomes a zero. Basically, we need a way to discover the final digit in each decade and then subtract it so the final digit of our date becomes a zero. Something like:\n",
    "\n",
    "`1925 - 5 = 0`\n",
    "\n",
    "We can find the value for the final digit in any particular case by using [modulo](./key-terms.ipynb#modulo) (which provides the remainder of a division). If we use `% 10` on a date, it should give us a remainder that is the ones digit."
   ]
  },
  {
   "cell_type": "code",
   "execution_count": 55,
   "metadata": {},
   "outputs": [
    {
     "data": {
      "text/plain": [
       "5"
      ]
     },
     "execution_count": 55,
     "metadata": {},
     "output_type": "execute_result"
    }
   ],
   "source": [
    "# What is the remainder of 1925 divided by 10?\n",
    "1925 % 10 "
   ]
  },
  {
   "cell_type": "markdown",
   "metadata": {},
   "source": [
    "The result will give us our ones digit. Now we subtract this calculation from our original date. The result gives us the decade number we are looking for."
   ]
  },
  {
   "cell_type": "code",
   "execution_count": 56,
   "metadata": {},
   "outputs": [
    {
     "data": {
      "text/plain": [
       "1920"
      ]
     },
     "execution_count": 56,
     "metadata": {},
     "output_type": "execute_result"
    }
   ],
   "source": [
    "1925 - (1925 % 10)"
   ]
  },
  {
   "cell_type": "markdown",
   "metadata": {},
   "source": [
    "We can translate this example to the whole [dataframe](./key-terms.ipynb#pandas-dataframe) using the following code. We'll create a new function `add_decade` that takes a `value` from the `publicationYear` column and translates it into a decade column."
   ]
  },
  {
   "cell_type": "code",
   "execution_count": 57,
   "metadata": {
    "colab": {},
    "colab_type": "code",
    "id": "SWoq2gMt6oJn"
   },
   "outputs": [],
   "source": [
    "# Create a function `add_decade` that takes an argument `value`\n",
    "def add_decade(value): \n",
    "    # Create a variable `yr` that turns value from a string into an integer\n",
    "    yr = int(value) \n",
    "    # Create a variable `decade` that subtracts the ones digit as shown above\n",
    "    decade = yr - ( yr % 10 ) \n",
    "    # Return the variable `decade` for the function `add_decade`\n",
    "    return decade \n",
    "\n",
    "df['decade'] = df['publicationYear'].apply(add_decade) \n",
    "# create a new column `decade` in our dataframe that is equal to \n",
    "# the column `publicationYear` after applying \n",
    "# the add_decade function we created"
   ]
  },
  {
   "cell_type": "markdown",
   "metadata": {
    "colab_type": "text",
    "id": "H79W5vIw6oJp"
   },
   "source": [
    "To see the new decade column we created in our data, let's use the `df.head()` method again to see how it changed the first 5 rows of the [dataframe](./key-terms.ipynb#pandas-dataframe). To see the decade column, you will need to scroll all the way to the right."
   ]
  },
  {
   "cell_type": "code",
   "execution_count": 58,
   "metadata": {
    "colab": {},
    "colab_type": "code",
    "id": "cKCjvDna6oJq",
    "scrolled": true
   },
   "outputs": [
    {
     "data": {
      "text/html": [
       "<div>\n",
       "<style scoped>\n",
       "    .dataframe tbody tr th:only-of-type {\n",
       "        vertical-align: middle;\n",
       "    }\n",
       "\n",
       "    .dataframe tbody tr th {\n",
       "        vertical-align: top;\n",
       "    }\n",
       "\n",
       "    .dataframe thead th {\n",
       "        text-align: right;\n",
       "    }\n",
       "</style>\n",
       "<table border=\"1\" class=\"dataframe\">\n",
       "  <thead>\n",
       "    <tr style=\"text-align: right;\">\n",
       "      <th></th>\n",
       "      <th>abstract</th>\n",
       "      <th>bigramCount</th>\n",
       "      <th>creators</th>\n",
       "      <th>datePublished</th>\n",
       "      <th>docType</th>\n",
       "      <th>id</th>\n",
       "      <th>identifier</th>\n",
       "      <th>isPartOf</th>\n",
       "      <th>language</th>\n",
       "      <th>outputFormat</th>\n",
       "      <th>...</th>\n",
       "      <th>publisher</th>\n",
       "      <th>sourceCategory</th>\n",
       "      <th>tdmCategory</th>\n",
       "      <th>title</th>\n",
       "      <th>trigramCount</th>\n",
       "      <th>unigramCount</th>\n",
       "      <th>url</th>\n",
       "      <th>volumeNumber</th>\n",
       "      <th>wordCount</th>\n",
       "      <th>decade</th>\n",
       "    </tr>\n",
       "  </thead>\n",
       "  <tbody>\n",
       "    <tr>\n",
       "      <th>0</th>\n",
       "      <td>NaN</td>\n",
       "      <td>NaN</td>\n",
       "      <td>[R. A. Foakes]</td>\n",
       "      <td>1986-07-01T00:00:00Z</td>\n",
       "      <td>article</td>\n",
       "      <td>http://www.jstor.org/stable/2869980</td>\n",
       "      <td>[{'name': 'issn', 'value': '00373222'}, {'name...</td>\n",
       "      <td>Shakespeare Quarterly</td>\n",
       "      <td>[eng]</td>\n",
       "      <td>[unigram]</td>\n",
       "      <td>...</td>\n",
       "      <td>Folger Shakespeare Library</td>\n",
       "      <td>[Language &amp; Literature, Humanities, Performing...</td>\n",
       "      <td>[Literature (General), History General, Englis...</td>\n",
       "      <td>Review Article</td>\n",
       "      <td>NaN</td>\n",
       "      <td>{'the': 56, 'of': 47, 'to': 32, 'and': 26, 'a'...</td>\n",
       "      <td>http://www.jstor.org/stable/2869980</td>\n",
       "      <td>2</td>\n",
       "      <td>935</td>\n",
       "      <td>1980</td>\n",
       "    </tr>\n",
       "    <tr>\n",
       "      <th>1</th>\n",
       "      <td>NaN</td>\n",
       "      <td>NaN</td>\n",
       "      <td>[Robyn S. Heales]</td>\n",
       "      <td>1986-04-01T00:00:00Z</td>\n",
       "      <td>article</td>\n",
       "      <td>http://www.jstor.org/stable/2870198</td>\n",
       "      <td>[{'name': 'issn', 'value': '00373222'}, {'name...</td>\n",
       "      <td>Shakespeare Quarterly</td>\n",
       "      <td>[eng]</td>\n",
       "      <td>[unigram]</td>\n",
       "      <td>...</td>\n",
       "      <td>Folger Shakespeare Library</td>\n",
       "      <td>[Language &amp; Literature, Humanities, Performing...</td>\n",
       "      <td>[Periodicals, Literature (General), Arts in ge...</td>\n",
       "      <td>Shakespeare in Sydney</td>\n",
       "      <td>NaN</td>\n",
       "      <td>{'the': 107, 'of': 79, 'and': 62, 'a': 61, 'to...</td>\n",
       "      <td>http://www.jstor.org/stable/2870198</td>\n",
       "      <td>1</td>\n",
       "      <td>2032</td>\n",
       "      <td>1980</td>\n",
       "    </tr>\n",
       "    <tr>\n",
       "      <th>2</th>\n",
       "      <td>NaN</td>\n",
       "      <td>NaN</td>\n",
       "      <td>[Ronald R. Macdonald]</td>\n",
       "      <td>1986-04-01T00:00:00Z</td>\n",
       "      <td>article</td>\n",
       "      <td>http://www.jstor.org/stable/2870199</td>\n",
       "      <td>[{'name': 'issn', 'value': '00373222'}, {'name...</td>\n",
       "      <td>Shakespeare Quarterly</td>\n",
       "      <td>[eng]</td>\n",
       "      <td>[unigram]</td>\n",
       "      <td>...</td>\n",
       "      <td>Folger Shakespeare Library</td>\n",
       "      <td>[Language &amp; Literature, Humanities, Performing...</td>\n",
       "      <td>[Literature (General), Periodicals, Academies ...</td>\n",
       "      <td>Shakespeare in the Berkshires, 1985</td>\n",
       "      <td>NaN</td>\n",
       "      <td>{'the': 113, 'of': 79, 'and': 56, 'to': 39, 'i...</td>\n",
       "      <td>http://www.jstor.org/stable/2870199</td>\n",
       "      <td>1</td>\n",
       "      <td>1805</td>\n",
       "      <td>1980</td>\n",
       "    </tr>\n",
       "    <tr>\n",
       "      <th>3</th>\n",
       "      <td>NaN</td>\n",
       "      <td>NaN</td>\n",
       "      <td>[Laura G. Bromley]</td>\n",
       "      <td>1986-04-01T00:00:00Z</td>\n",
       "      <td>article</td>\n",
       "      <td>http://www.jstor.org/stable/2870209</td>\n",
       "      <td>[{'name': 'issn', 'value': '00373222'}, {'name...</td>\n",
       "      <td>Shakespeare Quarterly</td>\n",
       "      <td>[eng]</td>\n",
       "      <td>[unigram]</td>\n",
       "      <td>...</td>\n",
       "      <td>Folger Shakespeare Library</td>\n",
       "      <td>[Language &amp; Literature, Humanities, Performing...</td>\n",
       "      <td>[Socialism. Communism. Anarchism, Religions. M...</td>\n",
       "      <td>Review Article</td>\n",
       "      <td>NaN</td>\n",
       "      <td>{'of': 71, 'the': 65, 'and': 38, 'in': 24, 'hi...</td>\n",
       "      <td>http://www.jstor.org/stable/2870209</td>\n",
       "      <td>1</td>\n",
       "      <td>1023</td>\n",
       "      <td>1980</td>\n",
       "    </tr>\n",
       "    <tr>\n",
       "      <th>4</th>\n",
       "      <td>NaN</td>\n",
       "      <td>NaN</td>\n",
       "      <td>[James H. Maddox]</td>\n",
       "      <td>1986-04-01T00:00:00Z</td>\n",
       "      <td>article</td>\n",
       "      <td>http://www.jstor.org/stable/2870208</td>\n",
       "      <td>[{'name': 'issn', 'value': '00373222'}, {'name...</td>\n",
       "      <td>Shakespeare Quarterly</td>\n",
       "      <td>[eng]</td>\n",
       "      <td>[unigram]</td>\n",
       "      <td>...</td>\n",
       "      <td>Folger Shakespeare Library</td>\n",
       "      <td>[Language &amp; Literature, Humanities, Performing...</td>\n",
       "      <td>[English literature, Biography, Modern languag...</td>\n",
       "      <td>Review Article</td>\n",
       "      <td>NaN</td>\n",
       "      <td>{'the': 54, 'of': 50, 'and': 25, 'in': 24, 'to...</td>\n",
       "      <td>http://www.jstor.org/stable/2870208</td>\n",
       "      <td>1</td>\n",
       "      <td>965</td>\n",
       "      <td>1980</td>\n",
       "    </tr>\n",
       "  </tbody>\n",
       "</table>\n",
       "<p>5 rows × 26 columns</p>\n",
       "</div>"
      ],
      "text/plain": [
       "  abstract bigramCount               creators         datePublished  docType  \\\n",
       "0      NaN         NaN         [R. A. Foakes]  1986-07-01T00:00:00Z  article   \n",
       "1      NaN         NaN      [Robyn S. Heales]  1986-04-01T00:00:00Z  article   \n",
       "2      NaN         NaN  [Ronald R. Macdonald]  1986-04-01T00:00:00Z  article   \n",
       "3      NaN         NaN     [Laura G. Bromley]  1986-04-01T00:00:00Z  article   \n",
       "4      NaN         NaN      [James H. Maddox]  1986-04-01T00:00:00Z  article   \n",
       "\n",
       "                                    id  \\\n",
       "0  http://www.jstor.org/stable/2869980   \n",
       "1  http://www.jstor.org/stable/2870198   \n",
       "2  http://www.jstor.org/stable/2870199   \n",
       "3  http://www.jstor.org/stable/2870209   \n",
       "4  http://www.jstor.org/stable/2870208   \n",
       "\n",
       "                                          identifier               isPartOf  \\\n",
       "0  [{'name': 'issn', 'value': '00373222'}, {'name...  Shakespeare Quarterly   \n",
       "1  [{'name': 'issn', 'value': '00373222'}, {'name...  Shakespeare Quarterly   \n",
       "2  [{'name': 'issn', 'value': '00373222'}, {'name...  Shakespeare Quarterly   \n",
       "3  [{'name': 'issn', 'value': '00373222'}, {'name...  Shakespeare Quarterly   \n",
       "4  [{'name': 'issn', 'value': '00373222'}, {'name...  Shakespeare Quarterly   \n",
       "\n",
       "  language outputFormat  ...                   publisher  \\\n",
       "0    [eng]    [unigram]  ...  Folger Shakespeare Library   \n",
       "1    [eng]    [unigram]  ...  Folger Shakespeare Library   \n",
       "2    [eng]    [unigram]  ...  Folger Shakespeare Library   \n",
       "3    [eng]    [unigram]  ...  Folger Shakespeare Library   \n",
       "4    [eng]    [unigram]  ...  Folger Shakespeare Library   \n",
       "\n",
       "                                      sourceCategory  \\\n",
       "0  [Language & Literature, Humanities, Performing...   \n",
       "1  [Language & Literature, Humanities, Performing...   \n",
       "2  [Language & Literature, Humanities, Performing...   \n",
       "3  [Language & Literature, Humanities, Performing...   \n",
       "4  [Language & Literature, Humanities, Performing...   \n",
       "\n",
       "                                         tdmCategory  \\\n",
       "0  [Literature (General), History General, Englis...   \n",
       "1  [Periodicals, Literature (General), Arts in ge...   \n",
       "2  [Literature (General), Periodicals, Academies ...   \n",
       "3  [Socialism. Communism. Anarchism, Religions. M...   \n",
       "4  [English literature, Biography, Modern languag...   \n",
       "\n",
       "                                 title trigramCount  \\\n",
       "0                       Review Article          NaN   \n",
       "1                Shakespeare in Sydney          NaN   \n",
       "2  Shakespeare in the Berkshires, 1985          NaN   \n",
       "3                       Review Article          NaN   \n",
       "4                       Review Article          NaN   \n",
       "\n",
       "                                        unigramCount  \\\n",
       "0  {'the': 56, 'of': 47, 'to': 32, 'and': 26, 'a'...   \n",
       "1  {'the': 107, 'of': 79, 'and': 62, 'a': 61, 'to...   \n",
       "2  {'the': 113, 'of': 79, 'and': 56, 'to': 39, 'i...   \n",
       "3  {'of': 71, 'the': 65, 'and': 38, 'in': 24, 'hi...   \n",
       "4  {'the': 54, 'of': 50, 'and': 25, 'in': 24, 'to...   \n",
       "\n",
       "                                   url volumeNumber wordCount decade  \n",
       "0  http://www.jstor.org/stable/2869980            2       935   1980  \n",
       "1  http://www.jstor.org/stable/2870198            1      2032   1980  \n",
       "2  http://www.jstor.org/stable/2870199            1      1805   1980  \n",
       "3  http://www.jstor.org/stable/2870209            1      1023   1980  \n",
       "4  http://www.jstor.org/stable/2870208            1       965   1980  \n",
       "\n",
       "[5 rows x 26 columns]"
      ]
     },
     "execution_count": 58,
     "metadata": {},
     "output_type": "execute_result"
    }
   ],
   "source": [
    "df.head()"
   ]
  },
  {
   "cell_type": "markdown",
   "metadata": {
    "colab_type": "text",
    "id": "4lwdgRAf6oJr"
   },
   "source": [
    "For a final demonstration, we'll create two graphs of our [corpus](./key-terms.ipynb#corpus) using our new decade column. Let's look at the number of documents by decade first. "
   ]
  },
  {
   "cell_type": "code",
   "execution_count": 59,
   "metadata": {
    "colab": {},
    "colab_type": "code",
    "id": "upxLwnZr6oJs"
   },
   "outputs": [
    {
     "data": {
      "image/png": "[encoded data removed]",
      "text/plain": [
       "<Figure size 1440x360 with 1 Axes>"
      ]
     },
     "metadata": {
      "needs_background": "light"
     },
     "output_type": "display_data"
    }
   ],
   "source": [
    "df.groupby(['decade', 'provider'])['id'].agg('count').unstack()\\\n",
    "    .plot.bar(title='Documents by decade', figsize=(20, 5), fontsize=12, stacked=True); ##There is a weird bug where this cell needs to be run twice."
   ]
  },
  {
   "cell_type": "markdown",
   "metadata": {
    "colab_type": "text",
    "id": "fNp2wN8I6oJt"
   },
   "source": [
    "And now let's look at the total page numbers by decade."
   ]
  },
  {
   "cell_type": "code",
   "execution_count": 60,
   "metadata": {
    "colab": {},
    "colab_type": "code",
    "id": "uifT8Ocy6oJu"
   },
   "outputs": [
    {
     "data": {
      "image/png": "[encoded data removed]",
      "text/plain": [
       "<Figure size 1440x360 with 1 Axes>"
      ]
     },
     "metadata": {
      "needs_background": "light"
     },
     "output_type": "display_data"
    }
   ],
   "source": [
    "df.groupby(['decade', 'provider'])['pageCount'].agg('sum').unstack()\\\n",
    "    .plot.bar(title='Pages by decade', figsize=(20, 5), fontsize=12, stacked=True);"
   ]
  },
  {
   "cell_type": "markdown",
   "metadata": {},
   "source": [
    "That concludes our look at [bibliographic metadata](./key-terms.ipynb#bibliographic-metadata). Next we'll examine [word frequency](./key-terms.ipynb#word-frequency). \n",
    "___\n",
    "\n",
    "By <a href=\"https://nkelber.com\">Nathan Kelber</a> and Ted Lawless <br />\n",
    "For questions/comments/improvements, email nathan.kelber@ithaka.org."
   ]
  }
 ],
 "metadata": {
  "colab": {
   "name": "2-metadata.ipynb",
   "provenance": [],
   "toc_visible": true
  },
  "kernelspec": {
   "display_name": "Python 3",
   "language": "python",
   "name": "python3"
  },
  "language_info": {
   "codemirror_mode": {
    "name": "ipython",
    "version": 3
   },
   "file_extension": ".py",
   "mimetype": "text/x-python",
   "name": "python",
   "nbconvert_exporter": "python",
   "pygments_lexer": "ipython3",
   "version": "3.7.3"
  }
 },
 "nbformat": 4,
 "nbformat_minor": 4
}
