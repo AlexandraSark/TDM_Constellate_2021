{
 "cells": [
  {
   "cell_type": "markdown",
   "metadata": {},
   "source": [
    "# TDM notebooks\n",
    "\n",
    "This directory contains a set of Jupyter notebooks that demonstrate how to interact with collections curated with the Digital Scholars Workbench using Python.\n"
   ]
  },
  {
   "cell_type": "markdown",
   "metadata": {},
   "source": [
    "\n",
    "### Examples\n",
    "\n",
    "These examples utilize a collection id to download the relevant content and perform analysis. Your collection id is provided in the email you receive after requesting the dataset. The collection id is a long alphanumeric string, for example `5229724e-8574-4723-bf5d-e740cc4ccb56`. \n",
    "\n",
    "For larger collections (greater than 50 issues), these examples may take several minutes to run since the data has to be retrieved from the backend APIs and processed by the code.\n",
    "\n",
    "\n"
   ]
  }
 ],
 "metadata": {
  "kernelspec": {
   "display_name": "Python 3",
   "language": "python",
   "name": "python3"
  },
  "language_info": {
   "codemirror_mode": {
    "name": "ipython",
    "version": 3
   },
   "file_extension": ".py",
   "mimetype": "text/x-python",
   "name": "python",
   "nbconvert_exporter": "python",
   "pygments_lexer": "ipython3",
   "version": "3.7.3"
  }
 },
 "nbformat": 4,
 "nbformat_minor": 4
}
