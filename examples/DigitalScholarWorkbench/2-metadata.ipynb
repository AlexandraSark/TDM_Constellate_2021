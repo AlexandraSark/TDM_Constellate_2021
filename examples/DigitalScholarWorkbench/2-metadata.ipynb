{
 "cells": [
  {
   "cell_type": "markdown",
   "metadata": {},
   "source": [
    "## Explore metadata for a curated dataset\n",
    "\n",
    "This notebook shows how to connect to a curated TDM dataset and explore the metadata."
   ]
  },
  {
   "cell_type": "code",
   "execution_count": 60,
   "metadata": {},
   "outputs": [],
   "source": [
    "import pandas as pd\n",
    "\n",
    "from tdm_client import Dataset"
   ]
  },
  {
   "cell_type": "markdown",
   "metadata": {},
   "source": [
    "Initialize a TDM dataset object with the dataset ID provided by the Digital Scholars Workbench or in the email you received after curating your dataset."
   ]
  },
  {
   "cell_type": "code",
   "execution_count": 61,
   "metadata": {},
   "outputs": [],
   "source": [
    "dset = Dataset('a517ef1f-0794-48e4-bea1-ac4fb8b312b4')"
   ]
  },
  {
   "cell_type": "markdown",
   "metadata": {},
   "source": [
    "Find total number of documents in the dataset. "
   ]
  },
  {
   "cell_type": "code",
   "execution_count": 62,
   "metadata": {
    "scrolled": false
   },
   "outputs": [
    {
     "data": {
      "text/plain": [
       "1000"
      ]
     },
     "execution_count": 62,
     "metadata": {},
     "output_type": "execute_result"
    }
   ],
   "source": [
    "len(dset)"
   ]
  },
  {
   "cell_type": "markdown",
   "metadata": {},
   "source": [
    "After initializing the `Dataset`, the documents in the dataset are downloaded in the background.\n",
    "\n",
    "A list of all of the items in the Dataset is available."
   ]
  },
  {
   "cell_type": "code",
   "execution_count": 63,
   "metadata": {
    "scrolled": true
   },
   "outputs": [
    {
     "data": {
      "text/plain": [
       "['http://www.jstor.org/stable/i40075057',\n",
       " 'http://www.jstor.org/stable/i40103856',\n",
       " 'http://www.jstor.org/stable/i40075051',\n",
       " 'http://www.jstor.org/stable/i40075048',\n",
       " 'http://www.jstor.org/stable/i40075029']"
      ]
     },
     "execution_count": 63,
     "metadata": {},
     "output_type": "execute_result"
    }
   ],
   "source": [
    "dset.items[:5]"
   ]
  },
  {
   "cell_type": "markdown",
   "metadata": {},
   "source": [
    "The document metadata can be retrieved by calling the `get_metadata` method. The metadata is a list of Python dictionaries containing attributes for each document."
   ]
  },
  {
   "cell_type": "code",
   "execution_count": 64,
   "metadata": {},
   "outputs": [],
   "source": [
    "metadata = dset.get_metadata()"
   ]
  },
  {
   "cell_type": "markdown",
   "metadata": {},
   "source": [
    "Print the metadata for the first document in the dataset."
   ]
  },
  {
   "cell_type": "code",
   "execution_count": 65,
   "metadata": {
    "scrolled": true
   },
   "outputs": [
    {
     "name": "stdout",
     "output_type": "stream",
     "text": [
      "{'id': 'http://www.jstor.org/stable/i23675740', 'journalTitle': 'The Shakespeare Association Bulletin', 'pageCount': 29, 'provider': 'jstor', 'title': 'The Shakespeare Association Bulletin volume 3 issue 2', 'wordCount': 22502, 'yearPublished': 1928}\n"
     ]
    }
   ],
   "source": [
    "print(metadata[0])"
   ]
  },
  {
   "cell_type": "markdown",
   "metadata": {},
   "source": [
    "Convert the metadata to a Pandas dataframe to take advantage of its plotting and manipulation functions."
   ]
  },
  {
   "cell_type": "code",
   "execution_count": 66,
   "metadata": {},
   "outputs": [],
   "source": [
    "df = pd.DataFrame(metadata)"
   ]
  },
  {
   "cell_type": "markdown",
   "metadata": {},
   "source": [
    "Print the first 10 rows of the dataframe"
   ]
  },
  {
   "cell_type": "code",
   "execution_count": 67,
   "metadata": {
    "scrolled": true
   },
   "outputs": [
    {
     "data": {
      "text/html": [
       "<div>\n",
       "<style scoped>\n",
       "    .dataframe tbody tr th:only-of-type {\n",
       "        vertical-align: middle;\n",
       "    }\n",
       "\n",
       "    .dataframe tbody tr th {\n",
       "        vertical-align: top;\n",
       "    }\n",
       "\n",
       "    .dataframe thead th {\n",
       "        text-align: right;\n",
       "    }\n",
       "</style>\n",
       "<table border=\"1\" class=\"dataframe\">\n",
       "  <thead>\n",
       "    <tr style=\"text-align: right;\">\n",
       "      <th></th>\n",
       "      <th>id</th>\n",
       "      <th>journalTitle</th>\n",
       "      <th>pageCount</th>\n",
       "      <th>provider</th>\n",
       "      <th>title</th>\n",
       "      <th>wordCount</th>\n",
       "      <th>yearPublished</th>\n",
       "    </tr>\n",
       "  </thead>\n",
       "  <tbody>\n",
       "    <tr>\n",
       "      <th>0</th>\n",
       "      <td>http://www.jstor.org/stable/i23675740</td>\n",
       "      <td>The Shakespeare Association Bulletin</td>\n",
       "      <td>29</td>\n",
       "      <td>jstor</td>\n",
       "      <td>The Shakespeare Association Bulletin volume 3 ...</td>\n",
       "      <td>22502.0</td>\n",
       "      <td>1928</td>\n",
       "    </tr>\n",
       "    <tr>\n",
       "      <th>1</th>\n",
       "      <td>http://www.jstor.org/stable/i247053</td>\n",
       "      <td>Asian Theatre Journal</td>\n",
       "      <td>41</td>\n",
       "      <td>jstor</td>\n",
       "      <td>Asian Theatre Journal volume 5 issue 1</td>\n",
       "      <td>17718.0</td>\n",
       "      <td>1988</td>\n",
       "    </tr>\n",
       "    <tr>\n",
       "      <th>2</th>\n",
       "      <td>http://www.jstor.org/stable/i23917916</td>\n",
       "      <td>Literature and Theology</td>\n",
       "      <td>105</td>\n",
       "      <td>jstor</td>\n",
       "      <td>Literature and Theology volume 12 issue 3</td>\n",
       "      <td>59158.0</td>\n",
       "      <td>1998</td>\n",
       "    </tr>\n",
       "    <tr>\n",
       "      <th>3</th>\n",
       "      <td>http://www.jstor.org/stable/i338524</td>\n",
       "      <td>Shakespeare Quarterly</td>\n",
       "      <td>198</td>\n",
       "      <td>jstor</td>\n",
       "      <td>Shakespeare Quarterly volume 29 issue 2</td>\n",
       "      <td>147913.0</td>\n",
       "      <td>1978</td>\n",
       "    </tr>\n",
       "    <tr>\n",
       "      <th>4</th>\n",
       "      <td>http://www.jstor.org/stable/i338476</td>\n",
       "      <td>Shakespeare Quarterly</td>\n",
       "      <td>71</td>\n",
       "      <td>jstor</td>\n",
       "      <td>Shakespeare Quarterly volume 17 issue 2</td>\n",
       "      <td>35733.0</td>\n",
       "      <td>1966</td>\n",
       "    </tr>\n",
       "  </tbody>\n",
       "</table>\n",
       "</div>"
      ],
      "text/plain": [
       "                                      id  \\\n",
       "0  http://www.jstor.org/stable/i23675740   \n",
       "1    http://www.jstor.org/stable/i247053   \n",
       "2  http://www.jstor.org/stable/i23917916   \n",
       "3    http://www.jstor.org/stable/i338524   \n",
       "4    http://www.jstor.org/stable/i338476   \n",
       "\n",
       "                           journalTitle  pageCount provider  \\\n",
       "0  The Shakespeare Association Bulletin         29    jstor   \n",
       "1                 Asian Theatre Journal         41    jstor   \n",
       "2               Literature and Theology        105    jstor   \n",
       "3                 Shakespeare Quarterly        198    jstor   \n",
       "4                 Shakespeare Quarterly         71    jstor   \n",
       "\n",
       "                                               title  wordCount  yearPublished  \n",
       "0  The Shakespeare Association Bulletin volume 3 ...    22502.0           1928  \n",
       "1             Asian Theatre Journal volume 5 issue 1    17718.0           1988  \n",
       "2          Literature and Theology volume 12 issue 3    59158.0           1998  \n",
       "3            Shakespeare Quarterly volume 29 issue 2   147913.0           1978  \n",
       "4            Shakespeare Quarterly volume 17 issue 2    35733.0           1966  "
      ]
     },
     "execution_count": 67,
     "metadata": {},
     "output_type": "execute_result"
    }
   ],
   "source": [
    "df.head()"
   ]
  },
  {
   "cell_type": "markdown",
   "metadata": {},
   "source": [
    "Find the year range of documents in this dataset"
   ]
  },
  {
   "cell_type": "code",
   "execution_count": 68,
   "metadata": {},
   "outputs": [
    {
     "name": "stdout",
     "output_type": "stream",
     "text": [
      "1902 to 2019\n"
     ]
    }
   ],
   "source": [
    "print('{} to {}'.format(df['yearPublished'].min(), df['yearPublished'].max()))"
   ]
  },
  {
   "cell_type": "markdown",
   "metadata": {},
   "source": [
    "Now do some preliminary analysis. Let's say you want to plot the number of volumes by decade in the sample set. \n",
    "\n",
    "Since `decade` isn't a value in our dataset, we need to add it to the dataframe. This can be done wiht the following step."
   ]
  },
  {
   "cell_type": "code",
   "execution_count": 69,
   "metadata": {},
   "outputs": [],
   "source": [
    "df['decade'] = df['yearPublished'] - ( df['yearPublished'] % 10)"
   ]
  },
  {
   "cell_type": "markdown",
   "metadata": {},
   "source": [
    "Print the first 10 rows of the dataframe again to see how the column was applied."
   ]
  },
  {
   "cell_type": "code",
   "execution_count": 70,
   "metadata": {
    "scrolled": true
   },
   "outputs": [
    {
     "data": {
      "text/html": [
       "<div>\n",
       "<style scoped>\n",
       "    .dataframe tbody tr th:only-of-type {\n",
       "        vertical-align: middle;\n",
       "    }\n",
       "\n",
       "    .dataframe tbody tr th {\n",
       "        vertical-align: top;\n",
       "    }\n",
       "\n",
       "    .dataframe thead th {\n",
       "        text-align: right;\n",
       "    }\n",
       "</style>\n",
       "<table border=\"1\" class=\"dataframe\">\n",
       "  <thead>\n",
       "    <tr style=\"text-align: right;\">\n",
       "      <th></th>\n",
       "      <th>id</th>\n",
       "      <th>journalTitle</th>\n",
       "      <th>pageCount</th>\n",
       "      <th>provider</th>\n",
       "      <th>title</th>\n",
       "      <th>wordCount</th>\n",
       "      <th>yearPublished</th>\n",
       "      <th>decade</th>\n",
       "    </tr>\n",
       "  </thead>\n",
       "  <tbody>\n",
       "    <tr>\n",
       "      <th>0</th>\n",
       "      <td>http://www.jstor.org/stable/i23675740</td>\n",
       "      <td>The Shakespeare Association Bulletin</td>\n",
       "      <td>29</td>\n",
       "      <td>jstor</td>\n",
       "      <td>The Shakespeare Association Bulletin volume 3 ...</td>\n",
       "      <td>22502.0</td>\n",
       "      <td>1928</td>\n",
       "      <td>1920</td>\n",
       "    </tr>\n",
       "    <tr>\n",
       "      <th>1</th>\n",
       "      <td>http://www.jstor.org/stable/i247053</td>\n",
       "      <td>Asian Theatre Journal</td>\n",
       "      <td>41</td>\n",
       "      <td>jstor</td>\n",
       "      <td>Asian Theatre Journal volume 5 issue 1</td>\n",
       "      <td>17718.0</td>\n",
       "      <td>1988</td>\n",
       "      <td>1980</td>\n",
       "    </tr>\n",
       "    <tr>\n",
       "      <th>2</th>\n",
       "      <td>http://www.jstor.org/stable/i23917916</td>\n",
       "      <td>Literature and Theology</td>\n",
       "      <td>105</td>\n",
       "      <td>jstor</td>\n",
       "      <td>Literature and Theology volume 12 issue 3</td>\n",
       "      <td>59158.0</td>\n",
       "      <td>1998</td>\n",
       "      <td>1990</td>\n",
       "    </tr>\n",
       "    <tr>\n",
       "      <th>3</th>\n",
       "      <td>http://www.jstor.org/stable/i338524</td>\n",
       "      <td>Shakespeare Quarterly</td>\n",
       "      <td>198</td>\n",
       "      <td>jstor</td>\n",
       "      <td>Shakespeare Quarterly volume 29 issue 2</td>\n",
       "      <td>147913.0</td>\n",
       "      <td>1978</td>\n",
       "      <td>1970</td>\n",
       "    </tr>\n",
       "    <tr>\n",
       "      <th>4</th>\n",
       "      <td>http://www.jstor.org/stable/i338476</td>\n",
       "      <td>Shakespeare Quarterly</td>\n",
       "      <td>71</td>\n",
       "      <td>jstor</td>\n",
       "      <td>Shakespeare Quarterly volume 17 issue 2</td>\n",
       "      <td>35733.0</td>\n",
       "      <td>1966</td>\n",
       "      <td>1960</td>\n",
       "    </tr>\n",
       "  </tbody>\n",
       "</table>\n",
       "</div>"
      ],
      "text/plain": [
       "                                      id  \\\n",
       "0  http://www.jstor.org/stable/i23675740   \n",
       "1    http://www.jstor.org/stable/i247053   \n",
       "2  http://www.jstor.org/stable/i23917916   \n",
       "3    http://www.jstor.org/stable/i338524   \n",
       "4    http://www.jstor.org/stable/i338476   \n",
       "\n",
       "                           journalTitle  pageCount provider  \\\n",
       "0  The Shakespeare Association Bulletin         29    jstor   \n",
       "1                 Asian Theatre Journal         41    jstor   \n",
       "2               Literature and Theology        105    jstor   \n",
       "3                 Shakespeare Quarterly        198    jstor   \n",
       "4                 Shakespeare Quarterly         71    jstor   \n",
       "\n",
       "                                               title  wordCount  \\\n",
       "0  The Shakespeare Association Bulletin volume 3 ...    22502.0   \n",
       "1             Asian Theatre Journal volume 5 issue 1    17718.0   \n",
       "2          Literature and Theology volume 12 issue 3    59158.0   \n",
       "3            Shakespeare Quarterly volume 29 issue 2   147913.0   \n",
       "4            Shakespeare Quarterly volume 17 issue 2    35733.0   \n",
       "\n",
       "   yearPublished  decade  \n",
       "0           1928    1920  \n",
       "1           1988    1980  \n",
       "2           1998    1990  \n",
       "3           1978    1970  \n",
       "4           1966    1960  "
      ]
     },
     "execution_count": 70,
     "metadata": {},
     "output_type": "execute_result"
    }
   ],
   "source": [
    "df.head()"
   ]
  },
  {
   "cell_type": "markdown",
   "metadata": {},
   "source": [
    "Now use the built in plotting tools of Pandas to plot the number of issues from each provider by decade."
   ]
  },
  {
   "cell_type": "code",
   "execution_count": 71,
   "metadata": {},
   "outputs": [
    {
     "data": {
      "image/png": "[encoded data removed]",
      "text/plain": [
       "<Figure size 1440x360 with 1 Axes>"
      ]
     },
     "metadata": {
      "needs_background": "light"
     },
     "output_type": "display_data"
    }
   ],
   "source": [
    "df.groupby(['decade', 'provider'])['id'].agg('count').unstack()\\\n",
    "    .plot.bar(title='Issues by decade', figsize=(20, 5), fontsize=12, stacked=True);"
   ]
  },
  {
   "cell_type": "markdown",
   "metadata": {},
   "source": [
    "And do the same for the total number of pages."
   ]
  },
  {
   "cell_type": "code",
   "execution_count": 72,
   "metadata": {},
   "outputs": [
    {
     "data": {
      "image/png": "[encoded data removed]",
      "text/plain": [
       "<Figure size 1440x360 with 1 Axes>"
      ]
     },
     "metadata": {
      "needs_background": "light"
     },
     "output_type": "display_data"
    }
   ],
   "source": [
    "df.groupby(['decade', 'provider'])['pageCount'].agg('sum').unstack()\\\n",
    "    .plot.bar(title='Pages by decade', figsize=(20, 5), fontsize=12, stacked=True);"
   ]
  }
 ],
 "metadata": {
  "kernelspec": {
   "display_name": "Python 3",
   "language": "python",
   "name": "python3"
  },
  "language_info": {
   "codemirror_mode": {
    "name": "ipython",
    "version": 3
   },
   "file_extension": ".py",
   "mimetype": "text/x-python",
   "name": "python",
   "nbconvert_exporter": "python",
   "pygments_lexer": "ipython3",
   "version": "3.6.6"
  }
 },
 "nbformat": 4,
 "nbformat_minor": 2
}
