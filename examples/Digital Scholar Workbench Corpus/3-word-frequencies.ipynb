{
 "cells": [
  {
   "cell_type": "markdown",
   "metadata": {},
   "source": [
    "## Explore word frequencies for a curated collection\n",
    "\n",
    "This notebook shows how to connect to a curated TDM dataset and explore the metadata."
   ]
  },
  {
   "cell_type": "code",
   "execution_count": 1,
   "metadata": {},
   "outputs": [],
   "source": [
    "from collections import Counter\n",
    "\n",
    "import pandas as pd\n",
    "from nltk.corpus import stopwords\n",
    "\n",
    "from tdm_core.client import Dataset\n",
    "from tdm_core.text import extracted_features_to_counter, filtered_token"
   ]
  },
  {
   "cell_type": "markdown",
   "metadata": {},
   "source": [
    "Initialize a TDM dataset object with the collection ID provided en the email you received after curating your collection in the Digital Scholars Workbench."
   ]
  },
  {
   "cell_type": "code",
   "execution_count": 2,
   "metadata": {},
   "outputs": [],
   "source": [
    "dset = Dataset('bb3d938b-bc61-4c2c-a21c-9a4f102035c8')"
   ]
  },
  {
   "cell_type": "markdown",
   "metadata": {},
   "source": [
    "Find total number of documents in the dataset. "
   ]
  },
  {
   "cell_type": "code",
   "execution_count": 3,
   "metadata": {
    "scrolled": true
   },
   "outputs": [
    {
     "data": {
      "text/plain": [
       "61"
      ]
     },
     "execution_count": 3,
     "metadata": {},
     "output_type": "execute_result"
    }
   ],
   "source": [
    "len(dset)"
   ]
  },
  {
   "cell_type": "markdown",
   "metadata": {},
   "source": [
    "Lets examine frequent words for a volume in the collection. "
   ]
  },
  {
   "cell_type": "code",
   "execution_count": 4,
   "metadata": {},
   "outputs": [],
   "source": [
    "volume = dset.get(dset.items[40])"
   ]
  },
  {
   "cell_type": "code",
   "execution_count": 5,
   "metadata": {},
   "outputs": [],
   "source": [
    "meta = [e for e in volume['metadata'] if e['@type'] == 'PublicationIssue'][0]"
   ]
  },
  {
   "cell_type": "code",
   "execution_count": 6,
   "metadata": {},
   "outputs": [
    {
     "name": "stdout",
     "output_type": "stream",
     "text": [
      "http://www.jstor.org/stable/i25091409\n",
      "The Massachusetts Review volume 39 issue 2\n",
      "1998-07-01\n"
     ]
    }
   ],
   "source": [
    "print(\"\\n\".join([\n",
    "    meta['@id'], \n",
    "    meta.get('name') or meta.get('title'), \n",
    "    str(meta['datePublished']['@value'])\n",
    "]))"
   ]
  },
  {
   "cell_type": "code",
   "execution_count": 7,
   "metadata": {},
   "outputs": [],
   "source": [
    "word_freq = Counter()\n",
    "for page in volume['features']['pages']:\n",
    "    body = page['body']\n",
    "    if body is None:\n",
    "        continue\n",
    "    for token, pos in body['tokenPosCount'].items():\n",
    "        word_freq[token] += 1"
   ]
  },
  {
   "cell_type": "code",
   "execution_count": 8,
   "metadata": {
    "scrolled": true
   },
   "outputs": [
    {
     "name": "stdout",
     "output_type": "stream",
     "text": [
      "the                            153\n",
      "and                            149\n",
      ",                              148\n",
      "of                             146\n",
      ".                              145\n",
      "a                              144\n",
      "to                             141\n",
      "in                             141\n",
      "I                              114\n",
      "on                             113\n",
      "for                            113\n",
      "it                             108\n",
      "'s                             108\n",
      "that                           108\n",
      "with                           107\n",
      "The                            106\n",
      "at                             105\n",
      "?                              105\n",
      "as                             103\n",
      "\"                              103\n",
      "by                             99\n",
      "his                            99\n",
      "was                            98\n",
      ":                              97\n",
      "from                           92\n"
     ]
    }
   ],
   "source": [
    "for token, count in word_freq.most_common(25):\n",
    "    print(token.ljust(30), count)"
   ]
  },
  {
   "cell_type": "markdown",
   "metadata": {},
   "source": [
    "There is a lot of noise in these unigrams - mixed case, punctuation, and very common words. Let's use NLTK's stopwords and a couple of simple transformations to make a cleaner word frequency list."
   ]
  },
  {
   "cell_type": "code",
   "execution_count": 9,
   "metadata": {},
   "outputs": [],
   "source": [
    "stop_words = set(stopwords.words('english'))"
   ]
  },
  {
   "cell_type": "code",
   "execution_count": 10,
   "metadata": {},
   "outputs": [],
   "source": [
    "word_freq = Counter()\n",
    "for page in volume['features']['pages']:\n",
    "    body = page['body']\n",
    "    if body is None:\n",
    "        continue\n",
    "    for token, pos in body['tokenPosCount'].items():\n",
    "        # require tokens to be 4+ characters\n",
    "        if len(token) < 4:\n",
    "            continue\n",
    "        # require tokens to be alphabetical\n",
    "        if not token.isalpha():\n",
    "            continue\n",
    "        # lower case\n",
    "        t = token.lower()\n",
    "        if t in stop_words:\n",
    "            continue\n",
    "        word_freq[t] += 1"
   ]
  },
  {
   "cell_type": "code",
   "execution_count": 11,
   "metadata": {},
   "outputs": [
    {
     "name": "stdout",
     "output_type": "stream",
     "text": [
      "like                           69\n",
      "would                          62\n",
      "time                           54\n",
      "years                          50\n",
      "first                          46\n",
      "could                          46\n",
      "ginsberg                       45\n",
      "poetry                         44\n",
      "poet                           44\n",
      "people                         44\n",
      "poem                           43\n",
      "said                           43\n",
      "back                           42\n",
      "later                          40\n",
      "poems                          38\n",
      "allen                          37\n",
      "life                           37\n",
      "long                           37\n",
      "much                           36\n",
      "around                         36\n",
      "good                           34\n",
      "frost                          33\n",
      "little                         33\n",
      "never                          33\n",
      "know                           32\n"
     ]
    }
   ],
   "source": [
    "for token, count in word_freq.most_common(25):\n",
    "    print(token.ljust(30), count)"
   ]
  },
  {
   "cell_type": "code",
   "execution_count": null,
   "metadata": {},
   "outputs": [],
   "source": []
  }
 ],
 "metadata": {
  "kernelspec": {
   "display_name": "Python 3",
   "language": "python",
   "name": "python3"
  },
  "language_info": {
   "codemirror_mode": {
    "name": "ipython",
    "version": 3
   },
   "file_extension": ".py",
   "mimetype": "text/x-python",
   "name": "python",
   "nbconvert_exporter": "python",
   "pygments_lexer": "ipython3",
   "version": "3.6.6"
  }
 },
 "nbformat": 4,
 "nbformat_minor": 2
}
