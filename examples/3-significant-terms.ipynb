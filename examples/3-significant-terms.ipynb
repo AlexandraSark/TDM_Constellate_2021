{
 "cells": [
  {
   "cell_type": "markdown",
   "metadata": {},
   "source": [
    "# Finding significant words within a curated dataset\n",
    "\n",
    "This example uses the [`gensim`](https://radimrehurek.com/gensim/index.html) library for calculating [TFIDF](https://en.wikipedia.org/wiki/Tf%E2%80%93idf)"
   ]
  },
  {
   "cell_type": "code",
   "execution_count": 1,
   "metadata": {},
   "outputs": [],
   "source": [
    "import warnings\n",
    "warnings.filterwarnings('ignore')\n",
    "\n",
    "from tdm_core.client import Dataset\n",
    "from tdm_core.text import htrc_corrections, htrc_stopwords\n",
    "\n",
    "import gensim"
   ]
  },
  {
   "cell_type": "markdown",
   "metadata": {},
   "source": [
    "Initialize a dataset object. "
   ]
  },
  {
   "cell_type": "code",
   "execution_count": 2,
   "metadata": {
    "scrolled": false
   },
   "outputs": [],
   "source": [
    "dset = Dataset('bb3d938b-bc61-4c2c-a21c-9a4f102035c8')"
   ]
  },
  {
   "cell_type": "code",
   "execution_count": 3,
   "metadata": {
    "scrolled": true
   },
   "outputs": [
    {
     "data": {
      "text/plain": [
       "61"
      ]
     },
     "execution_count": 3,
     "metadata": {},
     "output_type": "execute_result"
    }
   ],
   "source": [
    "len(dset)"
   ]
  },
  {
   "cell_type": "code",
   "execution_count": 4,
   "metadata": {
    "scrolled": true
   },
   "outputs": [
    {
     "data": {
      "text/plain": [
       "'q=%22walt%20whitman%22%20brooklyn&fq=yearPublished%3A%5B1700%20TO%202019%5D&fq=outputFormat%3Aunigrams'"
      ]
     },
     "execution_count": 4,
     "metadata": {},
     "output_type": "execute_result"
    }
   ],
   "source": [
    "dset.query()"
   ]
  },
  {
   "cell_type": "markdown",
   "metadata": {},
   "source": [
    "Create a helper function for cleaning the individual tokens in the dataset. This function:\n",
    "* lower cases all tokens\n",
    "* uses an HTRC dictionary to correct common OCR problems\n",
    "* discards tokens less than 4 characters in length\n",
    "* discards tokens with non-alphabetical tokens\n",
    "* removes stopwords from the HTC stopword list"
   ]
  },
  {
   "cell_type": "code",
   "execution_count": 5,
   "metadata": {},
   "outputs": [],
   "source": [
    "def process_token(token):\n",
    "    token = token.lower()\n",
    "    corrected = htrc_corrections.get(token)\n",
    "    if corrected is not None:\n",
    "        token = corrected\n",
    "    if len(token) < 4:\n",
    "        return\n",
    "    if not(token.isalpha()):\n",
    "        return\n",
    "    return token"
   ]
  },
  {
   "cell_type": "code",
   "execution_count": 9,
   "metadata": {},
   "outputs": [],
   "source": [
    "documents = []\n",
    "\n",
    "for doc_n, volume in enumerate(dset):\n",
    "    this_doc = []\n",
    "    try:\n",
    "        pages = volume['features']['pages']\n",
    "    except KeyError:\n",
    "        continue\n",
    "    for pn, page in enumerate(pages):\n",
    "        body = page.get('body')\n",
    "        if body is not None:\n",
    "            for token, pos_count in body.get('tokenPosCount', {}).items():\n",
    "                clean_token = process_token(token)\n",
    "                if clean_token is None:\n",
    "                    continue\n",
    "                for pos, n in pos_count.items():\n",
    "                    this_doc += [clean_token] * n\n",
    "    documents.append(this_doc)\n",
    "                    "
   ]
  },
  {
   "cell_type": "code",
   "execution_count": 10,
   "metadata": {},
   "outputs": [],
   "source": [
    "dictionary = gensim.corpora.Dictionary(documents)"
   ]
  },
  {
   "cell_type": "code",
   "execution_count": 11,
   "metadata": {},
   "outputs": [],
   "source": [
    "bow_corpus = [dictionary.doc2bow(doc) for doc in documents]"
   ]
  },
  {
   "cell_type": "code",
   "execution_count": 12,
   "metadata": {},
   "outputs": [],
   "source": [
    "model = gensim.models.TfidfModel(bow_corpus)"
   ]
  },
  {
   "cell_type": "code",
   "execution_count": 13,
   "metadata": {},
   "outputs": [],
   "source": [
    "corpus_tfidf = model[bow_corpus]"
   ]
  },
  {
   "cell_type": "markdown",
   "metadata": {},
   "source": [
    "Find the most significant terms, by TFIDF, in the curated dataset. "
   ]
  },
  {
   "cell_type": "code",
   "execution_count": 14,
   "metadata": {},
   "outputs": [],
   "source": [
    "td = {\n",
    "        dictionary.get(_id): value for doc in corpus_tfidf\n",
    "        for _id, value in doc\n",
    "    }\n",
    "sorted_td = sorted(td.items(), key=lambda kv: kv[1], reverse=True)"
   ]
  },
  {
   "cell_type": "code",
   "execution_count": 15,
   "metadata": {
    "scrolled": true
   },
   "outputs": [
    {
     "name": "stdout",
     "output_type": "stream",
     "text": [
      "mcadie 0.7787276861573577\n",
      "cantrell 0.7549777890095891\n",
      "pudney 0.63605417970789\n",
      "sahitya 0.5273050613229457\n",
      "lanyer 0.4967422716248303\n",
      "titelbaum 0.49005434929015723\n",
      "delgado 0.464262015116991\n",
      "marlin 0.4617810095938151\n",
      "wilhams 0.46074722820884134\n",
      "rosi 0.4384985587853527\n"
     ]
    }
   ],
   "source": [
    "for term, weight in sorted_td[:10]:\n",
    "    print(term, weight)"
   ]
  },
  {
   "cell_type": "markdown",
   "metadata": {},
   "source": [
    "Print the most significant word, by TFIDF, for each document in the corpus. "
   ]
  },
  {
   "cell_type": "code",
   "execution_count": 16,
   "metadata": {},
   "outputs": [
    {
     "name": "stdout",
     "output_type": "stream",
     "text": [
      "http://hdl.handle.net/2027/uc1.b4880650 sahitya 0.5273050613229457\n",
      "http://hdl.handle.net/2027/mdp.39076006733898 lamartine 0.3900976840324696\n",
      "http://hdl.handle.net/2027/uc1.32106002083555 superintendent 0.4646221961996292\n",
      "http://hdl.handle.net/2027/uva.x000926626 prietos 0.27052455371978007\n",
      "http://hdl.handle.net/2027/nyp.33433082396866 balzac 0.17697208056045913\n",
      "http://hdl.handle.net/2027/mdp.39015030718087 feisal 0.18675094639439566\n",
      "http://hdl.handle.net/2027/uc2.ark:/13960/t1xd0rw0b powys 0.9090784780355294\n",
      "http://hdl.handle.net/2027/mdp.39015019763518 conservatory 0.25557880084144774\n",
      "http://hdl.handle.net/2027/mdp.49015000556002 murine 0.2606232188631184\n",
      "http://hdl.handle.net/2027/mdp.39015025045207 lanyer 0.4967422716248303\n",
      "http://hdl.handle.net/2027/uc2.ark:/13960/fk2q52ff8n congreve 0.32575462864142546\n",
      "http://hdl.handle.net/2027/mdp.39015059999972 pudney 0.63605417970789\n",
      "http://hdl.handle.net/2027/mdp.39015030718079 phrenology 0.4328614462032251\n",
      "http://hdl.handle.net/2027/mdp.39015014856416 howells 0.3661523244889836\n",
      "http://www.jstor.org/stable/i26460624 masaryk 0.3270801173246054\n",
      "http://www.jstor.org/stable/i301398 deeker 0.39879601617210975\n",
      "http://www.jstor.org/stable/i40038366 kennedy 0.340464684329662\n",
      "http://www.jstor.org/stable/i25118385 rosi 0.4384985587853527\n",
      "http://www.jstor.org/stable/i403422 hank 0.3000449337526175\n",
      "http://www.jstor.org/stable/i25751528 ginsberg 0.4654537489349163\n",
      "http://www.jstor.org/stable/i20604044 wilhams 0.46074722820884134\n",
      "http://www.jstor.org/stable/i23329232 barlow 0.6449993685837735\n",
      "http://www.jstor.org/stable/i20572102 titelbaum 0.49005434929015723\n",
      "http://www.jstor.org/stable/i40168263 homosexual 0.4172686513190577\n",
      "http://www.jstor.org/stable/i20683816 cantrell 0.7549777890095891\n",
      "http://www.jstor.org/stable/i219519 wolfe 0.6495045534667359\n",
      "http://www.jstor.org/stable/i25120501 mcadie 0.7787276861573577\n",
      "http://www.jstor.org/stable/i26106398 mather 0.19721402555784853\n",
      "http://www.jstor.org/stable/i40168559 metamora 0.3773932667909272\n",
      "http://www.jstor.org/stable/i40107559 howells 0.41500498251595647\n",
      "http://www.jstor.org/stable/i30030138 howells 0.4777079859527958\n",
      "http://www.jstor.org/stable/i219573 sewall 0.3693713258562802\n",
      "http://www.jstor.org/stable/i26441175 odin 0.2924040301650569\n",
      "http://www.jstor.org/stable/i347005 marlin 0.4617810095938151\n",
      "http://www.jstor.org/stable/i347091 cheever 0.8275356366847244\n",
      "http://www.jstor.org/stable/i26438866 ncte 0.2666870797530529\n",
      "http://www.jstor.org/stable/i403777 osgood 0.2543198802211239\n",
      "http://www.jstor.org/stable/i27532965 slinger 0.3722716657754353\n",
      "http://www.jstor.org/stable/i40136633 ncte 0.30588290807741364\n",
      "http://www.jstor.org/stable/i347051 maragall 0.19177904789318104\n"
     ]
    }
   ],
   "source": [
    "for n, doc in enumerate(corpus_tfidf):\n",
    "    word_id, score = max(doc, key=lambda x: x[1])\n",
    "    print(dset.items[n], dictionary.get(word_id), score)"
   ]
  },
  {
   "cell_type": "code",
   "execution_count": null,
   "metadata": {},
   "outputs": [],
   "source": []
  }
 ],
 "metadata": {
  "kernelspec": {
   "display_name": "Python 3",
   "language": "python",
   "name": "python3"
  },
  "language_info": {
   "codemirror_mode": {
    "name": "ipython",
    "version": 3
   },
   "file_extension": ".py",
   "mimetype": "text/x-python",
   "name": "python",
   "nbconvert_exporter": "python",
   "pygments_lexer": "ipython3",
   "version": "3.6.6"
  }
 },
 "nbformat": 4,
 "nbformat_minor": 2
}
